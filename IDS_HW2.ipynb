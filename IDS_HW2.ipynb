{
 "cells": [
  {
   "cell_type": "markdown",
   "metadata": {},
   "source": [
    "## Skoltech\n",
    "## Intro to data science, fall 2020\n",
    "## Assigment 2\n",
    "\n",
    "### Goals\n",
    "- Make exploratory data analysis\n",
    "- Apply feature engineering and feature selection\n",
    "- Try to solve classification task and use classification performance metrics\n",
    "- Get the taste of gradient boosting approach\n",
    "\n",
    "\n",
    "# Submiting the answers\n",
    "\n",
    "Google form to submit your answers: https://docs.google.com/forms/d/1zwUO1KZNDTZYuD12dyMO3CaErGHnZuHx1Mdbo-c11ME/\n",
    "\n",
    "Use your **skoltech email**. For Name, Surname use **exactly the same spelling** as in canvas system.\n",
    "\n",
    "---\n",
    "\n",
    "If your answer is a ``float number``, then it must be provided with **3 decimals after the floating point**, e.g. 1.234\n",
    "\n",
    "---\n",
    "\n",
    "If your answer is a ``list of float or integer numbers or str``, then they should be reported in descending (alphabetical) order,  divided by a comma, e.g.:\n",
    "\n",
    "10.453,9.112,5.001,5.000\n",
    "\n",
    "---\n",
    "\n",
    "The last part (Q5) do not have corresponding fields in the google form. It is **not optional** and it will be graded manually from your .ipynb file.\n",
    "\n",
    "---\n",
    "\n",
    "If you have any questions regarding this Home Assignment, ask them piazza topic: https://piazza.com/class/kespugtqfrn12g?cid=29"
   ]
  },
  {
   "cell_type": "markdown",
   "metadata": {},
   "source": [
    "#### Import basic libraries"
   ]
  },
  {
   "cell_type": "code",
   "execution_count": 1879,
   "metadata": {
    "id": "IxQ5oO5xbtyW"
   },
   "outputs": [],
   "source": [
    "import pandas as pd\n",
    "import numpy as np\n",
    "import matplotlib.pyplot as plt\n",
    "%matplotlib inline\n",
    "import seaborn as sns\n",
    "sns.set()"
   ]
  },
  {
   "cell_type": "markdown",
   "metadata": {},
   "source": [
    "### Dataset\n",
    "For the task we'll use kickstarter dataset. Kickstarter is the crowdfounding platform, where people can announce their project with financial goals and other can support the projects by paying the money (\"pledging\"). The goal will be to predict if the project will be successfull, i.e. would it achieve the funding goal. Let's take a brief look to the dataset."
   ]
  },
  {
   "cell_type": "code",
   "execution_count": 1880,
   "metadata": {
    "id": "mBWPB2ajcTnj"
   },
   "outputs": [],
   "source": [
    "df = pd.read_csv('ks-projects-201801.csv')\n",
    "df.set_index(\"ID\", inplace=True)"
   ]
  },
  {
   "cell_type": "code",
   "execution_count": 1881,
   "metadata": {
    "colab": {
     "base_uri": "https://localhost:8080/",
     "height": 431
    },
    "id": "bA52wUNelGmZ",
    "outputId": "2258994a-956f-47fd-e295-7ecda8077687"
   },
   "outputs": [
    {
     "data": {
      "text/html": [
       "<div>\n",
       "<style scoped>\n",
       "    .dataframe tbody tr th:only-of-type {\n",
       "        vertical-align: middle;\n",
       "    }\n",
       "\n",
       "    .dataframe tbody tr th {\n",
       "        vertical-align: top;\n",
       "    }\n",
       "\n",
       "    .dataframe thead th {\n",
       "        text-align: right;\n",
       "    }\n",
       "</style>\n",
       "<table border=\"1\" class=\"dataframe\">\n",
       "  <thead>\n",
       "    <tr style=\"text-align: right;\">\n",
       "      <th></th>\n",
       "      <th>name</th>\n",
       "      <th>category</th>\n",
       "      <th>main_category</th>\n",
       "      <th>currency</th>\n",
       "      <th>deadline</th>\n",
       "      <th>goal</th>\n",
       "      <th>launched</th>\n",
       "      <th>pledged</th>\n",
       "      <th>state</th>\n",
       "      <th>backers</th>\n",
       "      <th>country</th>\n",
       "      <th>usd pledged</th>\n",
       "      <th>usd_pledged_real</th>\n",
       "      <th>usd_goal_real</th>\n",
       "    </tr>\n",
       "    <tr>\n",
       "      <th>ID</th>\n",
       "      <th></th>\n",
       "      <th></th>\n",
       "      <th></th>\n",
       "      <th></th>\n",
       "      <th></th>\n",
       "      <th></th>\n",
       "      <th></th>\n",
       "      <th></th>\n",
       "      <th></th>\n",
       "      <th></th>\n",
       "      <th></th>\n",
       "      <th></th>\n",
       "      <th></th>\n",
       "      <th></th>\n",
       "    </tr>\n",
       "  </thead>\n",
       "  <tbody>\n",
       "    <tr>\n",
       "      <th>1240772139</th>\n",
       "      <td>Learn fashion design with the SnapFashun onlin...</td>\n",
       "      <td>Fashion</td>\n",
       "      <td>Fashion</td>\n",
       "      <td>CAD</td>\n",
       "      <td>2016-03-16</td>\n",
       "      <td>20000.0</td>\n",
       "      <td>2016-02-15 13:46:00</td>\n",
       "      <td>723.0</td>\n",
       "      <td>failed</td>\n",
       "      <td>10</td>\n",
       "      <td>CA</td>\n",
       "      <td>522.05</td>\n",
       "      <td>557.53</td>\n",
       "      <td>15422.58</td>\n",
       "    </tr>\n",
       "    <tr>\n",
       "      <th>302922572</th>\n",
       "      <td>Digital Sisterhood Part 2</td>\n",
       "      <td>Nonfiction</td>\n",
       "      <td>Publishing</td>\n",
       "      <td>USD</td>\n",
       "      <td>2011-06-28</td>\n",
       "      <td>500.0</td>\n",
       "      <td>2011-03-30 22:38:46</td>\n",
       "      <td>701.0</td>\n",
       "      <td>successful</td>\n",
       "      <td>28</td>\n",
       "      <td>US</td>\n",
       "      <td>701.00</td>\n",
       "      <td>701.00</td>\n",
       "      <td>500.00</td>\n",
       "    </tr>\n",
       "    <tr>\n",
       "      <th>452797454</th>\n",
       "      <td>HUMANITY STRONG COLLECTION</td>\n",
       "      <td>Apparel</td>\n",
       "      <td>Fashion</td>\n",
       "      <td>CAD</td>\n",
       "      <td>2017-10-08</td>\n",
       "      <td>10000.0</td>\n",
       "      <td>2017-09-08 17:47:39</td>\n",
       "      <td>340.0</td>\n",
       "      <td>canceled</td>\n",
       "      <td>2</td>\n",
       "      <td>CA</td>\n",
       "      <td>278.01</td>\n",
       "      <td>272.02</td>\n",
       "      <td>8000.64</td>\n",
       "    </tr>\n",
       "  </tbody>\n",
       "</table>\n",
       "</div>"
      ],
      "text/plain": [
       "                                                         name    category  \\\n",
       "ID                                                                          \n",
       "1240772139  Learn fashion design with the SnapFashun onlin...     Fashion   \n",
       "302922572                          Digital Sisterhood Part 2   Nonfiction   \n",
       "452797454                          HUMANITY STRONG COLLECTION     Apparel   \n",
       "\n",
       "           main_category currency    deadline     goal             launched  \\\n",
       "ID                                                                            \n",
       "1240772139       Fashion      CAD  2016-03-16  20000.0  2016-02-15 13:46:00   \n",
       "302922572     Publishing      USD  2011-06-28    500.0  2011-03-30 22:38:46   \n",
       "452797454        Fashion      CAD  2017-10-08  10000.0  2017-09-08 17:47:39   \n",
       "\n",
       "            pledged       state  backers country  usd pledged  \\\n",
       "ID                                                              \n",
       "1240772139    723.0      failed       10      CA       522.05   \n",
       "302922572     701.0  successful       28      US       701.00   \n",
       "452797454     340.0    canceled        2      CA       278.01   \n",
       "\n",
       "            usd_pledged_real  usd_goal_real  \n",
       "ID                                           \n",
       "1240772139            557.53       15422.58  \n",
       "302922572             701.00         500.00  \n",
       "452797454             272.02        8000.64  "
      ]
     },
     "execution_count": 1881,
     "metadata": {},
     "output_type": "execute_result"
    }
   ],
   "source": [
    "df.sample(3)"
   ]
  },
  {
   "cell_type": "code",
   "execution_count": 1882,
   "metadata": {},
   "outputs": [
    {
     "data": {
      "text/plain": [
       "(378661, 14)"
      ]
     },
     "execution_count": 1882,
     "metadata": {},
     "output_type": "execute_result"
    }
   ],
   "source": [
    "df.shape"
   ]
  },
  {
   "cell_type": "code",
   "execution_count": 1883,
   "metadata": {},
   "outputs": [
    {
     "data": {
      "text/plain": [
       "failed        197719\n",
       "successful    133956\n",
       "canceled       38779\n",
       "undefined       3562\n",
       "live            2799\n",
       "suspended       1846\n",
       "Name: state, dtype: int64"
      ]
     },
     "execution_count": 1883,
     "metadata": {},
     "output_type": "execute_result"
    }
   ],
   "source": [
    "df.state.value_counts()"
   ]
  },
  {
   "cell_type": "markdown",
   "metadata": {},
   "source": [
    "# Section 1. Dataset acquaintance"
   ]
  },
  {
   "cell_type": "markdown",
   "metadata": {},
   "source": [
    "### Q1.1\n",
    "\n",
    "#### How many NaN values are there in the dataset?"
   ]
  },
  {
   "cell_type": "code",
   "execution_count": 1884,
   "metadata": {},
   "outputs": [
    {
     "name": "stdout",
     "output_type": "stream",
     "text": [
      "        nans= 3801\n"
     ]
    }
   ],
   "source": [
    "nans = df.isnull().sum().sum()\n",
    "print('        nans=',nans)\n",
    "df = df.dropna()"
   ]
  },
  {
   "cell_type": "code",
   "execution_count": 1885,
   "metadata": {},
   "outputs": [
    {
     "name": "stdout",
     "output_type": "stream",
     "text": [
      "        nans= 0\n"
     ]
    }
   ],
   "source": [
    "nans = df.isnull().sum().sum()\n",
    "print('        nans=',nans)"
   ]
  },
  {
   "cell_type": "code",
   "execution_count": 1886,
   "metadata": {},
   "outputs": [
    {
     "data": {
      "text/plain": [
       "(374860, 14)"
      ]
     },
     "execution_count": 1886,
     "metadata": {},
     "output_type": "execute_result"
    }
   ],
   "source": [
    "df.shape"
   ]
  },
  {
   "cell_type": "markdown",
   "metadata": {},
   "source": [
    "Let us simplify the task a little bit: we are aiming to predict either project fails or not.\n",
    "Thus 'success' projects will be encoded as 1, with state ['failed', 'canceled'] as 0 and we remove the rows with any other state.\n",
    "\n",
    "### Q1.2 \n",
    "#### How many '1' values are in resulting dataset (in state column)?"
   ]
  },
  {
   "cell_type": "code",
   "execution_count": 1887,
   "metadata": {},
   "outputs": [
    {
     "name": "stdout",
     "output_type": "stream",
     "text": [
      "shape = (370219, 14)\n",
      "failed        197611\n",
      "successful    133851\n",
      "canceled       38757\n",
      "Name: state, dtype: int64\n"
     ]
    }
   ],
   "source": [
    "df = df.drop(df[df.state == 'suspended'].index) # delete rows with state 'suspended'\n",
    "df = df.drop(df[df.state == 'live'].index) # delete rows with state 'live'\n",
    "df = df.drop(df[df.state == 'undefined'].index) # delete rows with state 'undefined'\n",
    "print('shape =',df.shape)\n",
    "print(df.state.value_counts())"
   ]
  },
  {
   "cell_type": "code",
   "execution_count": 1888,
   "metadata": {},
   "outputs": [
    {
     "name": "stdout",
     "output_type": "stream",
     "text": [
      "0    236368\n",
      "1    133851\n",
      "Name: state, dtype: int64\n"
     ]
    }
   ],
   "source": [
    "df['state'] = (df['state'] == 'successful').astype(int) #if state == 'successful'->int(True) else int(False)\n",
    "print(df.state.value_counts())"
   ]
  },
  {
   "cell_type": "code",
   "execution_count": 1889,
   "metadata": {},
   "outputs": [
    {
     "name": "stdout",
     "output_type": "stream",
     "text": [
      "        numof1 =  133851\n"
     ]
    }
   ],
   "source": [
    "numof1 = df[df['state'] == 1].shape[0] #show number of columns with '1' value in state column\n",
    "print('        numof1 = ',numof1)"
   ]
  },
  {
   "cell_type": "code",
   "execution_count": 1890,
   "metadata": {},
   "outputs": [
    {
     "data": {
      "text/html": [
       "<div>\n",
       "<style scoped>\n",
       "    .dataframe tbody tr th:only-of-type {\n",
       "        vertical-align: middle;\n",
       "    }\n",
       "\n",
       "    .dataframe tbody tr th {\n",
       "        vertical-align: top;\n",
       "    }\n",
       "\n",
       "    .dataframe thead th {\n",
       "        text-align: right;\n",
       "    }\n",
       "</style>\n",
       "<table border=\"1\" class=\"dataframe\">\n",
       "  <thead>\n",
       "    <tr style=\"text-align: right;\">\n",
       "      <th></th>\n",
       "      <th>name</th>\n",
       "      <th>category</th>\n",
       "      <th>main_category</th>\n",
       "      <th>currency</th>\n",
       "      <th>deadline</th>\n",
       "      <th>goal</th>\n",
       "      <th>launched</th>\n",
       "      <th>pledged</th>\n",
       "      <th>state</th>\n",
       "      <th>backers</th>\n",
       "      <th>country</th>\n",
       "      <th>usd pledged</th>\n",
       "      <th>usd_pledged_real</th>\n",
       "      <th>usd_goal_real</th>\n",
       "    </tr>\n",
       "    <tr>\n",
       "      <th>ID</th>\n",
       "      <th></th>\n",
       "      <th></th>\n",
       "      <th></th>\n",
       "      <th></th>\n",
       "      <th></th>\n",
       "      <th></th>\n",
       "      <th></th>\n",
       "      <th></th>\n",
       "      <th></th>\n",
       "      <th></th>\n",
       "      <th></th>\n",
       "      <th></th>\n",
       "      <th></th>\n",
       "      <th></th>\n",
       "    </tr>\n",
       "  </thead>\n",
       "  <tbody>\n",
       "    <tr>\n",
       "      <th>2065342395</th>\n",
       "      <td>Female Adventurers:The Women who Helped Coloni...</td>\n",
       "      <td>Nonfiction</td>\n",
       "      <td>Publishing</td>\n",
       "      <td>USD</td>\n",
       "      <td>2013-07-03</td>\n",
       "      <td>3100.0</td>\n",
       "      <td>2013-06-03 21:25:15</td>\n",
       "      <td>1538.0</td>\n",
       "      <td>0</td>\n",
       "      <td>20</td>\n",
       "      <td>US</td>\n",
       "      <td>1538.0</td>\n",
       "      <td>1538.0</td>\n",
       "      <td>3100.0</td>\n",
       "    </tr>\n",
       "    <tr>\n",
       "      <th>443885149</th>\n",
       "      <td>FLUX SEAMLESS Fashion + Technology + Sustainab...</td>\n",
       "      <td>Fashion</td>\n",
       "      <td>Fashion</td>\n",
       "      <td>USD</td>\n",
       "      <td>2013-12-23</td>\n",
       "      <td>30000.0</td>\n",
       "      <td>2013-11-18 21:46:24</td>\n",
       "      <td>1053.0</td>\n",
       "      <td>0</td>\n",
       "      <td>20</td>\n",
       "      <td>US</td>\n",
       "      <td>1053.0</td>\n",
       "      <td>1053.0</td>\n",
       "      <td>30000.0</td>\n",
       "    </tr>\n",
       "    <tr>\n",
       "      <th>2084657936</th>\n",
       "      <td>Pea Pod Pixie Gift Shop LLC</td>\n",
       "      <td>DIY</td>\n",
       "      <td>Crafts</td>\n",
       "      <td>USD</td>\n",
       "      <td>2017-05-12</td>\n",
       "      <td>800.0</td>\n",
       "      <td>2017-04-12 02:46:04</td>\n",
       "      <td>205.0</td>\n",
       "      <td>0</td>\n",
       "      <td>5</td>\n",
       "      <td>US</td>\n",
       "      <td>125.0</td>\n",
       "      <td>205.0</td>\n",
       "      <td>800.0</td>\n",
       "    </tr>\n",
       "  </tbody>\n",
       "</table>\n",
       "</div>"
      ],
      "text/plain": [
       "                                                         name    category  \\\n",
       "ID                                                                          \n",
       "2065342395  Female Adventurers:The Women who Helped Coloni...  Nonfiction   \n",
       "443885149   FLUX SEAMLESS Fashion + Technology + Sustainab...     Fashion   \n",
       "2084657936                        Pea Pod Pixie Gift Shop LLC         DIY   \n",
       "\n",
       "           main_category currency    deadline     goal             launched  \\\n",
       "ID                                                                            \n",
       "2065342395    Publishing      USD  2013-07-03   3100.0  2013-06-03 21:25:15   \n",
       "443885149        Fashion      USD  2013-12-23  30000.0  2013-11-18 21:46:24   \n",
       "2084657936        Crafts      USD  2017-05-12    800.0  2017-04-12 02:46:04   \n",
       "\n",
       "            pledged  state  backers country  usd pledged  usd_pledged_real  \\\n",
       "ID                                                                           \n",
       "2065342395   1538.0      0       20      US       1538.0            1538.0   \n",
       "443885149    1053.0      0       20      US       1053.0            1053.0   \n",
       "2084657936    205.0      0        5      US        125.0             205.0   \n",
       "\n",
       "            usd_goal_real  \n",
       "ID                         \n",
       "2065342395         3100.0  \n",
       "443885149         30000.0  \n",
       "2084657936          800.0  "
      ]
     },
     "execution_count": 1890,
     "metadata": {},
     "output_type": "execute_result"
    }
   ],
   "source": [
    "df.sample(3)"
   ]
  },
  {
   "cell_type": "markdown",
   "metadata": {},
   "source": [
    "### Q1.3\n",
    "#### Whats is a name of a project attracted the biggest pay check? (on average). Use column usd_pledged_real to judge. If there are multiple projects, choose any single one."
   ]
  },
  {
   "cell_type": "code",
   "execution_count": 1891,
   "metadata": {},
   "outputs": [
    {
     "data": {
      "text/plain": [
       "ID\n",
       "1794731243    0.45\n",
       "1466342924    0.47\n",
       "52860221      0.48\n",
       "210794368     0.48\n",
       "611264761     0.49\n",
       "              ... \n",
       "99984851       NaN\n",
       "99991751       NaN\n",
       "999931480      NaN\n",
       "99996661       NaN\n",
       "999976312      NaN\n",
       "Length: 370219, dtype: float64"
      ]
     },
     "execution_count": 1891,
     "metadata": {},
     "output_type": "execute_result"
    }
   ],
   "source": [
    "k1 = (df['usd_pledged_real']/df['backers']).sort_values()\n",
    "k1"
   ]
  },
  {
   "cell_type": "code",
   "execution_count": 1892,
   "metadata": {},
   "outputs": [
    {
     "data": {
      "text/plain": [
       "ID\n",
       "1794731243    0.45\n",
       "1466342924    0.47\n",
       "52860221      0.48\n",
       "210794368     0.48\n",
       "611264761     0.49\n",
       "              ... \n",
       "99984851       NaN\n",
       "99991751       NaN\n",
       "999931480      NaN\n",
       "99996661       NaN\n",
       "999976312      NaN\n",
       "Length: 370219, dtype: float64"
      ]
     },
     "execution_count": 1892,
     "metadata": {},
     "output_type": "execute_result"
    }
   ],
   "source": [
    "k2 = k1.replace(np.inf, np.nan)\n",
    "k2"
   ]
  },
  {
   "cell_type": "code",
   "execution_count": 1893,
   "metadata": {},
   "outputs": [
    {
     "data": {
      "text/plain": [
       "ID\n",
       "1794731243        0.45\n",
       "1466342924        0.47\n",
       "52860221          0.48\n",
       "210794368         0.48\n",
       "611264761         0.49\n",
       "                ...   \n",
       "2024799289    10000.00\n",
       "1974395971    10000.00\n",
       "472233286     10000.00\n",
       "1767293256    10000.00\n",
       "912587650     10000.00\n",
       "Length: 319569, dtype: float64"
      ]
     },
     "execution_count": 1893,
     "metadata": {},
     "output_type": "execute_result"
    }
   ],
   "source": [
    "k3 = k2.dropna()\n",
    "k3"
   ]
  },
  {
   "cell_type": "code",
   "execution_count": 1894,
   "metadata": {},
   "outputs": [
    {
     "data": {
      "text/html": [
       "<div>\n",
       "<style scoped>\n",
       "    .dataframe tbody tr th:only-of-type {\n",
       "        vertical-align: middle;\n",
       "    }\n",
       "\n",
       "    .dataframe tbody tr th {\n",
       "        vertical-align: top;\n",
       "    }\n",
       "\n",
       "    .dataframe thead th {\n",
       "        text-align: right;\n",
       "    }\n",
       "</style>\n",
       "<table border=\"1\" class=\"dataframe\">\n",
       "  <thead>\n",
       "    <tr style=\"text-align: right;\">\n",
       "      <th></th>\n",
       "      <th>name</th>\n",
       "      <th>category</th>\n",
       "      <th>main_category</th>\n",
       "      <th>currency</th>\n",
       "      <th>deadline</th>\n",
       "      <th>goal</th>\n",
       "      <th>launched</th>\n",
       "      <th>pledged</th>\n",
       "      <th>state</th>\n",
       "      <th>backers</th>\n",
       "      <th>country</th>\n",
       "      <th>usd pledged</th>\n",
       "      <th>usd_pledged_real</th>\n",
       "      <th>usd_goal_real</th>\n",
       "    </tr>\n",
       "    <tr>\n",
       "      <th>ID</th>\n",
       "      <th></th>\n",
       "      <th></th>\n",
       "      <th></th>\n",
       "      <th></th>\n",
       "      <th></th>\n",
       "      <th></th>\n",
       "      <th></th>\n",
       "      <th></th>\n",
       "      <th></th>\n",
       "      <th></th>\n",
       "      <th></th>\n",
       "      <th></th>\n",
       "      <th></th>\n",
       "      <th></th>\n",
       "    </tr>\n",
       "  </thead>\n",
       "  <tbody>\n",
       "    <tr>\n",
       "      <th>912587650</th>\n",
       "      <td>The Hare On The Chair - An Easter Legend</td>\n",
       "      <td>Children's Books</td>\n",
       "      <td>Publishing</td>\n",
       "      <td>USD</td>\n",
       "      <td>2015-05-03</td>\n",
       "      <td>48000.0</td>\n",
       "      <td>2015-04-03 10:46:03</td>\n",
       "      <td>10000.0</td>\n",
       "      <td>0</td>\n",
       "      <td>1</td>\n",
       "      <td>US</td>\n",
       "      <td>10000.0</td>\n",
       "      <td>10000.0</td>\n",
       "      <td>48000.0</td>\n",
       "    </tr>\n",
       "  </tbody>\n",
       "</table>\n",
       "</div>"
      ],
      "text/plain": [
       "                                               name          category  \\\n",
       "ID                                                                      \n",
       "912587650  The Hare On The Chair - An Easter Legend  Children's Books   \n",
       "\n",
       "          main_category currency    deadline     goal             launched  \\\n",
       "ID                                                                           \n",
       "912587650    Publishing      USD  2015-05-03  48000.0  2015-04-03 10:46:03   \n",
       "\n",
       "           pledged  state  backers country  usd pledged  usd_pledged_real  \\\n",
       "ID                                                                          \n",
       "912587650  10000.0      0        1      US      10000.0           10000.0   \n",
       "\n",
       "           usd_goal_real  \n",
       "ID                        \n",
       "912587650        48000.0  "
      ]
     },
     "execution_count": 1894,
     "metadata": {},
     "output_type": "execute_result"
    }
   ],
   "source": [
    "k4 = df[df.index == k3.index[-1]]\n",
    "k4"
   ]
  },
  {
   "cell_type": "code",
   "execution_count": 1895,
   "metadata": {},
   "outputs": [
    {
     "data": {
      "text/plain": [
       "ID\n",
       "912587650    The Hare On The Chair - An Easter Legend\n",
       "Name: name, dtype: object"
      ]
     },
     "execution_count": 1895,
     "metadata": {},
     "output_type": "execute_result"
    }
   ],
   "source": [
    "k4.name"
   ]
  },
  {
   "cell_type": "markdown",
   "metadata": {},
   "source": [
    "### Q1.4\n",
    "#### What is the most successful main category (in terms of success percentage)?"
   ]
  },
  {
   "cell_type": "code",
   "execution_count": 1896,
   "metadata": {},
   "outputs": [
    {
     "name": "stdout",
     "output_type": "stream",
     "text": [
      "main_category\n",
      "Technology      0.202544\n",
      "Journalism      0.216656\n",
      "Crafts          0.244198\n",
      "Fashion         0.249420\n",
      "Food            0.250793\n",
      "Photography     0.309602\n",
      "Publishing      0.315271\n",
      "Design          0.357411\n",
      "Games           0.360552\n",
      "Film & Video    0.379328\n",
      "Art             0.413107\n",
      "Music           0.490927\n",
      "Comics          0.544963\n",
      "Theater         0.602212\n",
      "Dance           0.625803\n",
      "Name: state, dtype: float64\n",
      "        the most successful main category =  Dance\n"
     ]
    }
   ],
   "source": [
    "#find mean of each category, then sort in asc ordrer and take the max value (end; -1 element)\n",
    "k5 = df.groupby('main_category')['state'].mean().sort_values()\n",
    "print(k5)\n",
    "print('        the most successful main category = ',k5.index[-1])"
   ]
  },
  {
   "cell_type": "markdown",
   "metadata": {
    "jupyter": {
     "outputs_hidden": true
    }
   },
   "source": [
    "### Q1.5\n",
    "#### Define the category with highest goal per project. How many projects belong to it?  (note: we use category here, not main_category)"
   ]
  },
  {
   "cell_type": "code",
   "execution_count": 1897,
   "metadata": {},
   "outputs": [
    {
     "name": "stdout",
     "output_type": "stream",
     "text": [
      "category\n",
      "Crochet              3.781049e+03\n",
      "Taxidermy            4.187636e+03\n",
      "Stationery           4.213168e+03\n",
      "Poetry               5.342948e+03\n",
      "Candles              5.678515e+03\n",
      "                         ...     \n",
      "Science Fiction      4.299817e+05\n",
      "Architecture         4.765797e+05\n",
      "Fantasy              6.216058e+05\n",
      "Space Exploration    6.245547e+05\n",
      "Movie Theaters       1.594601e+06\n",
      "Name: goal, Length: 159, dtype: float64\n",
      "\n",
      "Movie Theaters\n",
      "\n",
      "        most exp cat met =  227\n"
     ]
    }
   ],
   "source": [
    "k6 = df.groupby('category')['goal'].mean().sort_values()\n",
    "print(k6)\n",
    "k7 = k6.index[-1]\n",
    "print()\n",
    "print(k7)\n",
    "print()\n",
    "met = df[df['category'] == k7].shape[0]\n",
    "print('        most exp cat met = ', met)"
   ]
  },
  {
   "cell_type": "markdown",
   "metadata": {},
   "source": [
    "### Q1.6\n",
    "#### What is the category with biggest total pledge? Use 'usd_pledged_real' to judge."
   ]
  },
  {
   "cell_type": "code",
   "execution_count": 1898,
   "metadata": {},
   "outputs": [
    {
     "name": "stdout",
     "output_type": "stream",
     "text": [
      "category\n",
      "Taxidermy          3.742699e+04\n",
      "Crochet            4.820144e+04\n",
      "Embroidery         9.480322e+04\n",
      "Quilts             1.704812e+05\n",
      "Literary Spaces    1.891494e+05\n",
      "                       ...     \n",
      "Documentary        1.387601e+08\n",
      "Hardware           1.540924e+08\n",
      "Video Games        2.157557e+08\n",
      "Tabletop Games     4.625848e+08\n",
      "Product Design     6.284380e+08\n",
      "Name: usd_pledged_real, Length: 159, dtype: float64\n",
      "\n",
      "        cat with bigst tot pled =  Product Design\n"
     ]
    }
   ],
   "source": [
    "k8 = df.groupby('category')['usd_pledged_real'].sum().sort_values()\n",
    "print(k8)\n",
    "k9 = k8.index[-1]\n",
    "print()\n",
    "print('        cat with bigst tot pled = ',k9)"
   ]
  },
  {
   "cell_type": "markdown",
   "metadata": {},
   "source": [
    "As one can notice, there are both numerical and object-type data in our dataframe. \n",
    "\n",
    "We suggest you to split them to perform EDA separately. \n",
    "\n",
    "### Q1.7\n",
    "#### Split columns to 'numeric' (by data type) and object-type. How many 'object-type' features are there?"
   ]
  },
  {
   "cell_type": "code",
   "execution_count": 1899,
   "metadata": {},
   "outputs": [
    {
     "name": "stdout",
     "output_type": "stream",
     "text": [
      "name                 object\n",
      "category             object\n",
      "main_category        object\n",
      "currency             object\n",
      "deadline             object\n",
      "goal                float64\n",
      "launched             object\n",
      "pledged             float64\n",
      "state                 int32\n",
      "backers               int64\n",
      "country              object\n",
      "usd pledged         float64\n",
      "usd_pledged_real    float64\n",
      "usd_goal_real       float64\n",
      "dtype: object\n",
      "\n",
      "        obj features =  7\n"
     ]
    }
   ],
   "source": [
    "k10 = df.dtypes\n",
    "print(k10)\n",
    "dfObj = pd.DataFrame()\n",
    "dfNum = pd.DataFrame()\n",
    "for index,i in enumerate(k10):\n",
    "    if i == 'object':\n",
    "        dfObj[k10.index[index]] = df[k10.index[index]]\n",
    "    else:\n",
    "        dfNum[k10.index[index]] = df[k10.index[index]]\n",
    "print()\n",
    "print('        obj features = ', dfObj.shape[1])"
   ]
  },
  {
   "cell_type": "code",
   "execution_count": 1900,
   "metadata": {},
   "outputs": [
    {
     "data": {
      "text/html": [
       "<div>\n",
       "<style scoped>\n",
       "    .dataframe tbody tr th:only-of-type {\n",
       "        vertical-align: middle;\n",
       "    }\n",
       "\n",
       "    .dataframe tbody tr th {\n",
       "        vertical-align: top;\n",
       "    }\n",
       "\n",
       "    .dataframe thead th {\n",
       "        text-align: right;\n",
       "    }\n",
       "</style>\n",
       "<table border=\"1\" class=\"dataframe\">\n",
       "  <thead>\n",
       "    <tr style=\"text-align: right;\">\n",
       "      <th></th>\n",
       "      <th>name</th>\n",
       "      <th>category</th>\n",
       "      <th>main_category</th>\n",
       "      <th>currency</th>\n",
       "      <th>deadline</th>\n",
       "      <th>launched</th>\n",
       "      <th>country</th>\n",
       "    </tr>\n",
       "    <tr>\n",
       "      <th>ID</th>\n",
       "      <th></th>\n",
       "      <th></th>\n",
       "      <th></th>\n",
       "      <th></th>\n",
       "      <th></th>\n",
       "      <th></th>\n",
       "      <th></th>\n",
       "    </tr>\n",
       "  </thead>\n",
       "  <tbody>\n",
       "    <tr>\n",
       "      <th>1355757006</th>\n",
       "      <td>The Brotherhood of the Traveling Alcoholics</td>\n",
       "      <td>Nonfiction</td>\n",
       "      <td>Publishing</td>\n",
       "      <td>USD</td>\n",
       "      <td>2012-10-13</td>\n",
       "      <td>2012-08-14 19:53:31</td>\n",
       "      <td>US</td>\n",
       "    </tr>\n",
       "    <tr>\n",
       "      <th>851321391</th>\n",
       "      <td>Poppa De Luca's Chicken Sauce</td>\n",
       "      <td>Food</td>\n",
       "      <td>Food</td>\n",
       "      <td>USD</td>\n",
       "      <td>2014-10-10</td>\n",
       "      <td>2014-09-10 01:52:53</td>\n",
       "      <td>US</td>\n",
       "    </tr>\n",
       "    <tr>\n",
       "      <th>813077511</th>\n",
       "      <td>KeyFlip</td>\n",
       "      <td>Product Design</td>\n",
       "      <td>Design</td>\n",
       "      <td>USD</td>\n",
       "      <td>2013-03-01</td>\n",
       "      <td>2013-01-26 03:52:59</td>\n",
       "      <td>US</td>\n",
       "    </tr>\n",
       "  </tbody>\n",
       "</table>\n",
       "</div>"
      ],
      "text/plain": [
       "                                                   name        category  \\\n",
       "ID                                                                        \n",
       "1355757006  The Brotherhood of the Traveling Alcoholics      Nonfiction   \n",
       "851321391                 Poppa De Luca's Chicken Sauce            Food   \n",
       "813077511                                       KeyFlip  Product Design   \n",
       "\n",
       "           main_category currency    deadline             launched country  \n",
       "ID                                                                          \n",
       "1355757006    Publishing      USD  2012-10-13  2012-08-14 19:53:31      US  \n",
       "851321391           Food      USD  2014-10-10  2014-09-10 01:52:53      US  \n",
       "813077511         Design      USD  2013-03-01  2013-01-26 03:52:59      US  "
      ]
     },
     "execution_count": 1900,
     "metadata": {},
     "output_type": "execute_result"
    }
   ],
   "source": [
    "dfObj.sample(3)"
   ]
  },
  {
   "cell_type": "code",
   "execution_count": 1901,
   "metadata": {},
   "outputs": [
    {
     "data": {
      "text/html": [
       "<div>\n",
       "<style scoped>\n",
       "    .dataframe tbody tr th:only-of-type {\n",
       "        vertical-align: middle;\n",
       "    }\n",
       "\n",
       "    .dataframe tbody tr th {\n",
       "        vertical-align: top;\n",
       "    }\n",
       "\n",
       "    .dataframe thead th {\n",
       "        text-align: right;\n",
       "    }\n",
       "</style>\n",
       "<table border=\"1\" class=\"dataframe\">\n",
       "  <thead>\n",
       "    <tr style=\"text-align: right;\">\n",
       "      <th></th>\n",
       "      <th>goal</th>\n",
       "      <th>pledged</th>\n",
       "      <th>state</th>\n",
       "      <th>backers</th>\n",
       "      <th>usd pledged</th>\n",
       "      <th>usd_pledged_real</th>\n",
       "      <th>usd_goal_real</th>\n",
       "    </tr>\n",
       "    <tr>\n",
       "      <th>ID</th>\n",
       "      <th></th>\n",
       "      <th></th>\n",
       "      <th></th>\n",
       "      <th></th>\n",
       "      <th></th>\n",
       "      <th></th>\n",
       "      <th></th>\n",
       "    </tr>\n",
       "  </thead>\n",
       "  <tbody>\n",
       "    <tr>\n",
       "      <th>553193447</th>\n",
       "      <td>35000.0</td>\n",
       "      <td>0.0</td>\n",
       "      <td>0</td>\n",
       "      <td>0</td>\n",
       "      <td>0.0</td>\n",
       "      <td>0.0</td>\n",
       "      <td>35000.0</td>\n",
       "    </tr>\n",
       "    <tr>\n",
       "      <th>455076750</th>\n",
       "      <td>6500.0</td>\n",
       "      <td>863.0</td>\n",
       "      <td>0</td>\n",
       "      <td>22</td>\n",
       "      <td>863.0</td>\n",
       "      <td>863.0</td>\n",
       "      <td>6500.0</td>\n",
       "    </tr>\n",
       "    <tr>\n",
       "      <th>725169603</th>\n",
       "      <td>6500.0</td>\n",
       "      <td>6645.0</td>\n",
       "      <td>1</td>\n",
       "      <td>41</td>\n",
       "      <td>6645.0</td>\n",
       "      <td>6645.0</td>\n",
       "      <td>6500.0</td>\n",
       "    </tr>\n",
       "  </tbody>\n",
       "</table>\n",
       "</div>"
      ],
      "text/plain": [
       "              goal  pledged  state  backers  usd pledged  usd_pledged_real  \\\n",
       "ID                                                                           \n",
       "553193447  35000.0      0.0      0        0          0.0               0.0   \n",
       "455076750   6500.0    863.0      0       22        863.0             863.0   \n",
       "725169603   6500.0   6645.0      1       41       6645.0            6645.0   \n",
       "\n",
       "           usd_goal_real  \n",
       "ID                        \n",
       "553193447        35000.0  \n",
       "455076750         6500.0  \n",
       "725169603         6500.0  "
      ]
     },
     "execution_count": 1901,
     "metadata": {},
     "output_type": "execute_result"
    }
   ],
   "source": [
    "dfNum.sample(3)"
   ]
  },
  {
   "cell_type": "code",
   "execution_count": 1902,
   "metadata": {},
   "outputs": [
    {
     "data": {
      "text/html": [
       "<div>\n",
       "<style scoped>\n",
       "    .dataframe tbody tr th:only-of-type {\n",
       "        vertical-align: middle;\n",
       "    }\n",
       "\n",
       "    .dataframe tbody tr th {\n",
       "        vertical-align: top;\n",
       "    }\n",
       "\n",
       "    .dataframe thead th {\n",
       "        text-align: right;\n",
       "    }\n",
       "</style>\n",
       "<table border=\"1\" class=\"dataframe\">\n",
       "  <thead>\n",
       "    <tr style=\"text-align: right;\">\n",
       "      <th></th>\n",
       "      <th>name</th>\n",
       "      <th>category</th>\n",
       "      <th>main_category</th>\n",
       "      <th>currency</th>\n",
       "      <th>deadline</th>\n",
       "      <th>goal</th>\n",
       "      <th>launched</th>\n",
       "      <th>pledged</th>\n",
       "      <th>state</th>\n",
       "      <th>backers</th>\n",
       "      <th>country</th>\n",
       "      <th>usd pledged</th>\n",
       "      <th>usd_pledged_real</th>\n",
       "      <th>usd_goal_real</th>\n",
       "    </tr>\n",
       "    <tr>\n",
       "      <th>ID</th>\n",
       "      <th></th>\n",
       "      <th></th>\n",
       "      <th></th>\n",
       "      <th></th>\n",
       "      <th></th>\n",
       "      <th></th>\n",
       "      <th></th>\n",
       "      <th></th>\n",
       "      <th></th>\n",
       "      <th></th>\n",
       "      <th></th>\n",
       "      <th></th>\n",
       "      <th></th>\n",
       "      <th></th>\n",
       "    </tr>\n",
       "  </thead>\n",
       "  <tbody>\n",
       "    <tr>\n",
       "      <th>1970585802</th>\n",
       "      <td>Arcane Sally &amp; Mr. Steam #3</td>\n",
       "      <td>Webcomics</td>\n",
       "      <td>Comics</td>\n",
       "      <td>USD</td>\n",
       "      <td>2017-04-17</td>\n",
       "      <td>10500.0</td>\n",
       "      <td>2017-03-29 18:40:55</td>\n",
       "      <td>3236.00</td>\n",
       "      <td>0</td>\n",
       "      <td>142</td>\n",
       "      <td>US</td>\n",
       "      <td>304.00</td>\n",
       "      <td>3236.00</td>\n",
       "      <td>10500.0</td>\n",
       "    </tr>\n",
       "    <tr>\n",
       "      <th>1284874342</th>\n",
       "      <td>SIN - A Photo Book</td>\n",
       "      <td>Photography</td>\n",
       "      <td>Photography</td>\n",
       "      <td>USD</td>\n",
       "      <td>2011-10-04</td>\n",
       "      <td>1500.0</td>\n",
       "      <td>2011-09-04 08:57:57</td>\n",
       "      <td>15.00</td>\n",
       "      <td>0</td>\n",
       "      <td>1</td>\n",
       "      <td>US</td>\n",
       "      <td>15.00</td>\n",
       "      <td>15.00</td>\n",
       "      <td>1500.0</td>\n",
       "    </tr>\n",
       "    <tr>\n",
       "      <th>834469615</th>\n",
       "      <td>LEGEND - A Civil War Thriller from Historical ...</td>\n",
       "      <td>Film &amp; Video</td>\n",
       "      <td>Film &amp; Video</td>\n",
       "      <td>USD</td>\n",
       "      <td>2012-06-01</td>\n",
       "      <td>10000.0</td>\n",
       "      <td>2012-04-23 22:31:57</td>\n",
       "      <td>131.66</td>\n",
       "      <td>0</td>\n",
       "      <td>3</td>\n",
       "      <td>US</td>\n",
       "      <td>131.66</td>\n",
       "      <td>131.66</td>\n",
       "      <td>10000.0</td>\n",
       "    </tr>\n",
       "  </tbody>\n",
       "</table>\n",
       "</div>"
      ],
      "text/plain": [
       "                                                         name      category  \\\n",
       "ID                                                                            \n",
       "1970585802                        Arcane Sally & Mr. Steam #3     Webcomics   \n",
       "1284874342                                 SIN - A Photo Book   Photography   \n",
       "834469615   LEGEND - A Civil War Thriller from Historical ...  Film & Video   \n",
       "\n",
       "           main_category currency    deadline     goal             launched  \\\n",
       "ID                                                                            \n",
       "1970585802        Comics      USD  2017-04-17  10500.0  2017-03-29 18:40:55   \n",
       "1284874342   Photography      USD  2011-10-04   1500.0  2011-09-04 08:57:57   \n",
       "834469615   Film & Video      USD  2012-06-01  10000.0  2012-04-23 22:31:57   \n",
       "\n",
       "            pledged  state  backers country  usd pledged  usd_pledged_real  \\\n",
       "ID                                                                           \n",
       "1970585802  3236.00      0      142      US       304.00           3236.00   \n",
       "1284874342    15.00      0        1      US        15.00             15.00   \n",
       "834469615    131.66      0        3      US       131.66            131.66   \n",
       "\n",
       "            usd_goal_real  \n",
       "ID                         \n",
       "1970585802        10500.0  \n",
       "1284874342         1500.0  \n",
       "834469615         10000.0  "
      ]
     },
     "execution_count": 1902,
     "metadata": {},
     "output_type": "execute_result"
    }
   ],
   "source": [
    "df.sample(3)"
   ]
  },
  {
   "cell_type": "markdown",
   "metadata": {},
   "source": [
    "### Q1.8\n",
    "#### Let's do a bit of feature engineering. Let's create column 'pledge2goal' which define as ratio of usd_pledged_real to goal. How many outliers are there?\n",
    "#### (We use a simple rule: an object is an outlier if it does not belong to [q25 - 1.5iqr, q75 + 1.5 iqr] interval, where qxx -- xx quantile, and iqr is inter-quantile range.)"
   ]
  },
  {
   "cell_type": "code",
   "execution_count": 1903,
   "metadata": {},
   "outputs": [
    {
     "data": {
      "text/html": [
       "<div>\n",
       "<style scoped>\n",
       "    .dataframe tbody tr th:only-of-type {\n",
       "        vertical-align: middle;\n",
       "    }\n",
       "\n",
       "    .dataframe tbody tr th {\n",
       "        vertical-align: top;\n",
       "    }\n",
       "\n",
       "    .dataframe thead th {\n",
       "        text-align: right;\n",
       "    }\n",
       "</style>\n",
       "<table border=\"1\" class=\"dataframe\">\n",
       "  <thead>\n",
       "    <tr style=\"text-align: right;\">\n",
       "      <th></th>\n",
       "      <th>name</th>\n",
       "      <th>category</th>\n",
       "      <th>main_category</th>\n",
       "      <th>currency</th>\n",
       "      <th>deadline</th>\n",
       "      <th>goal</th>\n",
       "      <th>launched</th>\n",
       "      <th>pledged</th>\n",
       "      <th>state</th>\n",
       "      <th>backers</th>\n",
       "      <th>country</th>\n",
       "      <th>usd pledged</th>\n",
       "      <th>usd_pledged_real</th>\n",
       "      <th>usd_goal_real</th>\n",
       "      <th>pledge2goal</th>\n",
       "    </tr>\n",
       "    <tr>\n",
       "      <th>ID</th>\n",
       "      <th></th>\n",
       "      <th></th>\n",
       "      <th></th>\n",
       "      <th></th>\n",
       "      <th></th>\n",
       "      <th></th>\n",
       "      <th></th>\n",
       "      <th></th>\n",
       "      <th></th>\n",
       "      <th></th>\n",
       "      <th></th>\n",
       "      <th></th>\n",
       "      <th></th>\n",
       "      <th></th>\n",
       "      <th></th>\n",
       "    </tr>\n",
       "  </thead>\n",
       "  <tbody>\n",
       "    <tr>\n",
       "      <th>1000002330</th>\n",
       "      <td>The Songs of Adelaide &amp; Abullah</td>\n",
       "      <td>Poetry</td>\n",
       "      <td>Publishing</td>\n",
       "      <td>GBP</td>\n",
       "      <td>2015-10-09</td>\n",
       "      <td>1000.0</td>\n",
       "      <td>2015-08-11 12:12:28</td>\n",
       "      <td>0.0</td>\n",
       "      <td>0</td>\n",
       "      <td>0</td>\n",
       "      <td>GB</td>\n",
       "      <td>0.0</td>\n",
       "      <td>0.0</td>\n",
       "      <td>1533.95</td>\n",
       "      <td>0.000000</td>\n",
       "    </tr>\n",
       "    <tr>\n",
       "      <th>1000003930</th>\n",
       "      <td>Greeting From Earth: ZGAC Arts Capsule For ET</td>\n",
       "      <td>Narrative Film</td>\n",
       "      <td>Film &amp; Video</td>\n",
       "      <td>USD</td>\n",
       "      <td>2017-11-01</td>\n",
       "      <td>30000.0</td>\n",
       "      <td>2017-09-02 04:43:57</td>\n",
       "      <td>2421.0</td>\n",
       "      <td>0</td>\n",
       "      <td>15</td>\n",
       "      <td>US</td>\n",
       "      <td>100.0</td>\n",
       "      <td>2421.0</td>\n",
       "      <td>30000.00</td>\n",
       "      <td>0.080700</td>\n",
       "    </tr>\n",
       "    <tr>\n",
       "      <th>1000004038</th>\n",
       "      <td>Where is Hank?</td>\n",
       "      <td>Narrative Film</td>\n",
       "      <td>Film &amp; Video</td>\n",
       "      <td>USD</td>\n",
       "      <td>2013-02-26</td>\n",
       "      <td>45000.0</td>\n",
       "      <td>2013-01-12 00:20:50</td>\n",
       "      <td>220.0</td>\n",
       "      <td>0</td>\n",
       "      <td>3</td>\n",
       "      <td>US</td>\n",
       "      <td>220.0</td>\n",
       "      <td>220.0</td>\n",
       "      <td>45000.00</td>\n",
       "      <td>0.004889</td>\n",
       "    </tr>\n",
       "    <tr>\n",
       "      <th>1000007540</th>\n",
       "      <td>ToshiCapital Rekordz Needs Help to Complete Album</td>\n",
       "      <td>Music</td>\n",
       "      <td>Music</td>\n",
       "      <td>USD</td>\n",
       "      <td>2012-04-16</td>\n",
       "      <td>5000.0</td>\n",
       "      <td>2012-03-17 03:24:11</td>\n",
       "      <td>1.0</td>\n",
       "      <td>0</td>\n",
       "      <td>1</td>\n",
       "      <td>US</td>\n",
       "      <td>1.0</td>\n",
       "      <td>1.0</td>\n",
       "      <td>5000.00</td>\n",
       "      <td>0.000200</td>\n",
       "    </tr>\n",
       "    <tr>\n",
       "      <th>1000011046</th>\n",
       "      <td>Community Film Project: The Art of Neighborhoo...</td>\n",
       "      <td>Film &amp; Video</td>\n",
       "      <td>Film &amp; Video</td>\n",
       "      <td>USD</td>\n",
       "      <td>2015-08-29</td>\n",
       "      <td>19500.0</td>\n",
       "      <td>2015-07-04 08:35:03</td>\n",
       "      <td>1283.0</td>\n",
       "      <td>0</td>\n",
       "      <td>14</td>\n",
       "      <td>US</td>\n",
       "      <td>1283.0</td>\n",
       "      <td>1283.0</td>\n",
       "      <td>19500.00</td>\n",
       "      <td>0.065795</td>\n",
       "    </tr>\n",
       "    <tr>\n",
       "      <th>...</th>\n",
       "      <td>...</td>\n",
       "      <td>...</td>\n",
       "      <td>...</td>\n",
       "      <td>...</td>\n",
       "      <td>...</td>\n",
       "      <td>...</td>\n",
       "      <td>...</td>\n",
       "      <td>...</td>\n",
       "      <td>...</td>\n",
       "      <td>...</td>\n",
       "      <td>...</td>\n",
       "      <td>...</td>\n",
       "      <td>...</td>\n",
       "      <td>...</td>\n",
       "      <td>...</td>\n",
       "    </tr>\n",
       "    <tr>\n",
       "      <th>999976400</th>\n",
       "      <td>ChknTruk Nationwide Charity Drive 2014 (Canceled)</td>\n",
       "      <td>Documentary</td>\n",
       "      <td>Film &amp; Video</td>\n",
       "      <td>USD</td>\n",
       "      <td>2014-10-17</td>\n",
       "      <td>50000.0</td>\n",
       "      <td>2014-09-17 02:35:30</td>\n",
       "      <td>25.0</td>\n",
       "      <td>0</td>\n",
       "      <td>1</td>\n",
       "      <td>US</td>\n",
       "      <td>25.0</td>\n",
       "      <td>25.0</td>\n",
       "      <td>50000.00</td>\n",
       "      <td>0.000500</td>\n",
       "    </tr>\n",
       "    <tr>\n",
       "      <th>999977640</th>\n",
       "      <td>The Tribe</td>\n",
       "      <td>Narrative Film</td>\n",
       "      <td>Film &amp; Video</td>\n",
       "      <td>USD</td>\n",
       "      <td>2011-07-19</td>\n",
       "      <td>1500.0</td>\n",
       "      <td>2011-06-22 03:35:14</td>\n",
       "      <td>155.0</td>\n",
       "      <td>0</td>\n",
       "      <td>5</td>\n",
       "      <td>US</td>\n",
       "      <td>155.0</td>\n",
       "      <td>155.0</td>\n",
       "      <td>1500.00</td>\n",
       "      <td>0.103333</td>\n",
       "    </tr>\n",
       "    <tr>\n",
       "      <th>999986353</th>\n",
       "      <td>Walls of Remedy- New lesbian Romantic Comedy f...</td>\n",
       "      <td>Narrative Film</td>\n",
       "      <td>Film &amp; Video</td>\n",
       "      <td>USD</td>\n",
       "      <td>2010-08-16</td>\n",
       "      <td>15000.0</td>\n",
       "      <td>2010-07-01 19:40:30</td>\n",
       "      <td>20.0</td>\n",
       "      <td>0</td>\n",
       "      <td>1</td>\n",
       "      <td>US</td>\n",
       "      <td>20.0</td>\n",
       "      <td>20.0</td>\n",
       "      <td>15000.00</td>\n",
       "      <td>0.001333</td>\n",
       "    </tr>\n",
       "    <tr>\n",
       "      <th>999987933</th>\n",
       "      <td>BioDefense Education Kit</td>\n",
       "      <td>Technology</td>\n",
       "      <td>Technology</td>\n",
       "      <td>USD</td>\n",
       "      <td>2016-02-13</td>\n",
       "      <td>15000.0</td>\n",
       "      <td>2016-01-13 18:13:53</td>\n",
       "      <td>200.0</td>\n",
       "      <td>0</td>\n",
       "      <td>6</td>\n",
       "      <td>US</td>\n",
       "      <td>200.0</td>\n",
       "      <td>200.0</td>\n",
       "      <td>15000.00</td>\n",
       "      <td>0.013333</td>\n",
       "    </tr>\n",
       "    <tr>\n",
       "      <th>999988282</th>\n",
       "      <td>Nou Renmen Ayiti!  We Love Haiti!</td>\n",
       "      <td>Performance Art</td>\n",
       "      <td>Art</td>\n",
       "      <td>USD</td>\n",
       "      <td>2011-08-16</td>\n",
       "      <td>2000.0</td>\n",
       "      <td>2011-07-19 09:07:47</td>\n",
       "      <td>524.0</td>\n",
       "      <td>0</td>\n",
       "      <td>17</td>\n",
       "      <td>US</td>\n",
       "      <td>524.0</td>\n",
       "      <td>524.0</td>\n",
       "      <td>2000.00</td>\n",
       "      <td>0.262000</td>\n",
       "    </tr>\n",
       "  </tbody>\n",
       "</table>\n",
       "<p>370219 rows × 15 columns</p>\n",
       "</div>"
      ],
      "text/plain": [
       "                                                         name  \\\n",
       "ID                                                              \n",
       "1000002330                    The Songs of Adelaide & Abullah   \n",
       "1000003930      Greeting From Earth: ZGAC Arts Capsule For ET   \n",
       "1000004038                                     Where is Hank?   \n",
       "1000007540  ToshiCapital Rekordz Needs Help to Complete Album   \n",
       "1000011046  Community Film Project: The Art of Neighborhoo...   \n",
       "...                                                       ...   \n",
       "999976400   ChknTruk Nationwide Charity Drive 2014 (Canceled)   \n",
       "999977640                                           The Tribe   \n",
       "999986353   Walls of Remedy- New lesbian Romantic Comedy f...   \n",
       "999987933                            BioDefense Education Kit   \n",
       "999988282                   Nou Renmen Ayiti!  We Love Haiti!   \n",
       "\n",
       "                   category main_category currency    deadline     goal  \\\n",
       "ID                                                                        \n",
       "1000002330           Poetry    Publishing      GBP  2015-10-09   1000.0   \n",
       "1000003930   Narrative Film  Film & Video      USD  2017-11-01  30000.0   \n",
       "1000004038   Narrative Film  Film & Video      USD  2013-02-26  45000.0   \n",
       "1000007540            Music         Music      USD  2012-04-16   5000.0   \n",
       "1000011046     Film & Video  Film & Video      USD  2015-08-29  19500.0   \n",
       "...                     ...           ...      ...         ...      ...   \n",
       "999976400       Documentary  Film & Video      USD  2014-10-17  50000.0   \n",
       "999977640    Narrative Film  Film & Video      USD  2011-07-19   1500.0   \n",
       "999986353    Narrative Film  Film & Video      USD  2010-08-16  15000.0   \n",
       "999987933        Technology    Technology      USD  2016-02-13  15000.0   \n",
       "999988282   Performance Art           Art      USD  2011-08-16   2000.0   \n",
       "\n",
       "                       launched  pledged  state  backers country  usd pledged  \\\n",
       "ID                                                                              \n",
       "1000002330  2015-08-11 12:12:28      0.0      0        0      GB          0.0   \n",
       "1000003930  2017-09-02 04:43:57   2421.0      0       15      US        100.0   \n",
       "1000004038  2013-01-12 00:20:50    220.0      0        3      US        220.0   \n",
       "1000007540  2012-03-17 03:24:11      1.0      0        1      US          1.0   \n",
       "1000011046  2015-07-04 08:35:03   1283.0      0       14      US       1283.0   \n",
       "...                         ...      ...    ...      ...     ...          ...   \n",
       "999976400   2014-09-17 02:35:30     25.0      0        1      US         25.0   \n",
       "999977640   2011-06-22 03:35:14    155.0      0        5      US        155.0   \n",
       "999986353   2010-07-01 19:40:30     20.0      0        1      US         20.0   \n",
       "999987933   2016-01-13 18:13:53    200.0      0        6      US        200.0   \n",
       "999988282   2011-07-19 09:07:47    524.0      0       17      US        524.0   \n",
       "\n",
       "            usd_pledged_real  usd_goal_real  pledge2goal  \n",
       "ID                                                        \n",
       "1000002330               0.0        1533.95     0.000000  \n",
       "1000003930            2421.0       30000.00     0.080700  \n",
       "1000004038             220.0       45000.00     0.004889  \n",
       "1000007540               1.0        5000.00     0.000200  \n",
       "1000011046            1283.0       19500.00     0.065795  \n",
       "...                      ...            ...          ...  \n",
       "999976400               25.0       50000.00     0.000500  \n",
       "999977640              155.0        1500.00     0.103333  \n",
       "999986353               20.0       15000.00     0.001333  \n",
       "999987933              200.0       15000.00     0.013333  \n",
       "999988282              524.0        2000.00     0.262000  \n",
       "\n",
       "[370219 rows x 15 columns]"
      ]
     },
     "execution_count": 1903,
     "metadata": {},
     "output_type": "execute_result"
    }
   ],
   "source": [
    "df['pledge2goal'] = df.usd_pledged_real/df.goal\n",
    "df"
   ]
  },
  {
   "cell_type": "code",
   "execution_count": 1904,
   "metadata": {},
   "outputs": [
    {
     "name": "stdout",
     "output_type": "stream",
     "text": [
      "outliers =  18415\n"
     ]
    }
   ],
   "source": [
    "Q1 = df.pledge2goal.quantile(0.25)\n",
    "Q3 = df.pledge2goal.quantile(0.75)\n",
    "IQR = Q3 - Q1\n",
    "outliers = (df.pledge2goal < (Q1 - 1.5 * IQR)) | (df.pledge2goal > (Q3 + 1.5 * IQR))\n",
    "n_outliers = (outliers).sum()\n",
    "print('outliers = ', n_outliers)"
   ]
  },
  {
   "cell_type": "code",
   "execution_count": 1905,
   "metadata": {},
   "outputs": [
    {
     "data": {
      "text/html": [
       "<div>\n",
       "<style scoped>\n",
       "    .dataframe tbody tr th:only-of-type {\n",
       "        vertical-align: middle;\n",
       "    }\n",
       "\n",
       "    .dataframe tbody tr th {\n",
       "        vertical-align: top;\n",
       "    }\n",
       "\n",
       "    .dataframe thead th {\n",
       "        text-align: right;\n",
       "    }\n",
       "</style>\n",
       "<table border=\"1\" class=\"dataframe\">\n",
       "  <thead>\n",
       "    <tr style=\"text-align: right;\">\n",
       "      <th></th>\n",
       "      <th>name</th>\n",
       "      <th>category</th>\n",
       "      <th>main_category</th>\n",
       "      <th>currency</th>\n",
       "      <th>deadline</th>\n",
       "      <th>goal</th>\n",
       "      <th>launched</th>\n",
       "      <th>pledged</th>\n",
       "      <th>state</th>\n",
       "      <th>backers</th>\n",
       "      <th>country</th>\n",
       "      <th>usd pledged</th>\n",
       "      <th>usd_pledged_real</th>\n",
       "      <th>usd_goal_real</th>\n",
       "      <th>pledge2goal</th>\n",
       "    </tr>\n",
       "    <tr>\n",
       "      <th>ID</th>\n",
       "      <th></th>\n",
       "      <th></th>\n",
       "      <th></th>\n",
       "      <th></th>\n",
       "      <th></th>\n",
       "      <th></th>\n",
       "      <th></th>\n",
       "      <th></th>\n",
       "      <th></th>\n",
       "      <th></th>\n",
       "      <th></th>\n",
       "      <th></th>\n",
       "      <th></th>\n",
       "      <th></th>\n",
       "      <th></th>\n",
       "    </tr>\n",
       "  </thead>\n",
       "  <tbody>\n",
       "    <tr>\n",
       "      <th>1000002330</th>\n",
       "      <td>The Songs of Adelaide &amp; Abullah</td>\n",
       "      <td>Poetry</td>\n",
       "      <td>Publishing</td>\n",
       "      <td>GBP</td>\n",
       "      <td>2015-10-09</td>\n",
       "      <td>1000.0</td>\n",
       "      <td>2015-08-11 12:12:28</td>\n",
       "      <td>0.0</td>\n",
       "      <td>0</td>\n",
       "      <td>0</td>\n",
       "      <td>GB</td>\n",
       "      <td>0.0</td>\n",
       "      <td>0.0</td>\n",
       "      <td>1533.95</td>\n",
       "      <td>0.000000</td>\n",
       "    </tr>\n",
       "    <tr>\n",
       "      <th>1000003930</th>\n",
       "      <td>Greeting From Earth: ZGAC Arts Capsule For ET</td>\n",
       "      <td>Narrative Film</td>\n",
       "      <td>Film &amp; Video</td>\n",
       "      <td>USD</td>\n",
       "      <td>2017-11-01</td>\n",
       "      <td>30000.0</td>\n",
       "      <td>2017-09-02 04:43:57</td>\n",
       "      <td>2421.0</td>\n",
       "      <td>0</td>\n",
       "      <td>15</td>\n",
       "      <td>US</td>\n",
       "      <td>100.0</td>\n",
       "      <td>2421.0</td>\n",
       "      <td>30000.00</td>\n",
       "      <td>0.080700</td>\n",
       "    </tr>\n",
       "    <tr>\n",
       "      <th>1000004038</th>\n",
       "      <td>Where is Hank?</td>\n",
       "      <td>Narrative Film</td>\n",
       "      <td>Film &amp; Video</td>\n",
       "      <td>USD</td>\n",
       "      <td>2013-02-26</td>\n",
       "      <td>45000.0</td>\n",
       "      <td>2013-01-12 00:20:50</td>\n",
       "      <td>220.0</td>\n",
       "      <td>0</td>\n",
       "      <td>3</td>\n",
       "      <td>US</td>\n",
       "      <td>220.0</td>\n",
       "      <td>220.0</td>\n",
       "      <td>45000.00</td>\n",
       "      <td>0.004889</td>\n",
       "    </tr>\n",
       "    <tr>\n",
       "      <th>1000007540</th>\n",
       "      <td>ToshiCapital Rekordz Needs Help to Complete Album</td>\n",
       "      <td>Music</td>\n",
       "      <td>Music</td>\n",
       "      <td>USD</td>\n",
       "      <td>2012-04-16</td>\n",
       "      <td>5000.0</td>\n",
       "      <td>2012-03-17 03:24:11</td>\n",
       "      <td>1.0</td>\n",
       "      <td>0</td>\n",
       "      <td>1</td>\n",
       "      <td>US</td>\n",
       "      <td>1.0</td>\n",
       "      <td>1.0</td>\n",
       "      <td>5000.00</td>\n",
       "      <td>0.000200</td>\n",
       "    </tr>\n",
       "    <tr>\n",
       "      <th>1000011046</th>\n",
       "      <td>Community Film Project: The Art of Neighborhoo...</td>\n",
       "      <td>Film &amp; Video</td>\n",
       "      <td>Film &amp; Video</td>\n",
       "      <td>USD</td>\n",
       "      <td>2015-08-29</td>\n",
       "      <td>19500.0</td>\n",
       "      <td>2015-07-04 08:35:03</td>\n",
       "      <td>1283.0</td>\n",
       "      <td>0</td>\n",
       "      <td>14</td>\n",
       "      <td>US</td>\n",
       "      <td>1283.0</td>\n",
       "      <td>1283.0</td>\n",
       "      <td>19500.00</td>\n",
       "      <td>0.065795</td>\n",
       "    </tr>\n",
       "    <tr>\n",
       "      <th>...</th>\n",
       "      <td>...</td>\n",
       "      <td>...</td>\n",
       "      <td>...</td>\n",
       "      <td>...</td>\n",
       "      <td>...</td>\n",
       "      <td>...</td>\n",
       "      <td>...</td>\n",
       "      <td>...</td>\n",
       "      <td>...</td>\n",
       "      <td>...</td>\n",
       "      <td>...</td>\n",
       "      <td>...</td>\n",
       "      <td>...</td>\n",
       "      <td>...</td>\n",
       "      <td>...</td>\n",
       "    </tr>\n",
       "    <tr>\n",
       "      <th>999976400</th>\n",
       "      <td>ChknTruk Nationwide Charity Drive 2014 (Canceled)</td>\n",
       "      <td>Documentary</td>\n",
       "      <td>Film &amp; Video</td>\n",
       "      <td>USD</td>\n",
       "      <td>2014-10-17</td>\n",
       "      <td>50000.0</td>\n",
       "      <td>2014-09-17 02:35:30</td>\n",
       "      <td>25.0</td>\n",
       "      <td>0</td>\n",
       "      <td>1</td>\n",
       "      <td>US</td>\n",
       "      <td>25.0</td>\n",
       "      <td>25.0</td>\n",
       "      <td>50000.00</td>\n",
       "      <td>0.000500</td>\n",
       "    </tr>\n",
       "    <tr>\n",
       "      <th>999977640</th>\n",
       "      <td>The Tribe</td>\n",
       "      <td>Narrative Film</td>\n",
       "      <td>Film &amp; Video</td>\n",
       "      <td>USD</td>\n",
       "      <td>2011-07-19</td>\n",
       "      <td>1500.0</td>\n",
       "      <td>2011-06-22 03:35:14</td>\n",
       "      <td>155.0</td>\n",
       "      <td>0</td>\n",
       "      <td>5</td>\n",
       "      <td>US</td>\n",
       "      <td>155.0</td>\n",
       "      <td>155.0</td>\n",
       "      <td>1500.00</td>\n",
       "      <td>0.103333</td>\n",
       "    </tr>\n",
       "    <tr>\n",
       "      <th>999986353</th>\n",
       "      <td>Walls of Remedy- New lesbian Romantic Comedy f...</td>\n",
       "      <td>Narrative Film</td>\n",
       "      <td>Film &amp; Video</td>\n",
       "      <td>USD</td>\n",
       "      <td>2010-08-16</td>\n",
       "      <td>15000.0</td>\n",
       "      <td>2010-07-01 19:40:30</td>\n",
       "      <td>20.0</td>\n",
       "      <td>0</td>\n",
       "      <td>1</td>\n",
       "      <td>US</td>\n",
       "      <td>20.0</td>\n",
       "      <td>20.0</td>\n",
       "      <td>15000.00</td>\n",
       "      <td>0.001333</td>\n",
       "    </tr>\n",
       "    <tr>\n",
       "      <th>999987933</th>\n",
       "      <td>BioDefense Education Kit</td>\n",
       "      <td>Technology</td>\n",
       "      <td>Technology</td>\n",
       "      <td>USD</td>\n",
       "      <td>2016-02-13</td>\n",
       "      <td>15000.0</td>\n",
       "      <td>2016-01-13 18:13:53</td>\n",
       "      <td>200.0</td>\n",
       "      <td>0</td>\n",
       "      <td>6</td>\n",
       "      <td>US</td>\n",
       "      <td>200.0</td>\n",
       "      <td>200.0</td>\n",
       "      <td>15000.00</td>\n",
       "      <td>0.013333</td>\n",
       "    </tr>\n",
       "    <tr>\n",
       "      <th>999988282</th>\n",
       "      <td>Nou Renmen Ayiti!  We Love Haiti!</td>\n",
       "      <td>Performance Art</td>\n",
       "      <td>Art</td>\n",
       "      <td>USD</td>\n",
       "      <td>2011-08-16</td>\n",
       "      <td>2000.0</td>\n",
       "      <td>2011-07-19 09:07:47</td>\n",
       "      <td>524.0</td>\n",
       "      <td>0</td>\n",
       "      <td>17</td>\n",
       "      <td>US</td>\n",
       "      <td>524.0</td>\n",
       "      <td>524.0</td>\n",
       "      <td>2000.00</td>\n",
       "      <td>0.262000</td>\n",
       "    </tr>\n",
       "  </tbody>\n",
       "</table>\n",
       "<p>351804 rows × 15 columns</p>\n",
       "</div>"
      ],
      "text/plain": [
       "                                                         name  \\\n",
       "ID                                                              \n",
       "1000002330                    The Songs of Adelaide & Abullah   \n",
       "1000003930      Greeting From Earth: ZGAC Arts Capsule For ET   \n",
       "1000004038                                     Where is Hank?   \n",
       "1000007540  ToshiCapital Rekordz Needs Help to Complete Album   \n",
       "1000011046  Community Film Project: The Art of Neighborhoo...   \n",
       "...                                                       ...   \n",
       "999976400   ChknTruk Nationwide Charity Drive 2014 (Canceled)   \n",
       "999977640                                           The Tribe   \n",
       "999986353   Walls of Remedy- New lesbian Romantic Comedy f...   \n",
       "999987933                            BioDefense Education Kit   \n",
       "999988282                   Nou Renmen Ayiti!  We Love Haiti!   \n",
       "\n",
       "                   category main_category currency    deadline     goal  \\\n",
       "ID                                                                        \n",
       "1000002330           Poetry    Publishing      GBP  2015-10-09   1000.0   \n",
       "1000003930   Narrative Film  Film & Video      USD  2017-11-01  30000.0   \n",
       "1000004038   Narrative Film  Film & Video      USD  2013-02-26  45000.0   \n",
       "1000007540            Music         Music      USD  2012-04-16   5000.0   \n",
       "1000011046     Film & Video  Film & Video      USD  2015-08-29  19500.0   \n",
       "...                     ...           ...      ...         ...      ...   \n",
       "999976400       Documentary  Film & Video      USD  2014-10-17  50000.0   \n",
       "999977640    Narrative Film  Film & Video      USD  2011-07-19   1500.0   \n",
       "999986353    Narrative Film  Film & Video      USD  2010-08-16  15000.0   \n",
       "999987933        Technology    Technology      USD  2016-02-13  15000.0   \n",
       "999988282   Performance Art           Art      USD  2011-08-16   2000.0   \n",
       "\n",
       "                       launched  pledged  state  backers country  usd pledged  \\\n",
       "ID                                                                              \n",
       "1000002330  2015-08-11 12:12:28      0.0      0        0      GB          0.0   \n",
       "1000003930  2017-09-02 04:43:57   2421.0      0       15      US        100.0   \n",
       "1000004038  2013-01-12 00:20:50    220.0      0        3      US        220.0   \n",
       "1000007540  2012-03-17 03:24:11      1.0      0        1      US          1.0   \n",
       "1000011046  2015-07-04 08:35:03   1283.0      0       14      US       1283.0   \n",
       "...                         ...      ...    ...      ...     ...          ...   \n",
       "999976400   2014-09-17 02:35:30     25.0      0        1      US         25.0   \n",
       "999977640   2011-06-22 03:35:14    155.0      0        5      US        155.0   \n",
       "999986353   2010-07-01 19:40:30     20.0      0        1      US         20.0   \n",
       "999987933   2016-01-13 18:13:53    200.0      0        6      US        200.0   \n",
       "999988282   2011-07-19 09:07:47    524.0      0       17      US        524.0   \n",
       "\n",
       "            usd_pledged_real  usd_goal_real  pledge2goal  \n",
       "ID                                                        \n",
       "1000002330               0.0        1533.95     0.000000  \n",
       "1000003930            2421.0       30000.00     0.080700  \n",
       "1000004038             220.0       45000.00     0.004889  \n",
       "1000007540               1.0        5000.00     0.000200  \n",
       "1000011046            1283.0       19500.00     0.065795  \n",
       "...                      ...            ...          ...  \n",
       "999976400               25.0       50000.00     0.000500  \n",
       "999977640              155.0        1500.00     0.103333  \n",
       "999986353               20.0       15000.00     0.001333  \n",
       "999987933              200.0       15000.00     0.013333  \n",
       "999988282              524.0        2000.00     0.262000  \n",
       "\n",
       "[351804 rows x 15 columns]"
      ]
     },
     "execution_count": 1905,
     "metadata": {},
     "output_type": "execute_result"
    }
   ],
   "source": [
    "#drop outliers\n",
    "k = df.drop(df[outliers == True].index)\n",
    "k"
   ]
  },
  {
   "cell_type": "markdown",
   "metadata": {},
   "source": [
    "### Q1.9\n",
    "#### Visualize the feature for success and fail cases. What can you say about received distributions? (use bins=10 or 20). Type letter as your answer\n",
    "- A. Distributions intersect significantly, hard to say for sure that the ratio matters.\n",
    "- B. Distributions have almost no intersection, the bigger ratio, the bigger success.\n",
    "- C. Distributions intersect significantly, the bigger ratio, the bigger success\n",
    "- D. Distributions have almost no intersection, the less ratio, the bigger success."
   ]
  },
  {
   "cell_type": "code",
   "execution_count": 1906,
   "metadata": {},
   "outputs": [
    {
     "data": {
      "image/png": "[encoded data removed]",
      "text/plain": [
       "<Figure size 432x288 with 1 Axes>"
      ]
     },
     "metadata": {},
     "output_type": "display_data"
    }
   ],
   "source": [
    "bars, bins, _ = plt.hist(k['pledge2goal'], bins = 20)"
   ]
  },
  {
   "cell_type": "markdown",
   "metadata": {},
   "source": [
    "Answer: D. Distributions have almost no intersection, the less ratio, the bigger success."
   ]
  },
  {
   "cell_type": "markdown",
   "metadata": {},
   "source": [
    "### Q1.10\n",
    "#### Continue with plot from Q1.9. Where are the peaks located? We expect two numbers here as the answer"
   ]
  },
  {
   "cell_type": "code",
   "execution_count": 1907,
   "metadata": {},
   "outputs": [
    {
     "data": {
      "text/plain": [
       "array([184790.,  25042.,  12954.,   6990.,   3899.,   3015.,   2762.,\n",
       "        37276.,  26740.,  12940.,   8190.,   6614.,   5388.,   3857.,\n",
       "         2844.,   2396.,   1910.,   1629.,   1324.,   1244.])"
      ]
     },
     "execution_count": 1907,
     "metadata": {},
     "output_type": "execute_result"
    }
   ],
   "source": [
    "bars"
   ]
  },
  {
   "cell_type": "code",
   "execution_count": 1908,
   "metadata": {},
   "outputs": [],
   "source": [
    "bmax1 = sorted(bars)[-1]\n",
    "bmax2 = sorted(bars)[-2]"
   ]
  },
  {
   "cell_type": "code",
   "execution_count": 1909,
   "metadata": {},
   "outputs": [
    {
     "data": {
      "text/plain": [
       "array([ True, False, False, False, False, False, False, False, False,\n",
       "       False, False, False, False, False, False, False, False, False,\n",
       "       False, False])"
      ]
     },
     "execution_count": 1909,
     "metadata": {},
     "output_type": "execute_result"
    }
   ],
   "source": [
    "bars == bmax1"
   ]
  },
  {
   "cell_type": "code",
   "execution_count": 1910,
   "metadata": {},
   "outputs": [
    {
     "data": {
      "text/plain": [
       "array([False, False, False, False, False, False, False,  True, False,\n",
       "       False, False, False, False, False, False, False, False, False,\n",
       "       False, False])"
      ]
     },
     "execution_count": 1910,
     "metadata": {},
     "output_type": "execute_result"
    }
   ],
   "source": [
    "bars == bmax2"
   ]
  },
  {
   "cell_type": "code",
   "execution_count": 1911,
   "metadata": {},
   "outputs": [
    {
     "name": "stdout",
     "output_type": "stream",
     "text": [
      "0.936,0.0\n"
     ]
    }
   ],
   "source": [
    "print(str(round(bins[7],3))+','+str(bins[0]))"
   ]
  },
  {
   "cell_type": "markdown",
   "metadata": {},
   "source": [
    "### Q1.11\n",
    "#### Compute Pearson correlation coefficient between the pledge2real and target variable."
   ]
  },
  {
   "cell_type": "code",
   "execution_count": 1912,
   "metadata": {},
   "outputs": [
    {
     "name": "stdout",
     "output_type": "stream",
     "text": [
      "Pearson correlation =  0.015\n"
     ]
    }
   ],
   "source": [
    "print('Pearson correlation = ',round(df.corr(method='pearson').pledge2goal.state,3))"
   ]
  },
  {
   "cell_type": "markdown",
   "metadata": {},
   "source": [
    "### Q1.12\n",
    "#### Visualize dependancy of numerical data with success. What can you say about it?"
   ]
  },
  {
   "cell_type": "code",
   "execution_count": 1913,
   "metadata": {},
   "outputs": [
    {
     "name": "stdout",
     "output_type": "stream",
     "text": [
      "amount of backers per unsuccessful project\n"
     ]
    },
    {
     "data": {
      "image/png": "[encoded data removed]",
      "text/plain": [
       "<Figure size 432x288 with 1 Axes>"
      ]
     },
     "metadata": {},
     "output_type": "display_data"
    }
   ],
   "source": [
    "plt.hist(k.backers[k.state==0], range=(0,200), bins = 50);\n",
    "print('amount of backers per unsuccessful project')\n",
    "plt.ylabel('unsuccess projects')\n",
    "plt.xlabel('backers');"
   ]
  },
  {
   "cell_type": "code",
   "execution_count": 1914,
   "metadata": {},
   "outputs": [
    {
     "name": "stdout",
     "output_type": "stream",
     "text": [
      "amount of backers per successful project\n"
     ]
    },
    {
     "data": {
      "image/png": "[encoded data removed]",
      "text/plain": [
       "<Figure size 432x288 with 1 Axes>"
      ]
     },
     "metadata": {},
     "output_type": "display_data"
    }
   ],
   "source": [
    "plt.hist(k.backers[k.state==1], range=(0,200), bins = 50);\n",
    "print('amount of backers per successful project')\n",
    "plt.ylabel('success projects')\n",
    "plt.xlabel('backers');"
   ]
  },
  {
   "cell_type": "markdown",
   "metadata": {},
   "source": [
    "Answer: Among the successful projects, the largest number of successful ones has a certain number of backers, which is not the largest. It turns out that, in general, successful projects are not the ones that have collected the most backers."
   ]
  },
  {
   "cell_type": "markdown",
   "metadata": {},
   "source": [
    "# Feature generation\n",
    "Lets' generate some more feature that could be useful"
   ]
  },
  {
   "cell_type": "markdown",
   "metadata": {},
   "source": [
    "### Q2.1 Create a year column that would hold the year. How many projects were in year 2012?"
   ]
  },
  {
   "cell_type": "code",
   "execution_count": 1915,
   "metadata": {},
   "outputs": [
    {
     "name": "stdout",
     "output_type": "stream",
     "text": [
      "projects in 2012 =  41109\n"
     ]
    },
    {
     "data": {
      "text/html": [
       "<div>\n",
       "<style scoped>\n",
       "    .dataframe tbody tr th:only-of-type {\n",
       "        vertical-align: middle;\n",
       "    }\n",
       "\n",
       "    .dataframe tbody tr th {\n",
       "        vertical-align: top;\n",
       "    }\n",
       "\n",
       "    .dataframe thead th {\n",
       "        text-align: right;\n",
       "    }\n",
       "</style>\n",
       "<table border=\"1\" class=\"dataframe\">\n",
       "  <thead>\n",
       "    <tr style=\"text-align: right;\">\n",
       "      <th></th>\n",
       "      <th>name</th>\n",
       "      <th>category</th>\n",
       "      <th>main_category</th>\n",
       "      <th>currency</th>\n",
       "      <th>deadline</th>\n",
       "      <th>goal</th>\n",
       "      <th>launched</th>\n",
       "      <th>pledged</th>\n",
       "      <th>state</th>\n",
       "      <th>backers</th>\n",
       "      <th>country</th>\n",
       "      <th>usd pledged</th>\n",
       "      <th>usd_pledged_real</th>\n",
       "      <th>usd_goal_real</th>\n",
       "      <th>pledge2goal</th>\n",
       "      <th>year</th>\n",
       "    </tr>\n",
       "    <tr>\n",
       "      <th>ID</th>\n",
       "      <th></th>\n",
       "      <th></th>\n",
       "      <th></th>\n",
       "      <th></th>\n",
       "      <th></th>\n",
       "      <th></th>\n",
       "      <th></th>\n",
       "      <th></th>\n",
       "      <th></th>\n",
       "      <th></th>\n",
       "      <th></th>\n",
       "      <th></th>\n",
       "      <th></th>\n",
       "      <th></th>\n",
       "      <th></th>\n",
       "      <th></th>\n",
       "    </tr>\n",
       "  </thead>\n",
       "  <tbody>\n",
       "    <tr>\n",
       "      <th>1000002330</th>\n",
       "      <td>The Songs of Adelaide &amp; Abullah</td>\n",
       "      <td>Poetry</td>\n",
       "      <td>Publishing</td>\n",
       "      <td>GBP</td>\n",
       "      <td>2015-10-09</td>\n",
       "      <td>1000.0</td>\n",
       "      <td>2015-08-11 12:12:28</td>\n",
       "      <td>0.0</td>\n",
       "      <td>0</td>\n",
       "      <td>0</td>\n",
       "      <td>GB</td>\n",
       "      <td>0.0</td>\n",
       "      <td>0.0</td>\n",
       "      <td>1533.95</td>\n",
       "      <td>0.000000</td>\n",
       "      <td>2015</td>\n",
       "    </tr>\n",
       "    <tr>\n",
       "      <th>1000003930</th>\n",
       "      <td>Greeting From Earth: ZGAC Arts Capsule For ET</td>\n",
       "      <td>Narrative Film</td>\n",
       "      <td>Film &amp; Video</td>\n",
       "      <td>USD</td>\n",
       "      <td>2017-11-01</td>\n",
       "      <td>30000.0</td>\n",
       "      <td>2017-09-02 04:43:57</td>\n",
       "      <td>2421.0</td>\n",
       "      <td>0</td>\n",
       "      <td>15</td>\n",
       "      <td>US</td>\n",
       "      <td>100.0</td>\n",
       "      <td>2421.0</td>\n",
       "      <td>30000.00</td>\n",
       "      <td>0.080700</td>\n",
       "      <td>2017</td>\n",
       "    </tr>\n",
       "    <tr>\n",
       "      <th>1000004038</th>\n",
       "      <td>Where is Hank?</td>\n",
       "      <td>Narrative Film</td>\n",
       "      <td>Film &amp; Video</td>\n",
       "      <td>USD</td>\n",
       "      <td>2013-02-26</td>\n",
       "      <td>45000.0</td>\n",
       "      <td>2013-01-12 00:20:50</td>\n",
       "      <td>220.0</td>\n",
       "      <td>0</td>\n",
       "      <td>3</td>\n",
       "      <td>US</td>\n",
       "      <td>220.0</td>\n",
       "      <td>220.0</td>\n",
       "      <td>45000.00</td>\n",
       "      <td>0.004889</td>\n",
       "      <td>2013</td>\n",
       "    </tr>\n",
       "    <tr>\n",
       "      <th>1000007540</th>\n",
       "      <td>ToshiCapital Rekordz Needs Help to Complete Album</td>\n",
       "      <td>Music</td>\n",
       "      <td>Music</td>\n",
       "      <td>USD</td>\n",
       "      <td>2012-04-16</td>\n",
       "      <td>5000.0</td>\n",
       "      <td>2012-03-17 03:24:11</td>\n",
       "      <td>1.0</td>\n",
       "      <td>0</td>\n",
       "      <td>1</td>\n",
       "      <td>US</td>\n",
       "      <td>1.0</td>\n",
       "      <td>1.0</td>\n",
       "      <td>5000.00</td>\n",
       "      <td>0.000200</td>\n",
       "      <td>2012</td>\n",
       "    </tr>\n",
       "    <tr>\n",
       "      <th>1000011046</th>\n",
       "      <td>Community Film Project: The Art of Neighborhoo...</td>\n",
       "      <td>Film &amp; Video</td>\n",
       "      <td>Film &amp; Video</td>\n",
       "      <td>USD</td>\n",
       "      <td>2015-08-29</td>\n",
       "      <td>19500.0</td>\n",
       "      <td>2015-07-04 08:35:03</td>\n",
       "      <td>1283.0</td>\n",
       "      <td>0</td>\n",
       "      <td>14</td>\n",
       "      <td>US</td>\n",
       "      <td>1283.0</td>\n",
       "      <td>1283.0</td>\n",
       "      <td>19500.00</td>\n",
       "      <td>0.065795</td>\n",
       "      <td>2015</td>\n",
       "    </tr>\n",
       "    <tr>\n",
       "      <th>...</th>\n",
       "      <td>...</td>\n",
       "      <td>...</td>\n",
       "      <td>...</td>\n",
       "      <td>...</td>\n",
       "      <td>...</td>\n",
       "      <td>...</td>\n",
       "      <td>...</td>\n",
       "      <td>...</td>\n",
       "      <td>...</td>\n",
       "      <td>...</td>\n",
       "      <td>...</td>\n",
       "      <td>...</td>\n",
       "      <td>...</td>\n",
       "      <td>...</td>\n",
       "      <td>...</td>\n",
       "      <td>...</td>\n",
       "    </tr>\n",
       "    <tr>\n",
       "      <th>999976400</th>\n",
       "      <td>ChknTruk Nationwide Charity Drive 2014 (Canceled)</td>\n",
       "      <td>Documentary</td>\n",
       "      <td>Film &amp; Video</td>\n",
       "      <td>USD</td>\n",
       "      <td>2014-10-17</td>\n",
       "      <td>50000.0</td>\n",
       "      <td>2014-09-17 02:35:30</td>\n",
       "      <td>25.0</td>\n",
       "      <td>0</td>\n",
       "      <td>1</td>\n",
       "      <td>US</td>\n",
       "      <td>25.0</td>\n",
       "      <td>25.0</td>\n",
       "      <td>50000.00</td>\n",
       "      <td>0.000500</td>\n",
       "      <td>2014</td>\n",
       "    </tr>\n",
       "    <tr>\n",
       "      <th>999977640</th>\n",
       "      <td>The Tribe</td>\n",
       "      <td>Narrative Film</td>\n",
       "      <td>Film &amp; Video</td>\n",
       "      <td>USD</td>\n",
       "      <td>2011-07-19</td>\n",
       "      <td>1500.0</td>\n",
       "      <td>2011-06-22 03:35:14</td>\n",
       "      <td>155.0</td>\n",
       "      <td>0</td>\n",
       "      <td>5</td>\n",
       "      <td>US</td>\n",
       "      <td>155.0</td>\n",
       "      <td>155.0</td>\n",
       "      <td>1500.00</td>\n",
       "      <td>0.103333</td>\n",
       "      <td>2011</td>\n",
       "    </tr>\n",
       "    <tr>\n",
       "      <th>999986353</th>\n",
       "      <td>Walls of Remedy- New lesbian Romantic Comedy f...</td>\n",
       "      <td>Narrative Film</td>\n",
       "      <td>Film &amp; Video</td>\n",
       "      <td>USD</td>\n",
       "      <td>2010-08-16</td>\n",
       "      <td>15000.0</td>\n",
       "      <td>2010-07-01 19:40:30</td>\n",
       "      <td>20.0</td>\n",
       "      <td>0</td>\n",
       "      <td>1</td>\n",
       "      <td>US</td>\n",
       "      <td>20.0</td>\n",
       "      <td>20.0</td>\n",
       "      <td>15000.00</td>\n",
       "      <td>0.001333</td>\n",
       "      <td>2010</td>\n",
       "    </tr>\n",
       "    <tr>\n",
       "      <th>999987933</th>\n",
       "      <td>BioDefense Education Kit</td>\n",
       "      <td>Technology</td>\n",
       "      <td>Technology</td>\n",
       "      <td>USD</td>\n",
       "      <td>2016-02-13</td>\n",
       "      <td>15000.0</td>\n",
       "      <td>2016-01-13 18:13:53</td>\n",
       "      <td>200.0</td>\n",
       "      <td>0</td>\n",
       "      <td>6</td>\n",
       "      <td>US</td>\n",
       "      <td>200.0</td>\n",
       "      <td>200.0</td>\n",
       "      <td>15000.00</td>\n",
       "      <td>0.013333</td>\n",
       "      <td>2016</td>\n",
       "    </tr>\n",
       "    <tr>\n",
       "      <th>999988282</th>\n",
       "      <td>Nou Renmen Ayiti!  We Love Haiti!</td>\n",
       "      <td>Performance Art</td>\n",
       "      <td>Art</td>\n",
       "      <td>USD</td>\n",
       "      <td>2011-08-16</td>\n",
       "      <td>2000.0</td>\n",
       "      <td>2011-07-19 09:07:47</td>\n",
       "      <td>524.0</td>\n",
       "      <td>0</td>\n",
       "      <td>17</td>\n",
       "      <td>US</td>\n",
       "      <td>524.0</td>\n",
       "      <td>524.0</td>\n",
       "      <td>2000.00</td>\n",
       "      <td>0.262000</td>\n",
       "      <td>2011</td>\n",
       "    </tr>\n",
       "  </tbody>\n",
       "</table>\n",
       "<p>370219 rows × 16 columns</p>\n",
       "</div>"
      ],
      "text/plain": [
       "                                                         name  \\\n",
       "ID                                                              \n",
       "1000002330                    The Songs of Adelaide & Abullah   \n",
       "1000003930      Greeting From Earth: ZGAC Arts Capsule For ET   \n",
       "1000004038                                     Where is Hank?   \n",
       "1000007540  ToshiCapital Rekordz Needs Help to Complete Album   \n",
       "1000011046  Community Film Project: The Art of Neighborhoo...   \n",
       "...                                                       ...   \n",
       "999976400   ChknTruk Nationwide Charity Drive 2014 (Canceled)   \n",
       "999977640                                           The Tribe   \n",
       "999986353   Walls of Remedy- New lesbian Romantic Comedy f...   \n",
       "999987933                            BioDefense Education Kit   \n",
       "999988282                   Nou Renmen Ayiti!  We Love Haiti!   \n",
       "\n",
       "                   category main_category currency    deadline     goal  \\\n",
       "ID                                                                        \n",
       "1000002330           Poetry    Publishing      GBP  2015-10-09   1000.0   \n",
       "1000003930   Narrative Film  Film & Video      USD  2017-11-01  30000.0   \n",
       "1000004038   Narrative Film  Film & Video      USD  2013-02-26  45000.0   \n",
       "1000007540            Music         Music      USD  2012-04-16   5000.0   \n",
       "1000011046     Film & Video  Film & Video      USD  2015-08-29  19500.0   \n",
       "...                     ...           ...      ...         ...      ...   \n",
       "999976400       Documentary  Film & Video      USD  2014-10-17  50000.0   \n",
       "999977640    Narrative Film  Film & Video      USD  2011-07-19   1500.0   \n",
       "999986353    Narrative Film  Film & Video      USD  2010-08-16  15000.0   \n",
       "999987933        Technology    Technology      USD  2016-02-13  15000.0   \n",
       "999988282   Performance Art           Art      USD  2011-08-16   2000.0   \n",
       "\n",
       "                       launched  pledged  state  backers country  usd pledged  \\\n",
       "ID                                                                              \n",
       "1000002330  2015-08-11 12:12:28      0.0      0        0      GB          0.0   \n",
       "1000003930  2017-09-02 04:43:57   2421.0      0       15      US        100.0   \n",
       "1000004038  2013-01-12 00:20:50    220.0      0        3      US        220.0   \n",
       "1000007540  2012-03-17 03:24:11      1.0      0        1      US          1.0   \n",
       "1000011046  2015-07-04 08:35:03   1283.0      0       14      US       1283.0   \n",
       "...                         ...      ...    ...      ...     ...          ...   \n",
       "999976400   2014-09-17 02:35:30     25.0      0        1      US         25.0   \n",
       "999977640   2011-06-22 03:35:14    155.0      0        5      US        155.0   \n",
       "999986353   2010-07-01 19:40:30     20.0      0        1      US         20.0   \n",
       "999987933   2016-01-13 18:13:53    200.0      0        6      US        200.0   \n",
       "999988282   2011-07-19 09:07:47    524.0      0       17      US        524.0   \n",
       "\n",
       "            usd_pledged_real  usd_goal_real  pledge2goal  year  \n",
       "ID                                                              \n",
       "1000002330               0.0        1533.95     0.000000  2015  \n",
       "1000003930            2421.0       30000.00     0.080700  2017  \n",
       "1000004038             220.0       45000.00     0.004889  2013  \n",
       "1000007540               1.0        5000.00     0.000200  2012  \n",
       "1000011046            1283.0       19500.00     0.065795  2015  \n",
       "...                      ...            ...          ...   ...  \n",
       "999976400               25.0       50000.00     0.000500  2014  \n",
       "999977640              155.0        1500.00     0.103333  2011  \n",
       "999986353               20.0       15000.00     0.001333  2010  \n",
       "999987933              200.0       15000.00     0.013333  2016  \n",
       "999988282              524.0        2000.00     0.262000  2011  \n",
       "\n",
       "[370219 rows x 16 columns]"
      ]
     },
     "execution_count": 1915,
     "metadata": {},
     "output_type": "execute_result"
    }
   ],
   "source": [
    "df['year'] = pd.to_datetime(df['launched']).dt.year\n",
    "print('projects in 2012 = ',df.query(\"year == 2012\").shape[0]);\n",
    "df"
   ]
  },
  {
   "cell_type": "markdown",
   "metadata": {},
   "source": [
    "### Q2.2 Make a column 'duration_days' with number of full days from launch to deadline.\n",
    "What is median value for this column?"
   ]
  },
  {
   "cell_type": "code",
   "execution_count": 1916,
   "metadata": {},
   "outputs": [
    {
     "name": "stdout",
     "output_type": "stream",
     "text": [
      "median value for this column =  29\n"
     ]
    },
    {
     "data": {
      "text/html": [
       "<div>\n",
       "<style scoped>\n",
       "    .dataframe tbody tr th:only-of-type {\n",
       "        vertical-align: middle;\n",
       "    }\n",
       "\n",
       "    .dataframe tbody tr th {\n",
       "        vertical-align: top;\n",
       "    }\n",
       "\n",
       "    .dataframe thead th {\n",
       "        text-align: right;\n",
       "    }\n",
       "</style>\n",
       "<table border=\"1\" class=\"dataframe\">\n",
       "  <thead>\n",
       "    <tr style=\"text-align: right;\">\n",
       "      <th></th>\n",
       "      <th>name</th>\n",
       "      <th>category</th>\n",
       "      <th>main_category</th>\n",
       "      <th>currency</th>\n",
       "      <th>deadline</th>\n",
       "      <th>goal</th>\n",
       "      <th>launched</th>\n",
       "      <th>pledged</th>\n",
       "      <th>state</th>\n",
       "      <th>backers</th>\n",
       "      <th>country</th>\n",
       "      <th>usd pledged</th>\n",
       "      <th>usd_pledged_real</th>\n",
       "      <th>usd_goal_real</th>\n",
       "      <th>pledge2goal</th>\n",
       "      <th>year</th>\n",
       "      <th>duration_days</th>\n",
       "    </tr>\n",
       "    <tr>\n",
       "      <th>ID</th>\n",
       "      <th></th>\n",
       "      <th></th>\n",
       "      <th></th>\n",
       "      <th></th>\n",
       "      <th></th>\n",
       "      <th></th>\n",
       "      <th></th>\n",
       "      <th></th>\n",
       "      <th></th>\n",
       "      <th></th>\n",
       "      <th></th>\n",
       "      <th></th>\n",
       "      <th></th>\n",
       "      <th></th>\n",
       "      <th></th>\n",
       "      <th></th>\n",
       "      <th></th>\n",
       "    </tr>\n",
       "  </thead>\n",
       "  <tbody>\n",
       "    <tr>\n",
       "      <th>1000002330</th>\n",
       "      <td>The Songs of Adelaide &amp; Abullah</td>\n",
       "      <td>Poetry</td>\n",
       "      <td>Publishing</td>\n",
       "      <td>GBP</td>\n",
       "      <td>2015-10-09</td>\n",
       "      <td>1000.0</td>\n",
       "      <td>2015-08-11 12:12:28</td>\n",
       "      <td>0.0</td>\n",
       "      <td>0</td>\n",
       "      <td>0</td>\n",
       "      <td>GB</td>\n",
       "      <td>0.0</td>\n",
       "      <td>0.0</td>\n",
       "      <td>1533.95</td>\n",
       "      <td>0.000000</td>\n",
       "      <td>2015</td>\n",
       "      <td>58</td>\n",
       "    </tr>\n",
       "    <tr>\n",
       "      <th>1000003930</th>\n",
       "      <td>Greeting From Earth: ZGAC Arts Capsule For ET</td>\n",
       "      <td>Narrative Film</td>\n",
       "      <td>Film &amp; Video</td>\n",
       "      <td>USD</td>\n",
       "      <td>2017-11-01</td>\n",
       "      <td>30000.0</td>\n",
       "      <td>2017-09-02 04:43:57</td>\n",
       "      <td>2421.0</td>\n",
       "      <td>0</td>\n",
       "      <td>15</td>\n",
       "      <td>US</td>\n",
       "      <td>100.0</td>\n",
       "      <td>2421.0</td>\n",
       "      <td>30000.00</td>\n",
       "      <td>0.080700</td>\n",
       "      <td>2017</td>\n",
       "      <td>59</td>\n",
       "    </tr>\n",
       "    <tr>\n",
       "      <th>1000004038</th>\n",
       "      <td>Where is Hank?</td>\n",
       "      <td>Narrative Film</td>\n",
       "      <td>Film &amp; Video</td>\n",
       "      <td>USD</td>\n",
       "      <td>2013-02-26</td>\n",
       "      <td>45000.0</td>\n",
       "      <td>2013-01-12 00:20:50</td>\n",
       "      <td>220.0</td>\n",
       "      <td>0</td>\n",
       "      <td>3</td>\n",
       "      <td>US</td>\n",
       "      <td>220.0</td>\n",
       "      <td>220.0</td>\n",
       "      <td>45000.00</td>\n",
       "      <td>0.004889</td>\n",
       "      <td>2013</td>\n",
       "      <td>44</td>\n",
       "    </tr>\n",
       "    <tr>\n",
       "      <th>1000007540</th>\n",
       "      <td>ToshiCapital Rekordz Needs Help to Complete Album</td>\n",
       "      <td>Music</td>\n",
       "      <td>Music</td>\n",
       "      <td>USD</td>\n",
       "      <td>2012-04-16</td>\n",
       "      <td>5000.0</td>\n",
       "      <td>2012-03-17 03:24:11</td>\n",
       "      <td>1.0</td>\n",
       "      <td>0</td>\n",
       "      <td>1</td>\n",
       "      <td>US</td>\n",
       "      <td>1.0</td>\n",
       "      <td>1.0</td>\n",
       "      <td>5000.00</td>\n",
       "      <td>0.000200</td>\n",
       "      <td>2012</td>\n",
       "      <td>29</td>\n",
       "    </tr>\n",
       "    <tr>\n",
       "      <th>1000011046</th>\n",
       "      <td>Community Film Project: The Art of Neighborhoo...</td>\n",
       "      <td>Film &amp; Video</td>\n",
       "      <td>Film &amp; Video</td>\n",
       "      <td>USD</td>\n",
       "      <td>2015-08-29</td>\n",
       "      <td>19500.0</td>\n",
       "      <td>2015-07-04 08:35:03</td>\n",
       "      <td>1283.0</td>\n",
       "      <td>0</td>\n",
       "      <td>14</td>\n",
       "      <td>US</td>\n",
       "      <td>1283.0</td>\n",
       "      <td>1283.0</td>\n",
       "      <td>19500.00</td>\n",
       "      <td>0.065795</td>\n",
       "      <td>2015</td>\n",
       "      <td>55</td>\n",
       "    </tr>\n",
       "    <tr>\n",
       "      <th>...</th>\n",
       "      <td>...</td>\n",
       "      <td>...</td>\n",
       "      <td>...</td>\n",
       "      <td>...</td>\n",
       "      <td>...</td>\n",
       "      <td>...</td>\n",
       "      <td>...</td>\n",
       "      <td>...</td>\n",
       "      <td>...</td>\n",
       "      <td>...</td>\n",
       "      <td>...</td>\n",
       "      <td>...</td>\n",
       "      <td>...</td>\n",
       "      <td>...</td>\n",
       "      <td>...</td>\n",
       "      <td>...</td>\n",
       "      <td>...</td>\n",
       "    </tr>\n",
       "    <tr>\n",
       "      <th>999976400</th>\n",
       "      <td>ChknTruk Nationwide Charity Drive 2014 (Canceled)</td>\n",
       "      <td>Documentary</td>\n",
       "      <td>Film &amp; Video</td>\n",
       "      <td>USD</td>\n",
       "      <td>2014-10-17</td>\n",
       "      <td>50000.0</td>\n",
       "      <td>2014-09-17 02:35:30</td>\n",
       "      <td>25.0</td>\n",
       "      <td>0</td>\n",
       "      <td>1</td>\n",
       "      <td>US</td>\n",
       "      <td>25.0</td>\n",
       "      <td>25.0</td>\n",
       "      <td>50000.00</td>\n",
       "      <td>0.000500</td>\n",
       "      <td>2014</td>\n",
       "      <td>29</td>\n",
       "    </tr>\n",
       "    <tr>\n",
       "      <th>999977640</th>\n",
       "      <td>The Tribe</td>\n",
       "      <td>Narrative Film</td>\n",
       "      <td>Film &amp; Video</td>\n",
       "      <td>USD</td>\n",
       "      <td>2011-07-19</td>\n",
       "      <td>1500.0</td>\n",
       "      <td>2011-06-22 03:35:14</td>\n",
       "      <td>155.0</td>\n",
       "      <td>0</td>\n",
       "      <td>5</td>\n",
       "      <td>US</td>\n",
       "      <td>155.0</td>\n",
       "      <td>155.0</td>\n",
       "      <td>1500.00</td>\n",
       "      <td>0.103333</td>\n",
       "      <td>2011</td>\n",
       "      <td>26</td>\n",
       "    </tr>\n",
       "    <tr>\n",
       "      <th>999986353</th>\n",
       "      <td>Walls of Remedy- New lesbian Romantic Comedy f...</td>\n",
       "      <td>Narrative Film</td>\n",
       "      <td>Film &amp; Video</td>\n",
       "      <td>USD</td>\n",
       "      <td>2010-08-16</td>\n",
       "      <td>15000.0</td>\n",
       "      <td>2010-07-01 19:40:30</td>\n",
       "      <td>20.0</td>\n",
       "      <td>0</td>\n",
       "      <td>1</td>\n",
       "      <td>US</td>\n",
       "      <td>20.0</td>\n",
       "      <td>20.0</td>\n",
       "      <td>15000.00</td>\n",
       "      <td>0.001333</td>\n",
       "      <td>2010</td>\n",
       "      <td>45</td>\n",
       "    </tr>\n",
       "    <tr>\n",
       "      <th>999987933</th>\n",
       "      <td>BioDefense Education Kit</td>\n",
       "      <td>Technology</td>\n",
       "      <td>Technology</td>\n",
       "      <td>USD</td>\n",
       "      <td>2016-02-13</td>\n",
       "      <td>15000.0</td>\n",
       "      <td>2016-01-13 18:13:53</td>\n",
       "      <td>200.0</td>\n",
       "      <td>0</td>\n",
       "      <td>6</td>\n",
       "      <td>US</td>\n",
       "      <td>200.0</td>\n",
       "      <td>200.0</td>\n",
       "      <td>15000.00</td>\n",
       "      <td>0.013333</td>\n",
       "      <td>2016</td>\n",
       "      <td>30</td>\n",
       "    </tr>\n",
       "    <tr>\n",
       "      <th>999988282</th>\n",
       "      <td>Nou Renmen Ayiti!  We Love Haiti!</td>\n",
       "      <td>Performance Art</td>\n",
       "      <td>Art</td>\n",
       "      <td>USD</td>\n",
       "      <td>2011-08-16</td>\n",
       "      <td>2000.0</td>\n",
       "      <td>2011-07-19 09:07:47</td>\n",
       "      <td>524.0</td>\n",
       "      <td>0</td>\n",
       "      <td>17</td>\n",
       "      <td>US</td>\n",
       "      <td>524.0</td>\n",
       "      <td>524.0</td>\n",
       "      <td>2000.00</td>\n",
       "      <td>0.262000</td>\n",
       "      <td>2011</td>\n",
       "      <td>27</td>\n",
       "    </tr>\n",
       "  </tbody>\n",
       "</table>\n",
       "<p>370219 rows × 17 columns</p>\n",
       "</div>"
      ],
      "text/plain": [
       "                                                         name  \\\n",
       "ID                                                              \n",
       "1000002330                    The Songs of Adelaide & Abullah   \n",
       "1000003930      Greeting From Earth: ZGAC Arts Capsule For ET   \n",
       "1000004038                                     Where is Hank?   \n",
       "1000007540  ToshiCapital Rekordz Needs Help to Complete Album   \n",
       "1000011046  Community Film Project: The Art of Neighborhoo...   \n",
       "...                                                       ...   \n",
       "999976400   ChknTruk Nationwide Charity Drive 2014 (Canceled)   \n",
       "999977640                                           The Tribe   \n",
       "999986353   Walls of Remedy- New lesbian Romantic Comedy f...   \n",
       "999987933                            BioDefense Education Kit   \n",
       "999988282                   Nou Renmen Ayiti!  We Love Haiti!   \n",
       "\n",
       "                   category main_category currency    deadline     goal  \\\n",
       "ID                                                                        \n",
       "1000002330           Poetry    Publishing      GBP  2015-10-09   1000.0   \n",
       "1000003930   Narrative Film  Film & Video      USD  2017-11-01  30000.0   \n",
       "1000004038   Narrative Film  Film & Video      USD  2013-02-26  45000.0   \n",
       "1000007540            Music         Music      USD  2012-04-16   5000.0   \n",
       "1000011046     Film & Video  Film & Video      USD  2015-08-29  19500.0   \n",
       "...                     ...           ...      ...         ...      ...   \n",
       "999976400       Documentary  Film & Video      USD  2014-10-17  50000.0   \n",
       "999977640    Narrative Film  Film & Video      USD  2011-07-19   1500.0   \n",
       "999986353    Narrative Film  Film & Video      USD  2010-08-16  15000.0   \n",
       "999987933        Technology    Technology      USD  2016-02-13  15000.0   \n",
       "999988282   Performance Art           Art      USD  2011-08-16   2000.0   \n",
       "\n",
       "                       launched  pledged  state  backers country  usd pledged  \\\n",
       "ID                                                                              \n",
       "1000002330  2015-08-11 12:12:28      0.0      0        0      GB          0.0   \n",
       "1000003930  2017-09-02 04:43:57   2421.0      0       15      US        100.0   \n",
       "1000004038  2013-01-12 00:20:50    220.0      0        3      US        220.0   \n",
       "1000007540  2012-03-17 03:24:11      1.0      0        1      US          1.0   \n",
       "1000011046  2015-07-04 08:35:03   1283.0      0       14      US       1283.0   \n",
       "...                         ...      ...    ...      ...     ...          ...   \n",
       "999976400   2014-09-17 02:35:30     25.0      0        1      US         25.0   \n",
       "999977640   2011-06-22 03:35:14    155.0      0        5      US        155.0   \n",
       "999986353   2010-07-01 19:40:30     20.0      0        1      US         20.0   \n",
       "999987933   2016-01-13 18:13:53    200.0      0        6      US        200.0   \n",
       "999988282   2011-07-19 09:07:47    524.0      0       17      US        524.0   \n",
       "\n",
       "            usd_pledged_real  usd_goal_real  pledge2goal  year  duration_days  \n",
       "ID                                                                             \n",
       "1000002330               0.0        1533.95     0.000000  2015             58  \n",
       "1000003930            2421.0       30000.00     0.080700  2017             59  \n",
       "1000004038             220.0       45000.00     0.004889  2013             44  \n",
       "1000007540               1.0        5000.00     0.000200  2012             29  \n",
       "1000011046            1283.0       19500.00     0.065795  2015             55  \n",
       "...                      ...            ...          ...   ...            ...  \n",
       "999976400               25.0       50000.00     0.000500  2014             29  \n",
       "999977640              155.0        1500.00     0.103333  2011             26  \n",
       "999986353               20.0       15000.00     0.001333  2010             45  \n",
       "999987933              200.0       15000.00     0.013333  2016             30  \n",
       "999988282              524.0        2000.00     0.262000  2011             27  \n",
       "\n",
       "[370219 rows x 17 columns]"
      ]
     },
     "execution_count": 1916,
     "metadata": {},
     "output_type": "execute_result"
    }
   ],
   "source": [
    "df['duration_days'] = (pd.to_datetime(df['deadline']) - pd.to_datetime(df['launched'])).dt.days\n",
    "print('median value for this column = ',int(df.duration_days.median()))\n",
    "df"
   ]
  },
  {
   "cell_type": "markdown",
   "metadata": {},
   "source": [
    "### Q2.3 Delete mistaken value from column 'country'. What is the value? (CANCELLED QUESTION)"
   ]
  },
  {
   "cell_type": "code",
   "execution_count": 1917,
   "metadata": {},
   "outputs": [
    {
     "name": "stdout",
     "output_type": "stream",
     "text": [
      "US    289669\n",
      "GB     33214\n",
      "CA     14508\n",
      "AU      7681\n",
      "DE      4057\n",
      "FR      2873\n",
      "NL      2807\n",
      "IT      2775\n",
      "ES      2204\n",
      "SE      1718\n",
      "MX      1632\n",
      "NZ      1425\n",
      "DK      1083\n",
      "IE       793\n",
      "CH       736\n",
      "NO       694\n",
      "BE       597\n",
      "AT       576\n",
      "HK       564\n",
      "SG       521\n",
      "LU        61\n",
      "JP        31\n",
      "Name: country, dtype: int64\n",
      "\n",
      "N,0\" - mistaken value\n"
     ]
    }
   ],
   "source": [
    "print(df.country.value_counts()) #glance on values from country\n",
    "print()\n",
    "print('N,0\" - mistaken value')"
   ]
  },
  {
   "cell_type": "code",
   "execution_count": 1918,
   "metadata": {},
   "outputs": [
    {
     "data": {
      "text/plain": [
       "US    289669\n",
       "GB     33214\n",
       "CA     14508\n",
       "AU      7681\n",
       "DE      4057\n",
       "FR      2873\n",
       "NL      2807\n",
       "IT      2775\n",
       "ES      2204\n",
       "SE      1718\n",
       "MX      1632\n",
       "NZ      1425\n",
       "DK      1083\n",
       "IE       793\n",
       "CH       736\n",
       "NO       694\n",
       "BE       597\n",
       "AT       576\n",
       "HK       564\n",
       "SG       521\n",
       "LU        61\n",
       "JP        31\n",
       "Name: country, dtype: int64"
      ]
     },
     "execution_count": 1918,
     "metadata": {},
     "output_type": "execute_result"
    }
   ],
   "source": [
    "df = df.drop(df[df.country == 'N,0\"'].index) # delete rows with country 'N,0\"'\n",
    "df.country.value_counts() # result"
   ]
  },
  {
   "cell_type": "markdown",
   "metadata": {},
   "source": [
    "### Q2.4 Make column 'region' out of column country (america, europe, asia, oceania(including australiza/nz))\n",
    "Where is the region with the worst conversion rate (percentage of successful projects)"
   ]
  },
  {
   "cell_type": "code",
   "execution_count": 1919,
   "metadata": {},
   "outputs": [
    {
     "data": {
      "text/plain": [
       "US    289669\n",
       "GB     33214\n",
       "CA     14508\n",
       "AU      7681\n",
       "DE      4057\n",
       "FR      2873\n",
       "NL      2807\n",
       "IT      2775\n",
       "ES      2204\n",
       "SE      1718\n",
       "MX      1632\n",
       "NZ      1425\n",
       "DK      1083\n",
       "IE       793\n",
       "CH       736\n",
       "NO       694\n",
       "BE       597\n",
       "AT       576\n",
       "HK       564\n",
       "SG       521\n",
       "LU        61\n",
       "JP        31\n",
       "Name: country, dtype: int64"
      ]
     },
     "execution_count": 1919,
     "metadata": {},
     "output_type": "execute_result"
    }
   ],
   "source": [
    "k = df.country.value_counts()\n",
    "k"
   ]
  },
  {
   "cell_type": "raw",
   "metadata": {},
   "source": [
    "US    289671 america\n",
    "GB     33215 Europe\n",
    "CA     14508 america\n",
    "AU      7681 oceania\n",
    "DE      4057 Europe\n",
    "FR      2873 Europe\n",
    "NL      2807 Europe\n",
    "IT      2775 Europe\n",
    "ES      2204 Europe\n",
    "SE      1718 Europe\n",
    "MX      1632 america\n",
    "NZ      1425 oceania\n",
    "DK      1083 Europe\n",
    "IE       793 Europe\n",
    "CH       736 Europe\n",
    "NO       694 Europe\n",
    "BE       597 Europe\n",
    "AT       576 Europe\n",
    "HK       564 asia\n",
    "SG       521 asia\n",
    "LU        61 Europe\n",
    "JP        31 asia"
   ]
  },
  {
   "cell_type": "code",
   "execution_count": 1920,
   "metadata": {},
   "outputs": [],
   "source": [
    "#df.loc[df['country'] == (\"US\" or \"CA\" or \"MX\"), 'region'] = 'america' # 'or' doesn't work (why?)\n",
    "df.loc[df['country'] == \"US\", 'region'] = 'america'\n",
    "df.loc[df['country'] == \"CA\", 'region'] = 'america'\n",
    "df.loc[df['country'] == \"MX\", 'region'] = 'america'\n",
    "\n",
    "#df.loc[df['country'] == (\"GB\" or \"DE\" or \"FR\" or \"NL\" or \"IT\" or \"ES\" or \"SE\" or \"DK\" or \"IE\" or \"CH\" or \"NO\" or \"BE\" or \"AT\" or \"LU\"), 'region'] = 'europe'\n",
    "df.loc[df['country'] == \"GB\", 'region'] = 'europe'\n",
    "df.loc[df['country'] == \"DE\", 'region'] = 'europe'\n",
    "df.loc[df['country'] == \"FR\", 'region'] = 'europe'\n",
    "df.loc[df['country'] == \"NL\", 'region'] = 'europe'\n",
    "df.loc[df['country'] == \"IT\", 'region'] = 'europe'\n",
    "df.loc[df['country'] == \"ES\", 'region'] = 'europe'\n",
    "df.loc[df['country'] == \"SE\", 'region'] = 'europe'\n",
    "df.loc[df['country'] == \"DK\", 'region'] = 'europe'\n",
    "df.loc[df['country'] == \"IE\", 'region'] = 'europe'\n",
    "df.loc[df['country'] == \"CH\", 'region'] = 'europe'\n",
    "df.loc[df['country'] == \"NO\", 'region'] = 'europe'\n",
    "df.loc[df['country'] == \"BE\", 'region'] = 'europe'\n",
    "df.loc[df['country'] == \"AT\", 'region'] = 'europe'\n",
    "df.loc[df['country'] == \"LU\", 'region'] = 'europe'\n",
    "\n",
    "#df.loc[df['country'] == (\"AU\" or \"NZ\"), 'region'] = 'oceania'\n",
    "df.loc[df['country'] == \"AU\", 'region'] = 'oceania'\n",
    "df.loc[df['country'] == \"NZ\", 'region'] = 'oceania'\n",
    "\n",
    "#df.loc[df['country'] == (\"HK\" or \"SG\" or \"JP\"), 'region'] = 'asia'\n",
    "df.loc[df['country'] == \"HK\", 'region'] = 'asia'\n",
    "df.loc[df['country'] == \"SG\", 'region'] = 'asia'\n",
    "df.loc[df['country'] == \"JP\", 'region'] = 'asia'"
   ]
  },
  {
   "cell_type": "code",
   "execution_count": 1921,
   "metadata": {},
   "outputs": [
    {
     "data": {
      "text/plain": [
       "name                370219\n",
       "category            370219\n",
       "main_category       370219\n",
       "currency            370219\n",
       "deadline            370219\n",
       "goal                370219\n",
       "launched            370219\n",
       "pledged             370219\n",
       "state               370219\n",
       "backers             370219\n",
       "country             370219\n",
       "usd pledged         370219\n",
       "usd_pledged_real    370219\n",
       "usd_goal_real       370219\n",
       "pledge2goal         370219\n",
       "year                370219\n",
       "duration_days       370219\n",
       "region              370219\n",
       "dtype: int64"
      ]
     },
     "execution_count": 1921,
     "metadata": {},
     "output_type": "execute_result"
    }
   ],
   "source": [
    "df.count()"
   ]
  },
  {
   "cell_type": "code",
   "execution_count": 1922,
   "metadata": {},
   "outputs": [
    {
     "name": "stdout",
     "output_type": "stream",
     "text": [
      "370219\n"
     ]
    },
    {
     "data": {
      "text/plain": [
       "america    305809\n",
       "europe      54188\n",
       "oceania      9106\n",
       "asia         1116\n",
       "Name: region, dtype: int64"
      ]
     },
     "execution_count": 1922,
     "metadata": {},
     "output_type": "execute_result"
    }
   ],
   "source": [
    "print(df.region.count())\n",
    "df.region.value_counts()"
   ]
  },
  {
   "cell_type": "code",
   "execution_count": 1923,
   "metadata": {},
   "outputs": [
    {
     "name": "stdout",
     "output_type": "stream",
     "text": [
      "region\n",
      "oceania    0.269932\n",
      "europe     0.316731\n",
      "asia       0.359319\n",
      "america    0.372223\n",
      "Name: state, dtype: float64\n",
      "        reg with worst convers rate =  oceania\n"
     ]
    }
   ],
   "source": [
    "#find mean of each category, then sort in asc ordrer and take the max value (end; -1 element)\n",
    "k = df.groupby('region')['state'].mean().sort_values()\n",
    "print(k)\n",
    "print('        reg with worst convers rate = ',k.index[0])"
   ]
  },
  {
   "cell_type": "markdown",
   "metadata": {},
   "source": [
    "### Q2.5 For each main_category leave only the three most popular category and replace other with \"other\"\n",
    "What is the most frequent subcategory for design?"
   ]
  },
  {
   "cell_type": "code",
   "execution_count": 1924,
   "metadata": {},
   "outputs": [
    {
     "name": "stdout",
     "output_type": "stream",
     "text": [
      "               the most frequent subcategory for design =  12    Product Design\n",
      "Name: category, dtype: object\n"
     ]
    }
   ],
   "source": [
    "\n",
    "k1 = df.groupby('main_category')['category'].value_counts().reset_index(name='Count')\n",
    "k2 = k1.groupby(['main_category'])[['category','Count']].apply(pd.DataFrame.nlargest, n=3, columns=['Count'])\n",
    "k3 = k2.reset_index().drop('level_1', axis=1)\n",
    "k4 = k3[k3['main_category'] == 'Design']\n",
    "k5 = k4[k4.index == k4['category'].index[0]].category\n",
    "print('               the most frequent subcategory for design = ',k5)"
   ]
  },
  {
   "cell_type": "code",
   "execution_count": 1925,
   "metadata": {},
   "outputs": [],
   "source": [
    "result = k2['category'].tolist()\n",
    "df.loc[~df['category'].isin(result), 'category'] = 'other'"
   ]
  },
  {
   "cell_type": "code",
   "execution_count": 1926,
   "metadata": {},
   "outputs": [
    {
     "data": {
      "text/plain": [
       "main_category  category    \n",
       "Art            other           13320\n",
       "               Art              8155\n",
       "               Painting         3262\n",
       "               Illustration     3125\n",
       "Comics         Comics           4973\n",
       "                               ...  \n",
       "Theater        Theater          7036\n",
       "               Plays            1363\n",
       "               other            1333\n",
       "               Musical           906\n",
       "               Spaces            212\n",
       "Name: category, Length: 62, dtype: int64"
      ]
     },
     "execution_count": 1926,
     "metadata": {},
     "output_type": "execute_result"
    }
   ],
   "source": [
    "df.groupby('main_category')['category'].value_counts()"
   ]
  },
  {
   "cell_type": "markdown",
   "metadata": {},
   "source": [
    "### Q2.6 create the columns \"name_length\" with length of the name.\n",
    "What is the biggets length?"
   ]
  },
  {
   "cell_type": "code",
   "execution_count": 1927,
   "metadata": {
    "scrolled": true
   },
   "outputs": [
    {
     "data": {
      "text/html": [
       "<div>\n",
       "<style scoped>\n",
       "    .dataframe tbody tr th:only-of-type {\n",
       "        vertical-align: middle;\n",
       "    }\n",
       "\n",
       "    .dataframe tbody tr th {\n",
       "        vertical-align: top;\n",
       "    }\n",
       "\n",
       "    .dataframe thead th {\n",
       "        text-align: right;\n",
       "    }\n",
       "</style>\n",
       "<table border=\"1\" class=\"dataframe\">\n",
       "  <thead>\n",
       "    <tr style=\"text-align: right;\">\n",
       "      <th></th>\n",
       "      <th>name</th>\n",
       "      <th>category</th>\n",
       "      <th>main_category</th>\n",
       "      <th>currency</th>\n",
       "      <th>deadline</th>\n",
       "      <th>goal</th>\n",
       "      <th>launched</th>\n",
       "      <th>pledged</th>\n",
       "      <th>state</th>\n",
       "      <th>backers</th>\n",
       "      <th>country</th>\n",
       "      <th>usd pledged</th>\n",
       "      <th>usd_pledged_real</th>\n",
       "      <th>usd_goal_real</th>\n",
       "      <th>pledge2goal</th>\n",
       "      <th>year</th>\n",
       "      <th>duration_days</th>\n",
       "      <th>region</th>\n",
       "      <th>name_length</th>\n",
       "    </tr>\n",
       "    <tr>\n",
       "      <th>ID</th>\n",
       "      <th></th>\n",
       "      <th></th>\n",
       "      <th></th>\n",
       "      <th></th>\n",
       "      <th></th>\n",
       "      <th></th>\n",
       "      <th></th>\n",
       "      <th></th>\n",
       "      <th></th>\n",
       "      <th></th>\n",
       "      <th></th>\n",
       "      <th></th>\n",
       "      <th></th>\n",
       "      <th></th>\n",
       "      <th></th>\n",
       "      <th></th>\n",
       "      <th></th>\n",
       "      <th></th>\n",
       "      <th></th>\n",
       "    </tr>\n",
       "  </thead>\n",
       "  <tbody>\n",
       "    <tr>\n",
       "      <th>1000002330</th>\n",
       "      <td>The Songs of Adelaide &amp; Abullah</td>\n",
       "      <td>other</td>\n",
       "      <td>Publishing</td>\n",
       "      <td>GBP</td>\n",
       "      <td>2015-10-09</td>\n",
       "      <td>1000.0</td>\n",
       "      <td>2015-08-11 12:12:28</td>\n",
       "      <td>0.0</td>\n",
       "      <td>0</td>\n",
       "      <td>0</td>\n",
       "      <td>GB</td>\n",
       "      <td>0.0</td>\n",
       "      <td>0.0</td>\n",
       "      <td>1533.95</td>\n",
       "      <td>0.000000</td>\n",
       "      <td>2015</td>\n",
       "      <td>58</td>\n",
       "      <td>europe</td>\n",
       "      <td>31</td>\n",
       "    </tr>\n",
       "    <tr>\n",
       "      <th>1000003930</th>\n",
       "      <td>Greeting From Earth: ZGAC Arts Capsule For ET</td>\n",
       "      <td>other</td>\n",
       "      <td>Film &amp; Video</td>\n",
       "      <td>USD</td>\n",
       "      <td>2017-11-01</td>\n",
       "      <td>30000.0</td>\n",
       "      <td>2017-09-02 04:43:57</td>\n",
       "      <td>2421.0</td>\n",
       "      <td>0</td>\n",
       "      <td>15</td>\n",
       "      <td>US</td>\n",
       "      <td>100.0</td>\n",
       "      <td>2421.0</td>\n",
       "      <td>30000.00</td>\n",
       "      <td>0.080700</td>\n",
       "      <td>2017</td>\n",
       "      <td>59</td>\n",
       "      <td>america</td>\n",
       "      <td>45</td>\n",
       "    </tr>\n",
       "    <tr>\n",
       "      <th>1000004038</th>\n",
       "      <td>Where is Hank?</td>\n",
       "      <td>other</td>\n",
       "      <td>Film &amp; Video</td>\n",
       "      <td>USD</td>\n",
       "      <td>2013-02-26</td>\n",
       "      <td>45000.0</td>\n",
       "      <td>2013-01-12 00:20:50</td>\n",
       "      <td>220.0</td>\n",
       "      <td>0</td>\n",
       "      <td>3</td>\n",
       "      <td>US</td>\n",
       "      <td>220.0</td>\n",
       "      <td>220.0</td>\n",
       "      <td>45000.00</td>\n",
       "      <td>0.004889</td>\n",
       "      <td>2013</td>\n",
       "      <td>44</td>\n",
       "      <td>america</td>\n",
       "      <td>14</td>\n",
       "    </tr>\n",
       "  </tbody>\n",
       "</table>\n",
       "</div>"
      ],
      "text/plain": [
       "                                                     name category  \\\n",
       "ID                                                                   \n",
       "1000002330                The Songs of Adelaide & Abullah    other   \n",
       "1000003930  Greeting From Earth: ZGAC Arts Capsule For ET    other   \n",
       "1000004038                                 Where is Hank?    other   \n",
       "\n",
       "           main_category currency    deadline     goal             launched  \\\n",
       "ID                                                                            \n",
       "1000002330    Publishing      GBP  2015-10-09   1000.0  2015-08-11 12:12:28   \n",
       "1000003930  Film & Video      USD  2017-11-01  30000.0  2017-09-02 04:43:57   \n",
       "1000004038  Film & Video      USD  2013-02-26  45000.0  2013-01-12 00:20:50   \n",
       "\n",
       "            pledged  state  backers country  usd pledged  usd_pledged_real  \\\n",
       "ID                                                                           \n",
       "1000002330      0.0      0        0      GB          0.0               0.0   \n",
       "1000003930   2421.0      0       15      US        100.0            2421.0   \n",
       "1000004038    220.0      0        3      US        220.0             220.0   \n",
       "\n",
       "            usd_goal_real  pledge2goal  year  duration_days   region  \\\n",
       "ID                                                                     \n",
       "1000002330        1533.95     0.000000  2015             58   europe   \n",
       "1000003930       30000.00     0.080700  2017             59  america   \n",
       "1000004038       45000.00     0.004889  2013             44  america   \n",
       "\n",
       "            name_length  \n",
       "ID                       \n",
       "1000002330           31  \n",
       "1000003930           45  \n",
       "1000004038           14  "
      ]
     },
     "execution_count": 1927,
     "metadata": {},
     "output_type": "execute_result"
    }
   ],
   "source": [
    "df['name_length'] = df.name.str.len()\n",
    "df.head(3)"
   ]
  },
  {
   "cell_type": "code",
   "execution_count": 1928,
   "metadata": {},
   "outputs": [
    {
     "name": "stdout",
     "output_type": "stream",
     "text": [
      "max =  96\n"
     ]
    }
   ],
   "source": [
    "print('max = ',df['name_length'].max())"
   ]
  },
  {
   "cell_type": "markdown",
   "metadata": {},
   "source": [
    "# Preprocessing"
   ]
  },
  {
   "cell_type": "markdown",
   "metadata": {},
   "source": [
    "### Q3.1 Drop the leaking columns\n",
    "Based on what we have already seen, can you assume what features are leakeges? What is the columns? Drop them\n"
   ]
  },
  {
   "cell_type": "code",
   "execution_count": 1929,
   "metadata": {},
   "outputs": [
    {
     "data": {
      "text/html": [
       "<div>\n",
       "<style scoped>\n",
       "    .dataframe tbody tr th:only-of-type {\n",
       "        vertical-align: middle;\n",
       "    }\n",
       "\n",
       "    .dataframe tbody tr th {\n",
       "        vertical-align: top;\n",
       "    }\n",
       "\n",
       "    .dataframe thead th {\n",
       "        text-align: right;\n",
       "    }\n",
       "</style>\n",
       "<table border=\"1\" class=\"dataframe\">\n",
       "  <thead>\n",
       "    <tr style=\"text-align: right;\">\n",
       "      <th></th>\n",
       "      <th>name</th>\n",
       "      <th>category</th>\n",
       "      <th>main_category</th>\n",
       "      <th>currency</th>\n",
       "      <th>deadline</th>\n",
       "      <th>goal</th>\n",
       "      <th>launched</th>\n",
       "      <th>pledged</th>\n",
       "      <th>state</th>\n",
       "      <th>backers</th>\n",
       "      <th>country</th>\n",
       "      <th>usd pledged</th>\n",
       "      <th>usd_pledged_real</th>\n",
       "      <th>usd_goal_real</th>\n",
       "      <th>pledge2goal</th>\n",
       "      <th>year</th>\n",
       "      <th>duration_days</th>\n",
       "      <th>region</th>\n",
       "      <th>name_length</th>\n",
       "    </tr>\n",
       "    <tr>\n",
       "      <th>ID</th>\n",
       "      <th></th>\n",
       "      <th></th>\n",
       "      <th></th>\n",
       "      <th></th>\n",
       "      <th></th>\n",
       "      <th></th>\n",
       "      <th></th>\n",
       "      <th></th>\n",
       "      <th></th>\n",
       "      <th></th>\n",
       "      <th></th>\n",
       "      <th></th>\n",
       "      <th></th>\n",
       "      <th></th>\n",
       "      <th></th>\n",
       "      <th></th>\n",
       "      <th></th>\n",
       "      <th></th>\n",
       "      <th></th>\n",
       "    </tr>\n",
       "  </thead>\n",
       "  <tbody>\n",
       "    <tr>\n",
       "      <th>169003291</th>\n",
       "      <td>NEXT GENERATION HIGH PERFORMANCE SOLAR OVEN</td>\n",
       "      <td>Product Design</td>\n",
       "      <td>Design</td>\n",
       "      <td>USD</td>\n",
       "      <td>2014-02-08</td>\n",
       "      <td>40000.0</td>\n",
       "      <td>2013-12-10 22:36:57</td>\n",
       "      <td>2446.0</td>\n",
       "      <td>0</td>\n",
       "      <td>15</td>\n",
       "      <td>US</td>\n",
       "      <td>2446.0</td>\n",
       "      <td>2446.0</td>\n",
       "      <td>40000.0</td>\n",
       "      <td>0.06115</td>\n",
       "      <td>2013</td>\n",
       "      <td>59</td>\n",
       "      <td>america</td>\n",
       "      <td>43</td>\n",
       "    </tr>\n",
       "  </tbody>\n",
       "</table>\n",
       "</div>"
      ],
      "text/plain": [
       "                                                  name        category  \\\n",
       "ID                                                                       \n",
       "169003291  NEXT GENERATION HIGH PERFORMANCE SOLAR OVEN  Product Design   \n",
       "\n",
       "          main_category currency    deadline     goal             launched  \\\n",
       "ID                                                                           \n",
       "169003291        Design      USD  2014-02-08  40000.0  2013-12-10 22:36:57   \n",
       "\n",
       "           pledged  state  backers country  usd pledged  usd_pledged_real  \\\n",
       "ID                                                                          \n",
       "169003291   2446.0      0       15      US       2446.0            2446.0   \n",
       "\n",
       "           usd_goal_real  pledge2goal  year  duration_days   region  \\\n",
       "ID                                                                    \n",
       "169003291        40000.0      0.06115  2013             59  america   \n",
       "\n",
       "           name_length  \n",
       "ID                      \n",
       "169003291           43  "
      ]
     },
     "execution_count": 1929,
     "metadata": {},
     "output_type": "execute_result"
    }
   ],
   "source": [
    "df.sample(1)"
   ]
  },
  {
   "cell_type": "code",
   "execution_count": 1930,
   "metadata": {},
   "outputs": [
    {
     "data": {
      "text/html": [
       "<div>\n",
       "<style scoped>\n",
       "    .dataframe tbody tr th:only-of-type {\n",
       "        vertical-align: middle;\n",
       "    }\n",
       "\n",
       "    .dataframe tbody tr th {\n",
       "        vertical-align: top;\n",
       "    }\n",
       "\n",
       "    .dataframe thead th {\n",
       "        text-align: right;\n",
       "    }\n",
       "</style>\n",
       "<table border=\"1\" class=\"dataframe\">\n",
       "  <thead>\n",
       "    <tr style=\"text-align: right;\">\n",
       "      <th></th>\n",
       "      <th>ID</th>\n",
       "      <th>name</th>\n",
       "      <th>category</th>\n",
       "      <th>main_category</th>\n",
       "      <th>currency</th>\n",
       "      <th>deadline</th>\n",
       "      <th>goal</th>\n",
       "      <th>launched</th>\n",
       "      <th>state</th>\n",
       "      <th>country</th>\n",
       "      <th>usd_goal_real</th>\n",
       "      <th>year</th>\n",
       "      <th>duration_days</th>\n",
       "      <th>region</th>\n",
       "      <th>name_length</th>\n",
       "    </tr>\n",
       "  </thead>\n",
       "  <tbody>\n",
       "    <tr>\n",
       "      <th>23459</th>\n",
       "      <td>1121874117</td>\n",
       "      <td>Help Fund a Professional Music Video for Teen ...</td>\n",
       "      <td>other</td>\n",
       "      <td>Film &amp; Video</td>\n",
       "      <td>USD</td>\n",
       "      <td>2014-12-04</td>\n",
       "      <td>500.0</td>\n",
       "      <td>2014-11-24 03:25:24</td>\n",
       "      <td>0</td>\n",
       "      <td>US</td>\n",
       "      <td>500.0</td>\n",
       "      <td>2014</td>\n",
       "      <td>9</td>\n",
       "      <td>america</td>\n",
       "      <td>53</td>\n",
       "    </tr>\n",
       "  </tbody>\n",
       "</table>\n",
       "</div>"
      ],
      "text/plain": [
       "               ID                                               name category  \\\n",
       "23459  1121874117  Help Fund a Professional Music Video for Teen ...    other   \n",
       "\n",
       "      main_category currency    deadline   goal             launched  state  \\\n",
       "23459  Film & Video      USD  2014-12-04  500.0  2014-11-24 03:25:24      0   \n",
       "\n",
       "      country  usd_goal_real  year  duration_days   region  name_length  \n",
       "23459      US          500.0  2014              9  america           53  "
      ]
     },
     "execution_count": 1930,
     "metadata": {},
     "output_type": "execute_result"
    }
   ],
   "source": [
    "# drop the leaking features\n",
    "df = df.reset_index()\n",
    "data1 = df.copy()\n",
    "df.drop(['pledged','backers','usd pledged','usd_pledged_real','pledge2goal'], axis='columns', inplace=True)\n",
    "df.sample(1)"
   ]
  },
  {
   "cell_type": "markdown",
   "metadata": {},
   "source": [
    "### Q3.2 Deal with the categorical features.\n",
    "Lets drop some more columns for now (name, deadline, launched, country, usd_goal_real). Note: you can re-use these columns in the Q5 section. \n",
    "Preprocess the rest of categorical columns. How many columns do you have now?"
   ]
  },
  {
   "cell_type": "code",
   "execution_count": 1931,
   "metadata": {
    "scrolled": true
   },
   "outputs": [
    {
     "name": "stdout",
     "output_type": "stream",
     "text": [
      "columns amount =  9\n"
     ]
    }
   ],
   "source": [
    "# drop some more columns for now (name, deadline, launched, country, usd_goal_real)\n",
    "df.drop(['ID','name','deadline','launched','usd_goal_real','region'], axis='columns', inplace=True)\n",
    "print('columns amount = ',df.shape[1])"
   ]
  },
  {
   "cell_type": "code",
   "execution_count": 1932,
   "metadata": {},
   "outputs": [
    {
     "data": {
      "text/html": [
       "<div>\n",
       "<style scoped>\n",
       "    .dataframe tbody tr th:only-of-type {\n",
       "        vertical-align: middle;\n",
       "    }\n",
       "\n",
       "    .dataframe tbody tr th {\n",
       "        vertical-align: top;\n",
       "    }\n",
       "\n",
       "    .dataframe thead th {\n",
       "        text-align: right;\n",
       "    }\n",
       "</style>\n",
       "<table border=\"1\" class=\"dataframe\">\n",
       "  <thead>\n",
       "    <tr style=\"text-align: right;\">\n",
       "      <th></th>\n",
       "      <th>category</th>\n",
       "      <th>main_category</th>\n",
       "      <th>currency</th>\n",
       "      <th>goal</th>\n",
       "      <th>state</th>\n",
       "      <th>country</th>\n",
       "      <th>year</th>\n",
       "      <th>duration_days</th>\n",
       "      <th>name_length</th>\n",
       "    </tr>\n",
       "  </thead>\n",
       "  <tbody>\n",
       "    <tr>\n",
       "      <th>313968</th>\n",
       "      <td>other</td>\n",
       "      <td>Film &amp; Video</td>\n",
       "      <td>GBP</td>\n",
       "      <td>2500.0</td>\n",
       "      <td>0</td>\n",
       "      <td>GB</td>\n",
       "      <td>2014</td>\n",
       "      <td>19</td>\n",
       "      <td>39</td>\n",
       "    </tr>\n",
       "  </tbody>\n",
       "</table>\n",
       "</div>"
      ],
      "text/plain": [
       "       category main_category currency    goal  state country  year  \\\n",
       "313968    other  Film & Video      GBP  2500.0      0      GB  2014   \n",
       "\n",
       "        duration_days  name_length  \n",
       "313968             19           39  "
      ]
     },
     "execution_count": 1932,
     "metadata": {},
     "output_type": "execute_result"
    }
   ],
   "source": [
    "df.sample(1)"
   ]
  },
  {
   "cell_type": "code",
   "execution_count": 1933,
   "metadata": {},
   "outputs": [],
   "source": [
    "num_features = ['goal','year','duration_days','name_length']\n",
    "cat_features = ['category', 'main_category', 'currency','country']\n",
    "X, y = df[[*num_features, *cat_features]], df['state'] # define X,y"
   ]
  },
  {
   "cell_type": "code",
   "execution_count": 1934,
   "metadata": {
    "scrolled": true
   },
   "outputs": [
    {
     "data": {
      "text/plain": [
       "[array(['Accessories', 'Apparel', 'Apps', 'Art', \"Children's Books\",\n",
       "        'Comic Books', 'Comics', 'Crafts', 'DIY', 'Dance', 'Design',\n",
       "        'Documentary', 'Drinks', 'Fashion', 'Fiction', 'Film & Video',\n",
       "        'Food', 'Games', 'Graphic Design', 'Graphic Novels',\n",
       "        'Illustration', 'Indie Rock', 'Journalism', 'Music', 'Musical',\n",
       "        'Nonfiction', 'Painting', 'People', 'Performances', 'Photobooks',\n",
       "        'Photography', 'Plays', 'Print', 'Product Design', 'Restaurants',\n",
       "        'Rock', 'Shorts', 'Spaces', 'Tabletop Games', 'Technology',\n",
       "        'Theater', 'Video Games', 'Web', 'Woodworking', 'other'],\n",
       "       dtype=object),\n",
       " array(['Art', 'Comics', 'Crafts', 'Dance', 'Design', 'Fashion',\n",
       "        'Film & Video', 'Food', 'Games', 'Journalism', 'Music',\n",
       "        'Photography', 'Publishing', 'Technology', 'Theater'], dtype=object),\n",
       " array(['AUD', 'CAD', 'CHF', 'DKK', 'EUR', 'GBP', 'HKD', 'JPY', 'MXN',\n",
       "        'NOK', 'NZD', 'SEK', 'SGD', 'USD'], dtype=object),\n",
       " array(['AT', 'AU', 'BE', 'CA', 'CH', 'DE', 'DK', 'ES', 'FR', 'GB', 'HK',\n",
       "        'IE', 'IT', 'JP', 'LU', 'MX', 'NL', 'NO', 'NZ', 'SE', 'SG', 'US'],\n",
       "       dtype=object)]"
      ]
     },
     "execution_count": 1934,
     "metadata": {},
     "output_type": "execute_result"
    }
   ],
   "source": [
    "from sklearn.preprocessing import OneHotEncoder\n",
    "ohe = OneHotEncoder(sparse=False)\n",
    "encoded_features = pd.DataFrame(ohe.fit_transform(X[[*cat_features]]))\n",
    "ohe.categories_"
   ]
  },
  {
   "cell_type": "code",
   "execution_count": 1935,
   "metadata": {},
   "outputs": [],
   "source": [
    "category_cols = [f'category_{cat}' for cat in ohe.categories_[0]]\n",
    "main_category_cols = [f'main_category_{cat}' for cat in ohe.categories_[1]]\n",
    "currency_cols = [f'currency_{cat}' for cat in ohe.categories_[2]]\n",
    "country_cols = [f'country_{cat}' for cat in ohe.categories_[3]]"
   ]
  },
  {
   "cell_type": "code",
   "execution_count": 1936,
   "metadata": {
    "scrolled": true
   },
   "outputs": [
    {
     "data": {
      "text/html": [
       "<div>\n",
       "<style scoped>\n",
       "    .dataframe tbody tr th:only-of-type {\n",
       "        vertical-align: middle;\n",
       "    }\n",
       "\n",
       "    .dataframe tbody tr th {\n",
       "        vertical-align: top;\n",
       "    }\n",
       "\n",
       "    .dataframe thead th {\n",
       "        text-align: right;\n",
       "    }\n",
       "</style>\n",
       "<table border=\"1\" class=\"dataframe\">\n",
       "  <thead>\n",
       "    <tr style=\"text-align: right;\">\n",
       "      <th></th>\n",
       "      <th>category_Accessories</th>\n",
       "      <th>category_Apparel</th>\n",
       "      <th>category_Apps</th>\n",
       "      <th>category_Art</th>\n",
       "      <th>category_Children's Books</th>\n",
       "      <th>category_Comic Books</th>\n",
       "      <th>category_Comics</th>\n",
       "      <th>category_Crafts</th>\n",
       "      <th>category_DIY</th>\n",
       "      <th>category_Dance</th>\n",
       "      <th>...</th>\n",
       "      <th>country_IT</th>\n",
       "      <th>country_JP</th>\n",
       "      <th>country_LU</th>\n",
       "      <th>country_MX</th>\n",
       "      <th>country_NL</th>\n",
       "      <th>country_NO</th>\n",
       "      <th>country_NZ</th>\n",
       "      <th>country_SE</th>\n",
       "      <th>country_SG</th>\n",
       "      <th>country_US</th>\n",
       "    </tr>\n",
       "  </thead>\n",
       "  <tbody>\n",
       "    <tr>\n",
       "      <th>0</th>\n",
       "      <td>0.0</td>\n",
       "      <td>0.0</td>\n",
       "      <td>0.0</td>\n",
       "      <td>0.0</td>\n",
       "      <td>0.0</td>\n",
       "      <td>0.0</td>\n",
       "      <td>0.0</td>\n",
       "      <td>0.0</td>\n",
       "      <td>0.0</td>\n",
       "      <td>0.0</td>\n",
       "      <td>...</td>\n",
       "      <td>0.0</td>\n",
       "      <td>0.0</td>\n",
       "      <td>0.0</td>\n",
       "      <td>0.0</td>\n",
       "      <td>0.0</td>\n",
       "      <td>0.0</td>\n",
       "      <td>0.0</td>\n",
       "      <td>0.0</td>\n",
       "      <td>0.0</td>\n",
       "      <td>0.0</td>\n",
       "    </tr>\n",
       "    <tr>\n",
       "      <th>1</th>\n",
       "      <td>0.0</td>\n",
       "      <td>0.0</td>\n",
       "      <td>0.0</td>\n",
       "      <td>0.0</td>\n",
       "      <td>0.0</td>\n",
       "      <td>0.0</td>\n",
       "      <td>0.0</td>\n",
       "      <td>0.0</td>\n",
       "      <td>0.0</td>\n",
       "      <td>0.0</td>\n",
       "      <td>...</td>\n",
       "      <td>0.0</td>\n",
       "      <td>0.0</td>\n",
       "      <td>0.0</td>\n",
       "      <td>0.0</td>\n",
       "      <td>0.0</td>\n",
       "      <td>0.0</td>\n",
       "      <td>0.0</td>\n",
       "      <td>0.0</td>\n",
       "      <td>0.0</td>\n",
       "      <td>1.0</td>\n",
       "    </tr>\n",
       "    <tr>\n",
       "      <th>2</th>\n",
       "      <td>0.0</td>\n",
       "      <td>0.0</td>\n",
       "      <td>0.0</td>\n",
       "      <td>0.0</td>\n",
       "      <td>0.0</td>\n",
       "      <td>0.0</td>\n",
       "      <td>0.0</td>\n",
       "      <td>0.0</td>\n",
       "      <td>0.0</td>\n",
       "      <td>0.0</td>\n",
       "      <td>...</td>\n",
       "      <td>0.0</td>\n",
       "      <td>0.0</td>\n",
       "      <td>0.0</td>\n",
       "      <td>0.0</td>\n",
       "      <td>0.0</td>\n",
       "      <td>0.0</td>\n",
       "      <td>0.0</td>\n",
       "      <td>0.0</td>\n",
       "      <td>0.0</td>\n",
       "      <td>1.0</td>\n",
       "    </tr>\n",
       "    <tr>\n",
       "      <th>3</th>\n",
       "      <td>0.0</td>\n",
       "      <td>0.0</td>\n",
       "      <td>0.0</td>\n",
       "      <td>0.0</td>\n",
       "      <td>0.0</td>\n",
       "      <td>0.0</td>\n",
       "      <td>0.0</td>\n",
       "      <td>0.0</td>\n",
       "      <td>0.0</td>\n",
       "      <td>0.0</td>\n",
       "      <td>...</td>\n",
       "      <td>0.0</td>\n",
       "      <td>0.0</td>\n",
       "      <td>0.0</td>\n",
       "      <td>0.0</td>\n",
       "      <td>0.0</td>\n",
       "      <td>0.0</td>\n",
       "      <td>0.0</td>\n",
       "      <td>0.0</td>\n",
       "      <td>0.0</td>\n",
       "      <td>1.0</td>\n",
       "    </tr>\n",
       "    <tr>\n",
       "      <th>4</th>\n",
       "      <td>0.0</td>\n",
       "      <td>0.0</td>\n",
       "      <td>0.0</td>\n",
       "      <td>0.0</td>\n",
       "      <td>0.0</td>\n",
       "      <td>0.0</td>\n",
       "      <td>0.0</td>\n",
       "      <td>0.0</td>\n",
       "      <td>0.0</td>\n",
       "      <td>0.0</td>\n",
       "      <td>...</td>\n",
       "      <td>0.0</td>\n",
       "      <td>0.0</td>\n",
       "      <td>0.0</td>\n",
       "      <td>0.0</td>\n",
       "      <td>0.0</td>\n",
       "      <td>0.0</td>\n",
       "      <td>0.0</td>\n",
       "      <td>0.0</td>\n",
       "      <td>0.0</td>\n",
       "      <td>1.0</td>\n",
       "    </tr>\n",
       "    <tr>\n",
       "      <th>...</th>\n",
       "      <td>...</td>\n",
       "      <td>...</td>\n",
       "      <td>...</td>\n",
       "      <td>...</td>\n",
       "      <td>...</td>\n",
       "      <td>...</td>\n",
       "      <td>...</td>\n",
       "      <td>...</td>\n",
       "      <td>...</td>\n",
       "      <td>...</td>\n",
       "      <td>...</td>\n",
       "      <td>...</td>\n",
       "      <td>...</td>\n",
       "      <td>...</td>\n",
       "      <td>...</td>\n",
       "      <td>...</td>\n",
       "      <td>...</td>\n",
       "      <td>...</td>\n",
       "      <td>...</td>\n",
       "      <td>...</td>\n",
       "      <td>...</td>\n",
       "    </tr>\n",
       "    <tr>\n",
       "      <th>370214</th>\n",
       "      <td>0.0</td>\n",
       "      <td>0.0</td>\n",
       "      <td>0.0</td>\n",
       "      <td>0.0</td>\n",
       "      <td>0.0</td>\n",
       "      <td>0.0</td>\n",
       "      <td>0.0</td>\n",
       "      <td>0.0</td>\n",
       "      <td>0.0</td>\n",
       "      <td>0.0</td>\n",
       "      <td>...</td>\n",
       "      <td>0.0</td>\n",
       "      <td>0.0</td>\n",
       "      <td>0.0</td>\n",
       "      <td>0.0</td>\n",
       "      <td>0.0</td>\n",
       "      <td>0.0</td>\n",
       "      <td>0.0</td>\n",
       "      <td>0.0</td>\n",
       "      <td>0.0</td>\n",
       "      <td>1.0</td>\n",
       "    </tr>\n",
       "    <tr>\n",
       "      <th>370215</th>\n",
       "      <td>0.0</td>\n",
       "      <td>0.0</td>\n",
       "      <td>0.0</td>\n",
       "      <td>0.0</td>\n",
       "      <td>0.0</td>\n",
       "      <td>0.0</td>\n",
       "      <td>0.0</td>\n",
       "      <td>0.0</td>\n",
       "      <td>0.0</td>\n",
       "      <td>0.0</td>\n",
       "      <td>...</td>\n",
       "      <td>0.0</td>\n",
       "      <td>0.0</td>\n",
       "      <td>0.0</td>\n",
       "      <td>0.0</td>\n",
       "      <td>0.0</td>\n",
       "      <td>0.0</td>\n",
       "      <td>0.0</td>\n",
       "      <td>0.0</td>\n",
       "      <td>0.0</td>\n",
       "      <td>1.0</td>\n",
       "    </tr>\n",
       "    <tr>\n",
       "      <th>370216</th>\n",
       "      <td>0.0</td>\n",
       "      <td>0.0</td>\n",
       "      <td>0.0</td>\n",
       "      <td>0.0</td>\n",
       "      <td>0.0</td>\n",
       "      <td>0.0</td>\n",
       "      <td>0.0</td>\n",
       "      <td>0.0</td>\n",
       "      <td>0.0</td>\n",
       "      <td>0.0</td>\n",
       "      <td>...</td>\n",
       "      <td>0.0</td>\n",
       "      <td>0.0</td>\n",
       "      <td>0.0</td>\n",
       "      <td>0.0</td>\n",
       "      <td>0.0</td>\n",
       "      <td>0.0</td>\n",
       "      <td>0.0</td>\n",
       "      <td>0.0</td>\n",
       "      <td>0.0</td>\n",
       "      <td>1.0</td>\n",
       "    </tr>\n",
       "    <tr>\n",
       "      <th>370217</th>\n",
       "      <td>0.0</td>\n",
       "      <td>0.0</td>\n",
       "      <td>0.0</td>\n",
       "      <td>0.0</td>\n",
       "      <td>0.0</td>\n",
       "      <td>0.0</td>\n",
       "      <td>0.0</td>\n",
       "      <td>0.0</td>\n",
       "      <td>0.0</td>\n",
       "      <td>0.0</td>\n",
       "      <td>...</td>\n",
       "      <td>0.0</td>\n",
       "      <td>0.0</td>\n",
       "      <td>0.0</td>\n",
       "      <td>0.0</td>\n",
       "      <td>0.0</td>\n",
       "      <td>0.0</td>\n",
       "      <td>0.0</td>\n",
       "      <td>0.0</td>\n",
       "      <td>0.0</td>\n",
       "      <td>1.0</td>\n",
       "    </tr>\n",
       "    <tr>\n",
       "      <th>370218</th>\n",
       "      <td>0.0</td>\n",
       "      <td>0.0</td>\n",
       "      <td>0.0</td>\n",
       "      <td>0.0</td>\n",
       "      <td>0.0</td>\n",
       "      <td>0.0</td>\n",
       "      <td>0.0</td>\n",
       "      <td>0.0</td>\n",
       "      <td>0.0</td>\n",
       "      <td>0.0</td>\n",
       "      <td>...</td>\n",
       "      <td>0.0</td>\n",
       "      <td>0.0</td>\n",
       "      <td>0.0</td>\n",
       "      <td>0.0</td>\n",
       "      <td>0.0</td>\n",
       "      <td>0.0</td>\n",
       "      <td>0.0</td>\n",
       "      <td>0.0</td>\n",
       "      <td>0.0</td>\n",
       "      <td>1.0</td>\n",
       "    </tr>\n",
       "  </tbody>\n",
       "</table>\n",
       "<p>370219 rows × 96 columns</p>\n",
       "</div>"
      ],
      "text/plain": [
       "        category_Accessories  category_Apparel  category_Apps  category_Art  \\\n",
       "0                        0.0               0.0            0.0           0.0   \n",
       "1                        0.0               0.0            0.0           0.0   \n",
       "2                        0.0               0.0            0.0           0.0   \n",
       "3                        0.0               0.0            0.0           0.0   \n",
       "4                        0.0               0.0            0.0           0.0   \n",
       "...                      ...               ...            ...           ...   \n",
       "370214                   0.0               0.0            0.0           0.0   \n",
       "370215                   0.0               0.0            0.0           0.0   \n",
       "370216                   0.0               0.0            0.0           0.0   \n",
       "370217                   0.0               0.0            0.0           0.0   \n",
       "370218                   0.0               0.0            0.0           0.0   \n",
       "\n",
       "        category_Children's Books  category_Comic Books  category_Comics  \\\n",
       "0                             0.0                   0.0              0.0   \n",
       "1                             0.0                   0.0              0.0   \n",
       "2                             0.0                   0.0              0.0   \n",
       "3                             0.0                   0.0              0.0   \n",
       "4                             0.0                   0.0              0.0   \n",
       "...                           ...                   ...              ...   \n",
       "370214                        0.0                   0.0              0.0   \n",
       "370215                        0.0                   0.0              0.0   \n",
       "370216                        0.0                   0.0              0.0   \n",
       "370217                        0.0                   0.0              0.0   \n",
       "370218                        0.0                   0.0              0.0   \n",
       "\n",
       "        category_Crafts  category_DIY  category_Dance  ...  country_IT  \\\n",
       "0                   0.0           0.0             0.0  ...         0.0   \n",
       "1                   0.0           0.0             0.0  ...         0.0   \n",
       "2                   0.0           0.0             0.0  ...         0.0   \n",
       "3                   0.0           0.0             0.0  ...         0.0   \n",
       "4                   0.0           0.0             0.0  ...         0.0   \n",
       "...                 ...           ...             ...  ...         ...   \n",
       "370214              0.0           0.0             0.0  ...         0.0   \n",
       "370215              0.0           0.0             0.0  ...         0.0   \n",
       "370216              0.0           0.0             0.0  ...         0.0   \n",
       "370217              0.0           0.0             0.0  ...         0.0   \n",
       "370218              0.0           0.0             0.0  ...         0.0   \n",
       "\n",
       "        country_JP  country_LU  country_MX  country_NL  country_NO  \\\n",
       "0              0.0         0.0         0.0         0.0         0.0   \n",
       "1              0.0         0.0         0.0         0.0         0.0   \n",
       "2              0.0         0.0         0.0         0.0         0.0   \n",
       "3              0.0         0.0         0.0         0.0         0.0   \n",
       "4              0.0         0.0         0.0         0.0         0.0   \n",
       "...            ...         ...         ...         ...         ...   \n",
       "370214         0.0         0.0         0.0         0.0         0.0   \n",
       "370215         0.0         0.0         0.0         0.0         0.0   \n",
       "370216         0.0         0.0         0.0         0.0         0.0   \n",
       "370217         0.0         0.0         0.0         0.0         0.0   \n",
       "370218         0.0         0.0         0.0         0.0         0.0   \n",
       "\n",
       "        country_NZ  country_SE  country_SG  country_US  \n",
       "0              0.0         0.0         0.0         0.0  \n",
       "1              0.0         0.0         0.0         1.0  \n",
       "2              0.0         0.0         0.0         1.0  \n",
       "3              0.0         0.0         0.0         1.0  \n",
       "4              0.0         0.0         0.0         1.0  \n",
       "...            ...         ...         ...         ...  \n",
       "370214         0.0         0.0         0.0         1.0  \n",
       "370215         0.0         0.0         0.0         1.0  \n",
       "370216         0.0         0.0         0.0         1.0  \n",
       "370217         0.0         0.0         0.0         1.0  \n",
       "370218         0.0         0.0         0.0         1.0  \n",
       "\n",
       "[370219 rows x 96 columns]"
      ]
     },
     "execution_count": 1936,
     "metadata": {},
     "output_type": "execute_result"
    }
   ],
   "source": [
    "dummy_cols_names = [*category_cols, *main_category_cols,*currency_cols, *country_cols]\n",
    "encoded_features.columns = dummy_cols_names\n",
    "encoded_features"
   ]
  },
  {
   "cell_type": "code",
   "execution_count": 1937,
   "metadata": {},
   "outputs": [
    {
     "name": "stderr",
     "output_type": "stream",
     "text": [
      "C:\\Users\\kriku\\anaconda3\\lib\\site-packages\\pandas\\core\\frame.py:3990: SettingWithCopyWarning: \n",
      "A value is trying to be set on a copy of a slice from a DataFrame\n",
      "\n",
      "See the caveats in the documentation: https://pandas.pydata.org/pandas-docs/stable/user_guide/indexing.html#returning-a-view-versus-a-copy\n",
      "  return super().drop(\n"
     ]
    }
   ],
   "source": [
    "X.drop(['category', 'main_category', 'currency','country'], axis=1, inplace=True)"
   ]
  },
  {
   "cell_type": "code",
   "execution_count": 1938,
   "metadata": {},
   "outputs": [],
   "source": [
    "X = pd.concat([X, encoded_features], axis=1)"
   ]
  },
  {
   "cell_type": "code",
   "execution_count": 1939,
   "metadata": {},
   "outputs": [
    {
     "data": {
      "text/html": [
       "<div>\n",
       "<style scoped>\n",
       "    .dataframe tbody tr th:only-of-type {\n",
       "        vertical-align: middle;\n",
       "    }\n",
       "\n",
       "    .dataframe tbody tr th {\n",
       "        vertical-align: top;\n",
       "    }\n",
       "\n",
       "    .dataframe thead th {\n",
       "        text-align: right;\n",
       "    }\n",
       "</style>\n",
       "<table border=\"1\" class=\"dataframe\">\n",
       "  <thead>\n",
       "    <tr style=\"text-align: right;\">\n",
       "      <th></th>\n",
       "      <th>goal</th>\n",
       "      <th>year</th>\n",
       "      <th>duration_days</th>\n",
       "      <th>name_length</th>\n",
       "      <th>category_Accessories</th>\n",
       "      <th>category_Apparel</th>\n",
       "      <th>category_Apps</th>\n",
       "      <th>category_Art</th>\n",
       "      <th>category_Children's Books</th>\n",
       "      <th>category_Comic Books</th>\n",
       "      <th>...</th>\n",
       "      <th>country_IT</th>\n",
       "      <th>country_JP</th>\n",
       "      <th>country_LU</th>\n",
       "      <th>country_MX</th>\n",
       "      <th>country_NL</th>\n",
       "      <th>country_NO</th>\n",
       "      <th>country_NZ</th>\n",
       "      <th>country_SE</th>\n",
       "      <th>country_SG</th>\n",
       "      <th>country_US</th>\n",
       "    </tr>\n",
       "  </thead>\n",
       "  <tbody>\n",
       "    <tr>\n",
       "      <th>0</th>\n",
       "      <td>1000.0</td>\n",
       "      <td>2015</td>\n",
       "      <td>58</td>\n",
       "      <td>31</td>\n",
       "      <td>0.0</td>\n",
       "      <td>0.0</td>\n",
       "      <td>0.0</td>\n",
       "      <td>0.0</td>\n",
       "      <td>0.0</td>\n",
       "      <td>0.0</td>\n",
       "      <td>...</td>\n",
       "      <td>0.0</td>\n",
       "      <td>0.0</td>\n",
       "      <td>0.0</td>\n",
       "      <td>0.0</td>\n",
       "      <td>0.0</td>\n",
       "      <td>0.0</td>\n",
       "      <td>0.0</td>\n",
       "      <td>0.0</td>\n",
       "      <td>0.0</td>\n",
       "      <td>0.0</td>\n",
       "    </tr>\n",
       "    <tr>\n",
       "      <th>1</th>\n",
       "      <td>30000.0</td>\n",
       "      <td>2017</td>\n",
       "      <td>59</td>\n",
       "      <td>45</td>\n",
       "      <td>0.0</td>\n",
       "      <td>0.0</td>\n",
       "      <td>0.0</td>\n",
       "      <td>0.0</td>\n",
       "      <td>0.0</td>\n",
       "      <td>0.0</td>\n",
       "      <td>...</td>\n",
       "      <td>0.0</td>\n",
       "      <td>0.0</td>\n",
       "      <td>0.0</td>\n",
       "      <td>0.0</td>\n",
       "      <td>0.0</td>\n",
       "      <td>0.0</td>\n",
       "      <td>0.0</td>\n",
       "      <td>0.0</td>\n",
       "      <td>0.0</td>\n",
       "      <td>1.0</td>\n",
       "    </tr>\n",
       "    <tr>\n",
       "      <th>2</th>\n",
       "      <td>45000.0</td>\n",
       "      <td>2013</td>\n",
       "      <td>44</td>\n",
       "      <td>14</td>\n",
       "      <td>0.0</td>\n",
       "      <td>0.0</td>\n",
       "      <td>0.0</td>\n",
       "      <td>0.0</td>\n",
       "      <td>0.0</td>\n",
       "      <td>0.0</td>\n",
       "      <td>...</td>\n",
       "      <td>0.0</td>\n",
       "      <td>0.0</td>\n",
       "      <td>0.0</td>\n",
       "      <td>0.0</td>\n",
       "      <td>0.0</td>\n",
       "      <td>0.0</td>\n",
       "      <td>0.0</td>\n",
       "      <td>0.0</td>\n",
       "      <td>0.0</td>\n",
       "      <td>1.0</td>\n",
       "    </tr>\n",
       "    <tr>\n",
       "      <th>3</th>\n",
       "      <td>5000.0</td>\n",
       "      <td>2012</td>\n",
       "      <td>29</td>\n",
       "      <td>49</td>\n",
       "      <td>0.0</td>\n",
       "      <td>0.0</td>\n",
       "      <td>0.0</td>\n",
       "      <td>0.0</td>\n",
       "      <td>0.0</td>\n",
       "      <td>0.0</td>\n",
       "      <td>...</td>\n",
       "      <td>0.0</td>\n",
       "      <td>0.0</td>\n",
       "      <td>0.0</td>\n",
       "      <td>0.0</td>\n",
       "      <td>0.0</td>\n",
       "      <td>0.0</td>\n",
       "      <td>0.0</td>\n",
       "      <td>0.0</td>\n",
       "      <td>0.0</td>\n",
       "      <td>1.0</td>\n",
       "    </tr>\n",
       "    <tr>\n",
       "      <th>4</th>\n",
       "      <td>19500.0</td>\n",
       "      <td>2015</td>\n",
       "      <td>55</td>\n",
       "      <td>58</td>\n",
       "      <td>0.0</td>\n",
       "      <td>0.0</td>\n",
       "      <td>0.0</td>\n",
       "      <td>0.0</td>\n",
       "      <td>0.0</td>\n",
       "      <td>0.0</td>\n",
       "      <td>...</td>\n",
       "      <td>0.0</td>\n",
       "      <td>0.0</td>\n",
       "      <td>0.0</td>\n",
       "      <td>0.0</td>\n",
       "      <td>0.0</td>\n",
       "      <td>0.0</td>\n",
       "      <td>0.0</td>\n",
       "      <td>0.0</td>\n",
       "      <td>0.0</td>\n",
       "      <td>1.0</td>\n",
       "    </tr>\n",
       "    <tr>\n",
       "      <th>...</th>\n",
       "      <td>...</td>\n",
       "      <td>...</td>\n",
       "      <td>...</td>\n",
       "      <td>...</td>\n",
       "      <td>...</td>\n",
       "      <td>...</td>\n",
       "      <td>...</td>\n",
       "      <td>...</td>\n",
       "      <td>...</td>\n",
       "      <td>...</td>\n",
       "      <td>...</td>\n",
       "      <td>...</td>\n",
       "      <td>...</td>\n",
       "      <td>...</td>\n",
       "      <td>...</td>\n",
       "      <td>...</td>\n",
       "      <td>...</td>\n",
       "      <td>...</td>\n",
       "      <td>...</td>\n",
       "      <td>...</td>\n",
       "      <td>...</td>\n",
       "    </tr>\n",
       "    <tr>\n",
       "      <th>370214</th>\n",
       "      <td>50000.0</td>\n",
       "      <td>2014</td>\n",
       "      <td>29</td>\n",
       "      <td>49</td>\n",
       "      <td>0.0</td>\n",
       "      <td>0.0</td>\n",
       "      <td>0.0</td>\n",
       "      <td>0.0</td>\n",
       "      <td>0.0</td>\n",
       "      <td>0.0</td>\n",
       "      <td>...</td>\n",
       "      <td>0.0</td>\n",
       "      <td>0.0</td>\n",
       "      <td>0.0</td>\n",
       "      <td>0.0</td>\n",
       "      <td>0.0</td>\n",
       "      <td>0.0</td>\n",
       "      <td>0.0</td>\n",
       "      <td>0.0</td>\n",
       "      <td>0.0</td>\n",
       "      <td>1.0</td>\n",
       "    </tr>\n",
       "    <tr>\n",
       "      <th>370215</th>\n",
       "      <td>1500.0</td>\n",
       "      <td>2011</td>\n",
       "      <td>26</td>\n",
       "      <td>9</td>\n",
       "      <td>0.0</td>\n",
       "      <td>0.0</td>\n",
       "      <td>0.0</td>\n",
       "      <td>0.0</td>\n",
       "      <td>0.0</td>\n",
       "      <td>0.0</td>\n",
       "      <td>...</td>\n",
       "      <td>0.0</td>\n",
       "      <td>0.0</td>\n",
       "      <td>0.0</td>\n",
       "      <td>0.0</td>\n",
       "      <td>0.0</td>\n",
       "      <td>0.0</td>\n",
       "      <td>0.0</td>\n",
       "      <td>0.0</td>\n",
       "      <td>0.0</td>\n",
       "      <td>1.0</td>\n",
       "    </tr>\n",
       "    <tr>\n",
       "      <th>370216</th>\n",
       "      <td>15000.0</td>\n",
       "      <td>2010</td>\n",
       "      <td>45</td>\n",
       "      <td>71</td>\n",
       "      <td>0.0</td>\n",
       "      <td>0.0</td>\n",
       "      <td>0.0</td>\n",
       "      <td>0.0</td>\n",
       "      <td>0.0</td>\n",
       "      <td>0.0</td>\n",
       "      <td>...</td>\n",
       "      <td>0.0</td>\n",
       "      <td>0.0</td>\n",
       "      <td>0.0</td>\n",
       "      <td>0.0</td>\n",
       "      <td>0.0</td>\n",
       "      <td>0.0</td>\n",
       "      <td>0.0</td>\n",
       "      <td>0.0</td>\n",
       "      <td>0.0</td>\n",
       "      <td>1.0</td>\n",
       "    </tr>\n",
       "    <tr>\n",
       "      <th>370217</th>\n",
       "      <td>15000.0</td>\n",
       "      <td>2016</td>\n",
       "      <td>30</td>\n",
       "      <td>24</td>\n",
       "      <td>0.0</td>\n",
       "      <td>0.0</td>\n",
       "      <td>0.0</td>\n",
       "      <td>0.0</td>\n",
       "      <td>0.0</td>\n",
       "      <td>0.0</td>\n",
       "      <td>...</td>\n",
       "      <td>0.0</td>\n",
       "      <td>0.0</td>\n",
       "      <td>0.0</td>\n",
       "      <td>0.0</td>\n",
       "      <td>0.0</td>\n",
       "      <td>0.0</td>\n",
       "      <td>0.0</td>\n",
       "      <td>0.0</td>\n",
       "      <td>0.0</td>\n",
       "      <td>1.0</td>\n",
       "    </tr>\n",
       "    <tr>\n",
       "      <th>370218</th>\n",
       "      <td>2000.0</td>\n",
       "      <td>2011</td>\n",
       "      <td>27</td>\n",
       "      <td>33</td>\n",
       "      <td>0.0</td>\n",
       "      <td>0.0</td>\n",
       "      <td>0.0</td>\n",
       "      <td>0.0</td>\n",
       "      <td>0.0</td>\n",
       "      <td>0.0</td>\n",
       "      <td>...</td>\n",
       "      <td>0.0</td>\n",
       "      <td>0.0</td>\n",
       "      <td>0.0</td>\n",
       "      <td>0.0</td>\n",
       "      <td>0.0</td>\n",
       "      <td>0.0</td>\n",
       "      <td>0.0</td>\n",
       "      <td>0.0</td>\n",
       "      <td>0.0</td>\n",
       "      <td>1.0</td>\n",
       "    </tr>\n",
       "  </tbody>\n",
       "</table>\n",
       "<p>370219 rows × 100 columns</p>\n",
       "</div>"
      ],
      "text/plain": [
       "           goal  year  duration_days  name_length  category_Accessories  \\\n",
       "0        1000.0  2015             58           31                   0.0   \n",
       "1       30000.0  2017             59           45                   0.0   \n",
       "2       45000.0  2013             44           14                   0.0   \n",
       "3        5000.0  2012             29           49                   0.0   \n",
       "4       19500.0  2015             55           58                   0.0   \n",
       "...         ...   ...            ...          ...                   ...   \n",
       "370214  50000.0  2014             29           49                   0.0   \n",
       "370215   1500.0  2011             26            9                   0.0   \n",
       "370216  15000.0  2010             45           71                   0.0   \n",
       "370217  15000.0  2016             30           24                   0.0   \n",
       "370218   2000.0  2011             27           33                   0.0   \n",
       "\n",
       "        category_Apparel  category_Apps  category_Art  \\\n",
       "0                    0.0            0.0           0.0   \n",
       "1                    0.0            0.0           0.0   \n",
       "2                    0.0            0.0           0.0   \n",
       "3                    0.0            0.0           0.0   \n",
       "4                    0.0            0.0           0.0   \n",
       "...                  ...            ...           ...   \n",
       "370214               0.0            0.0           0.0   \n",
       "370215               0.0            0.0           0.0   \n",
       "370216               0.0            0.0           0.0   \n",
       "370217               0.0            0.0           0.0   \n",
       "370218               0.0            0.0           0.0   \n",
       "\n",
       "        category_Children's Books  category_Comic Books  ...  country_IT  \\\n",
       "0                             0.0                   0.0  ...         0.0   \n",
       "1                             0.0                   0.0  ...         0.0   \n",
       "2                             0.0                   0.0  ...         0.0   \n",
       "3                             0.0                   0.0  ...         0.0   \n",
       "4                             0.0                   0.0  ...         0.0   \n",
       "...                           ...                   ...  ...         ...   \n",
       "370214                        0.0                   0.0  ...         0.0   \n",
       "370215                        0.0                   0.0  ...         0.0   \n",
       "370216                        0.0                   0.0  ...         0.0   \n",
       "370217                        0.0                   0.0  ...         0.0   \n",
       "370218                        0.0                   0.0  ...         0.0   \n",
       "\n",
       "        country_JP  country_LU  country_MX  country_NL  country_NO  \\\n",
       "0              0.0         0.0         0.0         0.0         0.0   \n",
       "1              0.0         0.0         0.0         0.0         0.0   \n",
       "2              0.0         0.0         0.0         0.0         0.0   \n",
       "3              0.0         0.0         0.0         0.0         0.0   \n",
       "4              0.0         0.0         0.0         0.0         0.0   \n",
       "...            ...         ...         ...         ...         ...   \n",
       "370214         0.0         0.0         0.0         0.0         0.0   \n",
       "370215         0.0         0.0         0.0         0.0         0.0   \n",
       "370216         0.0         0.0         0.0         0.0         0.0   \n",
       "370217         0.0         0.0         0.0         0.0         0.0   \n",
       "370218         0.0         0.0         0.0         0.0         0.0   \n",
       "\n",
       "        country_NZ  country_SE  country_SG  country_US  \n",
       "0              0.0         0.0         0.0         0.0  \n",
       "1              0.0         0.0         0.0         1.0  \n",
       "2              0.0         0.0         0.0         1.0  \n",
       "3              0.0         0.0         0.0         1.0  \n",
       "4              0.0         0.0         0.0         1.0  \n",
       "...            ...         ...         ...         ...  \n",
       "370214         0.0         0.0         0.0         1.0  \n",
       "370215         0.0         0.0         0.0         1.0  \n",
       "370216         0.0         0.0         0.0         1.0  \n",
       "370217         0.0         0.0         0.0         1.0  \n",
       "370218         0.0         0.0         0.0         1.0  \n",
       "\n",
       "[370219 rows x 100 columns]"
      ]
     },
     "execution_count": 1939,
     "metadata": {},
     "output_type": "execute_result"
    }
   ],
   "source": [
    "X"
   ]
  },
  {
   "cell_type": "code",
   "execution_count": 1940,
   "metadata": {},
   "outputs": [
    {
     "name": "stdout",
     "output_type": "stream",
     "text": [
      "columns amount =  100\n"
     ]
    }
   ],
   "source": [
    "print('columns amount = ',X.shape[1])"
   ]
  },
  {
   "cell_type": "markdown",
   "metadata": {},
   "source": [
    "### Q3.3 Split the dataset\n",
    "Separate the target column (state) without stratification and with random state 42 and test size 0.2. How many of successful projects in train set?"
   ]
  },
  {
   "cell_type": "code",
   "execution_count": 1941,
   "metadata": {},
   "outputs": [],
   "source": [
    "from sklearn.model_selection import train_test_split\n",
    "X_train, X_test, y_train, y_test = train_test_split(X, y, test_size=0.20, random_state=42)"
   ]
  },
  {
   "cell_type": "code",
   "execution_count": 1942,
   "metadata": {},
   "outputs": [
    {
     "name": "stdout",
     "output_type": "stream",
     "text": [
      "(296175, 100) (74044, 100) (296175,) (74044,)\n"
     ]
    }
   ],
   "source": [
    "print(X_train.shape, X_test.shape, y_train.shape, y_test.shape)"
   ]
  },
  {
   "cell_type": "code",
   "execution_count": 1943,
   "metadata": {},
   "outputs": [
    {
     "name": "stdout",
     "output_type": "stream",
     "text": [
      "         successful prjcts in train =  107134\n"
     ]
    }
   ],
   "source": [
    "print('         successful prjcts in train = ', y_train.value_counts()[1])"
   ]
  },
  {
   "cell_type": "markdown",
   "metadata": {},
   "source": [
    "### Q3.4 Scale the numeric columns with standard scaler\n",
    "What is max number in goal field after scaling?"
   ]
  },
  {
   "cell_type": "code",
   "execution_count": 1944,
   "metadata": {},
   "outputs": [],
   "source": [
    "#about train"
   ]
  },
  {
   "cell_type": "code",
   "execution_count": 1945,
   "metadata": {},
   "outputs": [
    {
     "data": {
      "text/html": [
       "<div>\n",
       "<style scoped>\n",
       "    .dataframe tbody tr th:only-of-type {\n",
       "        vertical-align: middle;\n",
       "    }\n",
       "\n",
       "    .dataframe tbody tr th {\n",
       "        vertical-align: top;\n",
       "    }\n",
       "\n",
       "    .dataframe thead th {\n",
       "        text-align: right;\n",
       "    }\n",
       "</style>\n",
       "<table border=\"1\" class=\"dataframe\">\n",
       "  <thead>\n",
       "    <tr style=\"text-align: right;\">\n",
       "      <th></th>\n",
       "      <th>goal</th>\n",
       "      <th>year</th>\n",
       "      <th>duration_days</th>\n",
       "      <th>name_length</th>\n",
       "      <th>category_Accessories</th>\n",
       "      <th>category_Apparel</th>\n",
       "      <th>category_Apps</th>\n",
       "      <th>category_Art</th>\n",
       "      <th>category_Children's Books</th>\n",
       "      <th>category_Comic Books</th>\n",
       "      <th>...</th>\n",
       "      <th>country_IT</th>\n",
       "      <th>country_JP</th>\n",
       "      <th>country_LU</th>\n",
       "      <th>country_MX</th>\n",
       "      <th>country_NL</th>\n",
       "      <th>country_NO</th>\n",
       "      <th>country_NZ</th>\n",
       "      <th>country_SE</th>\n",
       "      <th>country_SG</th>\n",
       "      <th>country_US</th>\n",
       "    </tr>\n",
       "  </thead>\n",
       "  <tbody>\n",
       "    <tr>\n",
       "      <th>350514</th>\n",
       "      <td>700.0</td>\n",
       "      <td>2012</td>\n",
       "      <td>29</td>\n",
       "      <td>32</td>\n",
       "      <td>0.0</td>\n",
       "      <td>0.0</td>\n",
       "      <td>0.0</td>\n",
       "      <td>0.0</td>\n",
       "      <td>0.0</td>\n",
       "      <td>0.0</td>\n",
       "      <td>...</td>\n",
       "      <td>0.0</td>\n",
       "      <td>0.0</td>\n",
       "      <td>0.0</td>\n",
       "      <td>0.0</td>\n",
       "      <td>0.0</td>\n",
       "      <td>0.0</td>\n",
       "      <td>0.0</td>\n",
       "      <td>0.0</td>\n",
       "      <td>0.0</td>\n",
       "      <td>1.0</td>\n",
       "    </tr>\n",
       "  </tbody>\n",
       "</table>\n",
       "<p>1 rows × 100 columns</p>\n",
       "</div>"
      ],
      "text/plain": [
       "         goal  year  duration_days  name_length  category_Accessories  \\\n",
       "350514  700.0  2012             29           32                   0.0   \n",
       "\n",
       "        category_Apparel  category_Apps  category_Art  \\\n",
       "350514               0.0            0.0           0.0   \n",
       "\n",
       "        category_Children's Books  category_Comic Books  ...  country_IT  \\\n",
       "350514                        0.0                   0.0  ...         0.0   \n",
       "\n",
       "        country_JP  country_LU  country_MX  country_NL  country_NO  \\\n",
       "350514         0.0         0.0         0.0         0.0         0.0   \n",
       "\n",
       "        country_NZ  country_SE  country_SG  country_US  \n",
       "350514         0.0         0.0         0.0         1.0  \n",
       "\n",
       "[1 rows x 100 columns]"
      ]
     },
     "execution_count": 1945,
     "metadata": {},
     "output_type": "execute_result"
    }
   ],
   "source": [
    "X_train.sample(1)"
   ]
  },
  {
   "cell_type": "code",
   "execution_count": 1946,
   "metadata": {},
   "outputs": [
    {
     "name": "stderr",
     "output_type": "stream",
     "text": [
      "<ipython-input-1946-1a7e334f4560>:5: SettingWithCopyWarning: \n",
      "A value is trying to be set on a copy of a slice from a DataFrame.\n",
      "Try using .loc[row_indexer,col_indexer] = value instead\n",
      "\n",
      "See the caveats in the documentation: https://pandas.pydata.org/pandas-docs/stable/user_guide/indexing.html#returning-a-view-versus-a-copy\n",
      "  X_train[num_features] = scaler.transform(X_train[num_features])\n",
      "C:\\Users\\kriku\\anaconda3\\lib\\site-packages\\pandas\\core\\indexing.py:966: SettingWithCopyWarning: \n",
      "A value is trying to be set on a copy of a slice from a DataFrame.\n",
      "Try using .loc[row_indexer,col_indexer] = value instead\n",
      "\n",
      "See the caveats in the documentation: https://pandas.pydata.org/pandas-docs/stable/user_guide/indexing.html#returning-a-view-versus-a-copy\n",
      "  self.obj[item] = s\n",
      "<ipython-input-1946-1a7e334f4560>:6: SettingWithCopyWarning: \n",
      "A value is trying to be set on a copy of a slice from a DataFrame.\n",
      "Try using .loc[row_indexer,col_indexer] = value instead\n",
      "\n",
      "See the caveats in the documentation: https://pandas.pydata.org/pandas-docs/stable/user_guide/indexing.html#returning-a-view-versus-a-copy\n",
      "  X_test[num_features] = scaler.transform(X_test[num_features])\n",
      "C:\\Users\\kriku\\anaconda3\\lib\\site-packages\\pandas\\core\\indexing.py:966: SettingWithCopyWarning: \n",
      "A value is trying to be set on a copy of a slice from a DataFrame.\n",
      "Try using .loc[row_indexer,col_indexer] = value instead\n",
      "\n",
      "See the caveats in the documentation: https://pandas.pydata.org/pandas-docs/stable/user_guide/indexing.html#returning-a-view-versus-a-copy\n",
      "  self.obj[item] = s\n"
     ]
    }
   ],
   "source": [
    "from sklearn.preprocessing import StandardScaler\n",
    "scaler = StandardScaler()\n",
    "\n",
    "scaler.fit(X_train[num_features])\n",
    "X_train[num_features] = scaler.transform(X_train[num_features])\n",
    "X_test[num_features] = scaler.transform(X_test[num_features])\n",
    "\n",
    "#normalized_x_train = pd.DataFrame(scaler.fit_transform(x_train), columns = x_train.columns) # another way"
   ]
  },
  {
   "cell_type": "code",
   "execution_count": 1947,
   "metadata": {},
   "outputs": [
    {
     "name": "stdout",
     "output_type": "stream",
     "text": [
      "                max number in goal field after scaling =  93.264\n"
     ]
    }
   ],
   "source": [
    "print('                max number in goal field after scaling = ',round(X_train.goal.max(),3))"
   ]
  },
  {
   "cell_type": "code",
   "execution_count": 1948,
   "metadata": {},
   "outputs": [],
   "source": [
    "#LR = LogisticRegression(C=0.01, solver='liblinear').fit(normalized_x_train, y_train)\n",
    "\n",
    "#normalized_x_test = pd.DataFrame(scaler.transform(x_test), columns = x_test.columns)\n",
    "#y_test_pred = LR.predict(normalized_x_test)"
   ]
  },
  {
   "cell_type": "markdown",
   "metadata": {},
   "source": [
    "# Feature selection"
   ]
  },
  {
   "cell_type": "markdown",
   "metadata": {},
   "source": [
    "### Q4.1 Estimate feature importance by Anova\n",
    "What is the two most important features by anova with f classifier?"
   ]
  },
  {
   "cell_type": "code",
   "execution_count": 1949,
   "metadata": {},
   "outputs": [],
   "source": [
    "from sklearn.feature_selection import SelectKBest, f_classif"
   ]
  },
  {
   "cell_type": "code",
   "execution_count": 1950,
   "metadata": {},
   "outputs": [
    {
     "name": "stdout",
     "output_type": "stream",
     "text": [
      "(296175, 100)\n",
      "(296175, 1)\n",
      "[1.96703514e+02 2.01478344e+03 2.26805183e+02 1.32018640e+03\n",
      " 3.08511241e+00 6.32766606e+02 1.99224454e+03 7.99289927e+01\n",
      " 4.25491135e+00 5.20593537e+02 3.68042616e+02 1.89273231e+02\n",
      " 1.40593911e+02 7.87321340e+02 4.71998103e+00 2.70812793e+00\n",
      " 1.00890214e+02 3.16449607e+02 4.30002415e+02 2.41218912e+01\n",
      " 2.10447779e+02 1.54005511e+02 3.42766920e-01 2.47835174e+02\n",
      " 2.76875043e+02 1.51104390e+03 3.48510128e+01 6.73531582e+02\n",
      " 7.12474713e+01 2.55932468e+02 1.73499234e+00 8.73900256e+01\n",
      " 2.23202422e+02 8.77280590e+00 2.79535714e+01 2.32626521e+02\n",
      " 4.66761990e+01 4.56228098e-01 3.66702455e+02 6.10010874e+02\n",
      " 1.47867704e+03 5.17824689e-02 1.96775117e+03 6.84836654e+02\n",
      " 1.72976552e+03 1.00493722e+03 1.36436193e+03 4.14494733e+01\n",
      " 8.64424941e+01 2.69511122e+02 1.33306203e+03 4.05558688e+02\n",
      " 9.39979550e+02 2.37017343e+00 1.03945092e+03 8.17427003e+01\n",
      " 1.10220050e+03 2.15260729e-01 3.29348835e+02 3.38015828e+03\n",
      " 1.11333034e+02 3.46115578e+02 3.10861585e+03 2.24293020e+03\n",
      " 2.89539416e+02 3.23671140e+02 3.79422890e+01 1.78588371e+00\n",
      " 1.08251364e+03 1.22281358e+00 7.50650144e-01 1.01338635e+00\n",
      " 8.50998070e+01 3.40041633e+01 1.78233294e+01 2.11208479e+01\n",
      " 6.01207186e-01 1.19158061e+03 6.08473181e+01 2.89539416e+02\n",
      " 2.12174914e+01 3.23671140e+02 3.79422890e+01 2.46352785e+02\n",
      " 1.78588371e+00 1.59426369e+02 2.88526233e+01 1.22281358e+00\n",
      " 7.50650144e-01 2.72993789e+01 4.11589998e+02 1.01338635e+00\n",
      " 8.22105009e-01 8.50998070e+01 2.08046050e+02 3.40041633e+01\n",
      " 1.78233294e+01 2.11208479e+01 6.01207186e-01 1.19158061e+03]\n"
     ]
    }
   ],
   "source": [
    "# ANOVA\n",
    "selector = SelectKBest(f_classif, k=1)\n",
    "selector.fit(X_train, y_train)\n",
    "# SelectKBest just selects the specified number of features with the highest scores \n",
    "print(X_train.shape) \n",
    "X_reduced = selector.transform(X_train)\n",
    "print(X_reduced.shape)\n",
    "# and what about scores?\n",
    "print(selector.scores_)\n",
    "# it selects the wrong variable!"
   ]
  },
  {
   "cell_type": "code",
   "execution_count": 1951,
   "metadata": {},
   "outputs": [
    {
     "name": "stdout",
     "output_type": "stream",
     "text": [
      "1st feature number =  main_category_Music\n",
      "2nd feature number =  main_category_Technology\n"
     ]
    }
   ],
   "source": [
    "a = selector.scores_\n",
    "max1 = np.argmax(a) # first max\n",
    "print('1st feature number = ',X_train.columns[max1])\n",
    "a[max1]=0\n",
    "max2 = np.argmax(a) # second max\n",
    "print('2nd feature number = ',X_train.columns[max2])"
   ]
  },
  {
   "cell_type": "markdown",
   "metadata": {},
   "source": [
    "## Build a model with logistic regression\n",
    "\n",
    "Use l2 penalty and search for optimal C in np.logspace(-2, 4, 7)."
   ]
  },
  {
   "cell_type": "code",
   "execution_count": 1952,
   "metadata": {},
   "outputs": [
    {
     "name": "stdout",
     "output_type": "stream",
     "text": [
      "Fitting 5 folds for each of 7 candidates, totalling 35 fits\n",
      "[Parallel(n_jobs=-1)]: Using backend LokyBackend with 12 concurrent workers.\n",
      "[Parallel(n_jobs=-1)]: Done   1 tasks      | elapsed:   22.0s\n",
      "[Parallel(n_jobs=-1)]: Done   2 tasks      | elapsed:   23.1s\n",
      "[Parallel(n_jobs=-1)]: Done   3 tasks      | elapsed:   23.5s\n",
      "[Parallel(n_jobs=-1)]: Done   4 tasks      | elapsed:   24.0s\n",
      "[Parallel(n_jobs=-1)]: Done   5 tasks      | elapsed:   25.5s\n",
      "[Parallel(n_jobs=-1)]: Done   6 tasks      | elapsed:   46.7s\n",
      "[Parallel(n_jobs=-1)]: Done   7 tasks      | elapsed:   46.9s\n",
      "[Parallel(n_jobs=-1)]: Done   8 tasks      | elapsed:   48.3s\n",
      "[Parallel(n_jobs=-1)]: Done   9 tasks      | elapsed:   48.5s\n",
      "[Parallel(n_jobs=-1)]: Done  10 tasks      | elapsed:   49.1s\n",
      "[Parallel(n_jobs=-1)]: Done  11 tasks      | elapsed:  1.1min\n",
      "[Parallel(n_jobs=-1)]: Done  12 tasks      | elapsed:  1.2min\n",
      "[Parallel(n_jobs=-1)]: Done  13 out of  35 | elapsed:  1.4min remaining:  2.4min\n",
      "[Parallel(n_jobs=-1)]: Done  14 out of  35 | elapsed:  1.4min remaining:  2.2min\n",
      "[Parallel(n_jobs=-1)]: Done  15 out of  35 | elapsed:  1.5min remaining:  2.1min\n",
      "[Parallel(n_jobs=-1)]: Done  16 out of  35 | elapsed:  1.6min remaining:  1.9min\n",
      "[Parallel(n_jobs=-1)]: Done  17 out of  35 | elapsed:  1.7min remaining:  1.8min\n",
      "[Parallel(n_jobs=-1)]: Done  18 out of  35 | elapsed:  2.0min remaining:  1.9min\n",
      "[Parallel(n_jobs=-1)]: Done  19 out of  35 | elapsed:  2.0min remaining:  1.7min\n",
      "[Parallel(n_jobs=-1)]: Done  20 out of  35 | elapsed:  2.1min remaining:  1.5min\n",
      "[Parallel(n_jobs=-1)]: Done  21 out of  35 | elapsed:  2.1min remaining:  1.4min\n",
      "[Parallel(n_jobs=-1)]: Done  22 out of  35 | elapsed:  2.2min remaining:  1.3min\n",
      "[Parallel(n_jobs=-1)]: Done  23 out of  35 | elapsed:  2.3min remaining:  1.2min\n",
      "[Parallel(n_jobs=-1)]: Done  24 out of  35 | elapsed:  2.6min remaining:  1.2min\n",
      "[Parallel(n_jobs=-1)]: Done  25 out of  35 | elapsed:  2.6min remaining:  1.1min\n",
      "[Parallel(n_jobs=-1)]: Done  26 out of  35 | elapsed:  2.7min remaining:   55.9s\n",
      "[Parallel(n_jobs=-1)]: Done  27 out of  35 | elapsed:  2.9min remaining:   50.6s\n",
      "[Parallel(n_jobs=-1)]: Done  28 out of  35 | elapsed:  2.9min remaining:   42.7s\n",
      "[Parallel(n_jobs=-1)]: Done  29 out of  35 | elapsed:  3.0min remaining:   37.1s\n",
      "[Parallel(n_jobs=-1)]: Done  30 out of  35 | elapsed:  3.1min remaining:   30.7s\n",
      "[Parallel(n_jobs=-1)]: Done  31 out of  35 | elapsed:  3.1min remaining:   23.8s\n",
      "[Parallel(n_jobs=-1)]: Done  32 out of  35 | elapsed:  3.1min remaining:   17.3s\n",
      "[Parallel(n_jobs=-1)]: Done  33 out of  35 | elapsed:  3.2min remaining:   11.4s\n",
      "[Parallel(n_jobs=-1)]: Done  35 out of  35 | elapsed:  3.2min remaining:    0.0s\n",
      "[Parallel(n_jobs=-1)]: Done  35 out of  35 | elapsed:  3.2min finished\n"
     ]
    },
    {
     "data": {
      "text/plain": [
       "GridSearchCV(cv=5, estimator=LogisticRegression(max_iter=500), n_jobs=-1,\n",
       "             param_grid={'C': array([1.e-02, 1.e-01, 1.e+00, 1.e+01, 1.e+02, 1.e+03, 1.e+04]),\n",
       "                         'penalty': ['l2']},\n",
       "             verbose=50)"
      ]
     },
     "execution_count": 1952,
     "metadata": {},
     "output_type": "execute_result"
    }
   ],
   "source": [
    "from sklearn.model_selection import GridSearchCV\n",
    "from sklearn.linear_model import LogisticRegression\n",
    "grid = {\n",
    "        \"C\":np.logspace(-2,4,7), \n",
    "        \"penalty\":[\"l2\"]\n",
    "        }\n",
    "logreg = LogisticRegression(max_iter = 500)\n",
    "logreg_cv = GridSearchCV(logreg, grid, cv=5 , n_jobs= -1, verbose=50 )\n",
    "logreg_cv.fit(X_train, y_train)"
   ]
  },
  {
   "cell_type": "markdown",
   "metadata": {},
   "source": [
    "### Q4.2 What is an optimal C for l2 regularization?"
   ]
  },
  {
   "cell_type": "code",
   "execution_count": 2011,
   "metadata": {},
   "outputs": [
    {
     "data": {
      "text/plain": [
       "1.0"
      ]
     },
     "execution_count": 2011,
     "metadata": {},
     "output_type": "execute_result"
    }
   ],
   "source": [
    "logreg_cv.best_estimator_.C"
   ]
  },
  {
   "cell_type": "markdown",
   "metadata": {},
   "source": [
    "### Q4.3 What is the accuracy for this params?"
   ]
  },
  {
   "cell_type": "code",
   "execution_count": 1954,
   "metadata": {},
   "outputs": [
    {
     "name": "stdout",
     "output_type": "stream",
     "text": [
      "0.6780833018205391\n"
     ]
    }
   ],
   "source": [
    "from sklearn.metrics import accuracy_score\n",
    "y_pred_test = logreg_cv.best_estimator_.predict(X_test)\n",
    "print(accuracy_score(y_test, y_pred_test))"
   ]
  },
  {
   "cell_type": "markdown",
   "metadata": {},
   "source": [
    "### Q4.4 What is the two most important features by logistic regression estimation?"
   ]
  },
  {
   "cell_type": "code",
   "execution_count": 1955,
   "metadata": {},
   "outputs": [
    {
     "name": "stdout",
     "output_type": "stream",
     "text": [
      "country_JP \n",
      " currency_JPY \n",
      "\n",
      "Feature: 0, Score: -13.35407\n",
      "Feature: 1, Score: -0.07423\n",
      "Feature: 2, Score: -1.24630\n",
      "Feature: 3, Score: 0.15014\n",
      "Feature: 4, Score: 0.45724\n",
      "Feature: 5, Score: -0.25294\n",
      "Feature: 6, Score: -1.88528\n",
      "Feature: 7, Score: 0.05003\n",
      "Feature: 8, Score: -0.15639\n",
      "Feature: 9, Score: -0.02521\n",
      "Feature: 10, Score: -0.43841\n",
      "Feature: 11, Score: -0.11089\n",
      "Feature: 12, Score: -0.53346\n",
      "Feature: 13, Score: 0.95447\n",
      "Feature: 14, Score: 0.09623\n",
      "Feature: 15, Score: 0.17886\n",
      "Feature: 16, Score: 0.22245\n",
      "Feature: 17, Score: -0.04613\n",
      "Feature: 18, Score: -0.65747\n",
      "Feature: 19, Score: 0.04597\n",
      "Feature: 20, Score: 0.26027\n",
      "Feature: 21, Score: -0.07272\n",
      "Feature: 22, Score: -0.01474\n",
      "Feature: 23, Score: -0.14032\n",
      "Feature: 24, Score: 0.40425\n",
      "Feature: 25, Score: 0.64156\n",
      "Feature: 26, Score: -0.08153\n",
      "Feature: 27, Score: 0.10701\n",
      "Feature: 28, Score: -0.21732\n",
      "Feature: 29, Score: -0.53559\n",
      "Feature: 30, Score: -0.28068\n",
      "Feature: 31, Score: -0.16658\n",
      "Feature: 32, Score: 0.82949\n",
      "Feature: 33, Score: 0.82596\n",
      "Feature: 34, Score: 0.31337\n",
      "Feature: 35, Score: -0.01901\n",
      "Feature: 36, Score: -0.30684\n",
      "Feature: 37, Score: 0.23958\n",
      "Feature: 38, Score: -0.07273\n",
      "Feature: 39, Score: 0.19956\n",
      "Feature: 40, Score: 0.69475\n",
      "Feature: 41, Score: 0.21425\n",
      "Feature: 42, Score: 1.18547\n",
      "Feature: 43, Score: -0.55490\n",
      "Feature: 44, Score: 0.06074\n",
      "Feature: 45, Score: -0.15940\n",
      "Feature: 46, Score: -1.52264\n",
      "Feature: 47, Score: -0.04446\n",
      "Feature: 48, Score: -0.01669\n",
      "Feature: 49, Score: 0.11866\n",
      "Feature: 50, Score: 0.98204\n",
      "Feature: 51, Score: -0.49122\n",
      "Feature: 52, Score: 0.18074\n",
      "Feature: 53, Score: -0.07751\n",
      "Feature: 54, Score: -0.51025\n",
      "Feature: 55, Score: -0.00897\n",
      "Feature: 56, Score: -0.56254\n",
      "Feature: 57, Score: -0.36946\n",
      "Feature: 58, Score: -0.29886\n",
      "Feature: 59, Score: 0.35764\n",
      "Feature: 60, Score: -0.57766\n",
      "Feature: 61, Score: 0.01665\n",
      "Feature: 62, Score: 0.01924\n",
      "Feature: 63, Score: 0.89067\n",
      "Feature: 64, Score: -0.33098\n",
      "Feature: 65, Score: -0.29872\n",
      "Feature: 66, Score: -0.26880\n",
      "Feature: 67, Score: 0.11744\n",
      "Feature: 68, Score: -0.67151\n",
      "Feature: 69, Score: -0.21086\n",
      "Feature: 70, Score: 0.36106\n",
      "Feature: 71, Score: 1.54689\n",
      "Feature: 72, Score: -0.05899\n",
      "Feature: 73, Score: -0.04214\n",
      "Feature: 74, Score: -0.25457\n",
      "Feature: 75, Score: 0.09842\n",
      "Feature: 76, Score: -0.14301\n",
      "Feature: 77, Score: -0.17504\n",
      "Feature: 78, Score: -0.31682\n",
      "Feature: 79, Score: -0.33098\n",
      "Feature: 80, Score: 0.09041\n",
      "Feature: 81, Score: -0.29872\n",
      "Feature: 82, Score: -0.26880\n",
      "Feature: 83, Score: -0.12793\n",
      "Feature: 84, Score: 0.11744\n",
      "Feature: 85, Score: -0.23846\n",
      "Feature: 86, Score: 0.35863\n",
      "Feature: 87, Score: -0.21086\n",
      "Feature: 88, Score: 0.36106\n",
      "Feature: 89, Score: -0.05605\n",
      "Feature: 90, Score: -0.54655\n",
      "Feature: 91, Score: 1.54689\n",
      "Feature: 92, Score: 0.37401\n",
      "Feature: 93, Score: -0.05899\n",
      "Feature: 94, Score: -0.20876\n",
      "Feature: 95, Score: -0.04214\n",
      "Feature: 96, Score: -0.25457\n",
      "Feature: 97, Score: 0.09842\n",
      "Feature: 98, Score: -0.14301\n",
      "Feature: 99, Score: -0.17504\n"
     ]
    },
    {
     "data": {
      "image/png": "[encoded data removed]",
      "text/plain": [
       "<Figure size 432x288 with 1 Axes>"
      ]
     },
     "metadata": {},
     "output_type": "display_data"
    }
   ],
   "source": [
    "import numpy as np\n",
    "\n",
    "coefs = logreg_cv.best_estimator_.coef_[0]\n",
    "\n",
    "top_two = np.argpartition(coefs, -2)[-2:]\n",
    "print(X_train.columns[top_two[0]],'\\n', X_train.columns[top_two[1]], '\\n')\n",
    "plt.plot(np.arange(0,100), coefs)\n",
    "\n",
    "importance = coefs # summarize feature importance\n",
    "\n",
    "for i,v in enumerate(importance):\n",
    "\tprint('Feature: %0d, Score: %.5f' % (i,v))\n",
    "plt.bar([x for x in range(len(importance))], importance)\n",
    "plt.show()"
   ]
  },
  {
   "cell_type": "code",
   "execution_count": 1956,
   "metadata": {},
   "outputs": [
    {
     "name": "stdout",
     "output_type": "stream",
     "text": [
      "1st feature number =  currency_JPY\n",
      "2nd feature number =  country_JP\n"
     ]
    }
   ],
   "source": [
    "a = importance\n",
    "max1 = np.argmax(a) # first max\n",
    "print('1st feature number = ',X_train.columns[max1])\n",
    "a[max1]=0\n",
    "max2 = np.argmax(a) # second max\n",
    "print('2nd feature number = ',X_train.columns[max2])"
   ]
  },
  {
   "cell_type": "markdown",
   "metadata": {},
   "source": [
    "### Q4.5 Build roc curve and calculate roc-auc score. What is the roc-auc score?"
   ]
  },
  {
   "cell_type": "code",
   "execution_count": 1957,
   "metadata": {},
   "outputs": [],
   "source": [
    "y_prob = logreg_cv.best_estimator_.predict_proba(X_test)\n",
    "y_probs = y_prob[:,1]"
   ]
  },
  {
   "cell_type": "code",
   "execution_count": 1958,
   "metadata": {},
   "outputs": [
    {
     "data": {
      "text/plain": [
       "Text(0.5, 1.0, 'ROC curve: ROC AUC=0.70')"
      ]
     },
     "execution_count": 1958,
     "metadata": {},
     "output_type": "execute_result"
    },
    {
     "data": {
      "image/png": "[encoded data removed]",
      "text/plain": [
       "<Figure size 432x288 with 1 Axes>"
      ]
     },
     "metadata": {},
     "output_type": "display_data"
    }
   ],
   "source": [
    "from sklearn.metrics import roc_curve\n",
    "from sklearn.metrics import roc_auc_score\n",
    "\n",
    "fpr, tpr, _ = roc_curve(y_test, y_probs)\n",
    "plt.step(fpr,tpr, color ='b', alpha = 0.2, where='post')\n",
    "plt.fill_between(fpr, tpr, alpha = 0.2, color ='b')\n",
    "plt.xlabel('FPR')\n",
    "plt.ylabel('TPR')\n",
    "plt.title('ROC curve: ROC AUC={0:0.2f}'.format(roc_auc_score(y_test,y_probs)))"
   ]
  },
  {
   "cell_type": "markdown",
   "metadata": {},
   "source": [
    "## Build a random forest model\n",
    "Use random state 42, maximum depth from 2 to 15, and number of estimators in `[10, 20, 50, 100, 200]`"
   ]
  },
  {
   "cell_type": "code",
   "execution_count": 1959,
   "metadata": {},
   "outputs": [],
   "source": [
    "from sklearn.ensemble import RandomForestClassifier\n",
    "from sklearn.metrics import accuracy_score\n",
    "from tqdm import tqdm_notebook\n",
    "import numpy as np"
   ]
  },
  {
   "cell_type": "code",
   "execution_count": 1960,
   "metadata": {},
   "outputs": [
    {
     "name": "stdout",
     "output_type": "stream",
     "text": [
      "0.6536248716979094\n"
     ]
    }
   ],
   "source": [
    "model = RandomForestClassifier(n_estimators=10, max_features=8, max_depth=6, random_state=42) \n",
    "\n",
    "model.fit(X_train, y_train)\n",
    "y_pred = model.predict(X_test)\n",
    "\n",
    "print(accuracy_score(y_test, y_pred))"
   ]
  },
  {
   "cell_type": "code",
   "execution_count": 1961,
   "metadata": {},
   "outputs": [
    {
     "name": "stdout",
     "output_type": "stream",
     "text": [
      "[1608637542, 1273642419, 1935803228, 787846414, 996406378, 1201263687, 423734972, 415968276, 670094950, 1914837113]\n"
     ]
    }
   ],
   "source": [
    "rs = []\n",
    "for m in model.estimators_:\n",
    "    rs.append(m.random_state)\n",
    "print(rs)"
   ]
  },
  {
   "cell_type": "code",
   "execution_count": 1962,
   "metadata": {},
   "outputs": [],
   "source": [
    "def rf_train_test_accuracy(param_name, param_grid, **params):\n",
    "    \"\"\"Returns train and test perfomance of a RandomForest for\n",
    "    different values (param_grid) of a hyperparameter (param_name).\"\"\"\n",
    "    \n",
    "    train_score, test_score = [], []\n",
    "    clf = RandomForestClassifier(n_estimators=10, max_features=8, max_depth=6, random_state=42, n_jobs=-1)\n",
    "    if params:\n",
    "        clf.set_params(**params)\n",
    "    \n",
    "    for param_value in tqdm_notebook(param_grid):\n",
    "        clf.set_params(**{param_name: param_value})\n",
    "        clf.fit(X_train, y_train)\n",
    "\n",
    "        train_score.append(accuracy_score(y_train, clf.predict(X_train)))\n",
    "        test_score.append(accuracy_score(y_test, clf.predict(X_test)))\n",
    "    return train_score, test_score"
   ]
  },
  {
   "cell_type": "markdown",
   "metadata": {},
   "source": [
    "### Q4.6 What is an optimal depth and number of trees?"
   ]
  },
  {
   "cell_type": "markdown",
   "metadata": {},
   "source": [
    "# Trees"
   ]
  },
  {
   "cell_type": "code",
   "execution_count": 1963,
   "metadata": {},
   "outputs": [
    {
     "name": "stderr",
     "output_type": "stream",
     "text": [
      "<ipython-input-1962-7960aa440428>:10: TqdmDeprecationWarning: This function will be removed in tqdm==5.0.0\n",
      "Please use `tqdm.notebook.tqdm` instead of `tqdm.tqdm_notebook`\n",
      "  for param_value in tqdm_notebook(param_grid):\n"
     ]
    },
    {
     "data": {
      "application/vnd.jupyter.widget-view+json": {
       "model_id": "ca6750ee5e734e74ad34197c0764e9ac",
       "version_major": 2,
       "version_minor": 0
      },
      "text/plain": [
       "HBox(children=(FloatProgress(value=0.0, max=25.0), HTML(value='')))"
      ]
     },
     "metadata": {},
     "output_type": "display_data"
    },
    {
     "name": "stdout",
     "output_type": "stream",
     "text": [
      "\n"
     ]
    }
   ],
   "source": [
    "train_accuracy, test_accuracy = rf_train_test_accuracy('n_estimators', range(1, 50, 2))"
   ]
  },
  {
   "cell_type": "code",
   "execution_count": 1964,
   "metadata": {},
   "outputs": [
    {
     "data": {
      "image/png": "[encoded data removed]",
      "text/plain": [
       "<Figure size 720x360 with 1 Axes>"
      ]
     },
     "metadata": {},
     "output_type": "display_data"
    }
   ],
   "source": [
    "plt.figure(figsize=(10,5))\n",
    "plt.plot(list(range(1,50,2)), 1-np.array(train_accuracy), c='r', label='Train error')\n",
    "plt.plot(list(range(1,50,2)), 1-np.array(test_accuracy), c='b', label='Test error')\n",
    "plt.xlabel('Number of trees in the forest')\n",
    "plt.ylabel('Classification error (1 - accuracy).')\n",
    "plt.legend();"
   ]
  },
  {
   "cell_type": "markdown",
   "metadata": {},
   "source": [
    "# Depth"
   ]
  },
  {
   "cell_type": "code",
   "execution_count": 1965,
   "metadata": {
    "scrolled": true
   },
   "outputs": [
    {
     "name": "stderr",
     "output_type": "stream",
     "text": [
      "<ipython-input-1962-7960aa440428>:10: TqdmDeprecationWarning: This function will be removed in tqdm==5.0.0\n",
      "Please use `tqdm.notebook.tqdm` instead of `tqdm.tqdm_notebook`\n",
      "  for param_value in tqdm_notebook(param_grid):\n"
     ]
    },
    {
     "data": {
      "application/vnd.jupyter.widget-view+json": {
       "model_id": "dd4d896f11c64415a3563657cebaeb95",
       "version_major": 2,
       "version_minor": 0
      },
      "text/plain": [
       "HBox(children=(FloatProgress(value=0.0, max=29.0), HTML(value='')))"
      ]
     },
     "metadata": {},
     "output_type": "display_data"
    },
    {
     "name": "stdout",
     "output_type": "stream",
     "text": [
      "\n"
     ]
    }
   ],
   "source": [
    "train_accuracy, test_accuracy = rf_train_test_accuracy('max_depth', range(1, 30))"
   ]
  },
  {
   "cell_type": "code",
   "execution_count": 1966,
   "metadata": {},
   "outputs": [
    {
     "data": {
      "image/png": "[encoded data removed]",
      "text/plain": [
       "<Figure size 720x360 with 1 Axes>"
      ]
     },
     "metadata": {},
     "output_type": "display_data"
    }
   ],
   "source": [
    "plt.figure(figsize=(10,5))\n",
    "plt.plot(list(range(1,30)), 1-np.array(train_accuracy), c='r', label='Train error')\n",
    "plt.plot(list(range(1,30)), 1-np.array(test_accuracy), c='b', label='Test error')\n",
    "plt.xlabel('Tree depth')\n",
    "plt.ylabel('Classification error (1 - accuracy).')\n",
    "plt.legend();"
   ]
  },
  {
   "cell_type": "markdown",
   "metadata": {},
   "source": [
    "### Q4.7 What is the accuracy for this params?"
   ]
  },
  {
   "cell_type": "code",
   "execution_count": 1967,
   "metadata": {},
   "outputs": [
    {
     "name": "stdout",
     "output_type": "stream",
     "text": [
      "0.673\n"
     ]
    }
   ],
   "source": [
    "model = RandomForestClassifier(n_estimators=8, max_features=8, max_depth=10, random_state=42) \n",
    "\n",
    "model.fit(X_train, y_train)\n",
    "y_pred = model.predict(X_test)\n",
    "\n",
    "print(round(accuracy_score(y_test, y_pred),3))"
   ]
  },
  {
   "cell_type": "markdown",
   "metadata": {},
   "source": [
    "### Q4.8 Build precision-recall curve. What is the precision for recall 0.5?"
   ]
  },
  {
   "cell_type": "code",
   "execution_count": 1968,
   "metadata": {},
   "outputs": [
    {
     "data": {
      "text/plain": [
       "RandomForestClassifier(max_depth=10, max_features=8, n_estimators=8, n_jobs=-1,\n",
       "                       random_state=42)"
      ]
     },
     "execution_count": 1968,
     "metadata": {},
     "output_type": "execute_result"
    }
   ],
   "source": [
    "from sklearn import datasets\n",
    "from sklearn.linear_model import LogisticRegression\n",
    "from sklearn.model_selection import train_test_split\n",
    "\n",
    "# Create a simple classifier\n",
    "clf = RandomForestClassifier(n_estimators=8, max_features=8, max_depth=10, random_state=42, n_jobs=-1)\n",
    "clf.fit(X_train, y_train)"
   ]
  },
  {
   "cell_type": "code",
   "execution_count": 1969,
   "metadata": {},
   "outputs": [
    {
     "data": {
      "text/plain": [
       "(0.0, 1.0)"
      ]
     },
     "execution_count": 1969,
     "metadata": {},
     "output_type": "execute_result"
    },
    {
     "data": {
      "image/png": "[encoded data removed]",
      "text/plain": [
       "<Figure size 432x288 with 1 Axes>"
      ]
     },
     "metadata": {},
     "output_type": "display_data"
    }
   ],
   "source": [
    "from sklearn.metrics import precision_score, recall_score\n",
    "\n",
    "y_pred = clf.predict(X_test)\n",
    "plt.plot(recall_score(y_test, y_pred), \n",
    "         precision_score(y_test, y_pred), \n",
    "         '*r', ms=10\n",
    "         )\n",
    "plt.xlabel('Recall')\n",
    "plt.ylabel('Precision')\n",
    "plt.ylim([0.0, 1.05])\n",
    "plt.xlim([0.0, 1.0])"
   ]
  },
  {
   "cell_type": "code",
   "execution_count": 1970,
   "metadata": {},
   "outputs": [
    {
     "name": "stdout",
     "output_type": "stream",
     "text": [
      "[0 0 0 0 0]\n",
      "[[0.7228242  0.2771758 ]\n",
      " [0.67133325 0.32866675]\n",
      " [0.62316112 0.37683888]\n",
      " [0.51760882 0.48239118]\n",
      " [0.65236191 0.34763809]]\n"
     ]
    }
   ],
   "source": [
    "y_pred = clf.predict(X_test)\n",
    "print(y_pred[:5])\n",
    "\n",
    "y_prob = clf.predict_proba(X_test)\n",
    "# # Note that we used predict_proba instead of predict\n",
    "print(y_prob[:5])"
   ]
  },
  {
   "cell_type": "code",
   "execution_count": 1971,
   "metadata": {},
   "outputs": [],
   "source": [
    "y_prob = y_prob[:, 1]"
   ]
  },
  {
   "cell_type": "code",
   "execution_count": 1972,
   "metadata": {},
   "outputs": [
    {
     "data": {
      "text/plain": [
       "Text(0.5, 1.0, '2-class Precision-Recall curve: AP=0.42')"
      ]
     },
     "execution_count": 1972,
     "metadata": {},
     "output_type": "execute_result"
    },
    {
     "data": {
      "image/png": "[encoded data removed]",
      "text/plain": [
       "<Figure size 432x288 with 1 Axes>"
      ]
     },
     "metadata": {},
     "output_type": "display_data"
    }
   ],
   "source": [
    "from sklearn.metrics import precision_recall_curve, average_precision_score\n",
    "\n",
    "precision, recall, _ = precision_recall_curve(y_test, y_prob)\n",
    "plt.step(recall, precision, color='b', alpha=0.2, where='post')\n",
    "\n",
    "plt.plot(recall_score(y_test, y_pred), \n",
    "         precision_score(y_test, y_pred), \n",
    "         '*r', ms=10\n",
    "         )\n",
    "plt.fill_between(recall, precision, alpha=0.2, color='b')\n",
    "\n",
    "plt.xlabel('Recall')\n",
    "plt.ylabel('Precision')\n",
    "plt.ylim([0.0, 1.05])\n",
    "plt.xlim([0.0, 1.0])\n",
    "plt.title('2-class Precision-Recall curve: AP={0:0.2f}'.format(\n",
    "          average_precision_score(y_test, y_pred)))"
   ]
  },
  {
   "cell_type": "markdown",
   "metadata": {},
   "source": [
    "### Q4.9 What is the two most important features by random forest?"
   ]
  },
  {
   "cell_type": "code",
   "execution_count": 1973,
   "metadata": {},
   "outputs": [
    {
     "name": "stdout",
     "output_type": "stream",
     "text": [
      "1st feature number =  goal\n",
      "2nd feature number =  duration_days\n"
     ]
    }
   ],
   "source": [
    "a = clf.feature_importances_\n",
    "max1 = np.argmax(a) # first max\n",
    "print('1st feature number = ',X_train.columns[max1])\n",
    "a[max1]=0\n",
    "max2 = np.argmax(a) # second max\n",
    "print('2nd feature number = ',X_train.columns[max2])"
   ]
  },
  {
   "cell_type": "markdown",
   "metadata": {},
   "source": [
    "------"
   ]
  },
  {
   "cell_type": "markdown",
   "metadata": {},
   "source": [
    "# Build the stronger model"
   ]
  },
  {
   "cell_type": "code",
   "execution_count": 1974,
   "metadata": {},
   "outputs": [],
   "source": [
    "data = data1.copy()"
   ]
  },
  {
   "cell_type": "code",
   "execution_count": 1975,
   "metadata": {
    "scrolled": true
   },
   "outputs": [
    {
     "data": {
      "text/plain": [
       "Index(['ID', 'name', 'category', 'main_category', 'currency', 'deadline',\n",
       "       'goal', 'launched', 'pledged', 'state', 'backers', 'country',\n",
       "       'usd pledged', 'usd_pledged_real', 'usd_goal_real', 'pledge2goal',\n",
       "       'year', 'duration_days', 'region', 'name_length'],\n",
       "      dtype='object')"
      ]
     },
     "execution_count": 1975,
     "metadata": {},
     "output_type": "execute_result"
    }
   ],
   "source": [
    "# dataset from step 3.1\n",
    "data.columns"
   ]
  },
  {
   "cell_type": "markdown",
   "metadata": {},
   "source": [
    "### Q5.1 Generate two (or more) meaningfull features"
   ]
  },
  {
   "cell_type": "code",
   "execution_count": 1976,
   "metadata": {},
   "outputs": [],
   "source": [
    "# generate new feature 1\n",
    "data['new_feature_1'] = pd.qcut(data['year'],[0, 0.15, 0.3, 0.45, 0.60, 0.75, 1.0],labels=False)"
   ]
  },
  {
   "cell_type": "code",
   "execution_count": 1977,
   "metadata": {},
   "outputs": [],
   "source": [
    "# generate new feature 2\n",
    "data['new_feature_2'] = pd.qcut(data['name_length'],[0, 0.15, 0.3, 0.45, 0.60, 0.75, 1.0],labels=False)"
   ]
  },
  {
   "cell_type": "code",
   "execution_count": 1978,
   "metadata": {},
   "outputs": [
    {
     "data": {
      "text/plain": [
       "Index(['ID', 'name', 'category', 'main_category', 'currency', 'deadline',\n",
       "       'goal', 'launched', 'pledged', 'state', 'backers', 'country',\n",
       "       'usd pledged', 'usd_pledged_real', 'usd_goal_real', 'pledge2goal',\n",
       "       'year', 'duration_days', 'region', 'name_length', 'new_feature_1',\n",
       "       'new_feature_2'],\n",
       "      dtype='object')"
      ]
     },
     "execution_count": 1978,
     "metadata": {},
     "output_type": "execute_result"
    }
   ],
   "source": [
    "# result dataset columns\n",
    "data.columns"
   ]
  },
  {
   "cell_type": "code",
   "execution_count": 1979,
   "metadata": {},
   "outputs": [],
   "source": [
    "# drop columns\n",
    "data.drop(['ID','name','deadline','launched','pledged','backers','currency','usd pledged'], axis='columns', inplace=True)\n",
    "data.drop(['usd_pledged_real','goal','pledge2goal','year','region','name_length'], axis='columns', inplace=True)"
   ]
  },
  {
   "cell_type": "code",
   "execution_count": 1980,
   "metadata": {},
   "outputs": [
    {
     "data": {
      "text/plain": [
       "Index(['category', 'main_category', 'state', 'country', 'usd_goal_real',\n",
       "       'duration_days', 'new_feature_1', 'new_feature_2'],\n",
       "      dtype='object')"
      ]
     },
     "execution_count": 1980,
     "metadata": {},
     "output_type": "execute_result"
    }
   ],
   "source": [
    "# result dataset columns\n",
    "data.columns"
   ]
  },
  {
   "cell_type": "code",
   "execution_count": 1981,
   "metadata": {},
   "outputs": [],
   "source": [
    "# replace inp->nan\n",
    "data = data.replace(np.inf, np.nan)"
   ]
  },
  {
   "cell_type": "code",
   "execution_count": 1982,
   "metadata": {},
   "outputs": [
    {
     "data": {
      "text/plain": [
       "0"
      ]
     },
     "execution_count": 1982,
     "metadata": {},
     "output_type": "execute_result"
    }
   ],
   "source": [
    "# there are a lot of NaNs\n",
    "data.isnull().sum().sum()"
   ]
  },
  {
   "cell_type": "code",
   "execution_count": 1983,
   "metadata": {},
   "outputs": [],
   "source": [
    "# delete them\n",
    "data = data.dropna()"
   ]
  },
  {
   "cell_type": "code",
   "execution_count": 1984,
   "metadata": {
    "scrolled": true
   },
   "outputs": [
    {
     "data": {
      "text/plain": [
       "0"
      ]
     },
     "execution_count": 1984,
     "metadata": {},
     "output_type": "execute_result"
    }
   ],
   "source": [
    "# there isn't NaNs\n",
    "data.isnull().sum().sum()"
   ]
  },
  {
   "cell_type": "code",
   "execution_count": 1985,
   "metadata": {},
   "outputs": [],
   "source": [
    "# divide features into 2 categories\n",
    "num_features_xgb = ['usd_goal_real','duration_days','new_feature_1','new_feature_2']\n",
    "cat_features_xgb = ['category', 'main_category', 'country']\n",
    "X_xgb, y_xgb = data[[*num_features_xgb, *cat_features_xgb]], data['state'] # define X,y"
   ]
  },
  {
   "cell_type": "code",
   "execution_count": 1986,
   "metadata": {},
   "outputs": [
    {
     "data": {
      "text/plain": [
       "[array(['Accessories', 'Apparel', 'Apps', 'Art', \"Children's Books\",\n",
       "        'Comic Books', 'Comics', 'Crafts', 'DIY', 'Dance', 'Design',\n",
       "        'Documentary', 'Drinks', 'Fashion', 'Fiction', 'Film & Video',\n",
       "        'Food', 'Games', 'Graphic Design', 'Graphic Novels',\n",
       "        'Illustration', 'Indie Rock', 'Journalism', 'Music', 'Musical',\n",
       "        'Nonfiction', 'Painting', 'People', 'Performances', 'Photobooks',\n",
       "        'Photography', 'Plays', 'Print', 'Product Design', 'Restaurants',\n",
       "        'Rock', 'Shorts', 'Spaces', 'Tabletop Games', 'Technology',\n",
       "        'Theater', 'Video Games', 'Web', 'Woodworking', 'other'],\n",
       "       dtype=object),\n",
       " array(['Art', 'Comics', 'Crafts', 'Dance', 'Design', 'Fashion',\n",
       "        'Film & Video', 'Food', 'Games', 'Journalism', 'Music',\n",
       "        'Photography', 'Publishing', 'Technology', 'Theater'], dtype=object),\n",
       " array(['AT', 'AU', 'BE', 'CA', 'CH', 'DE', 'DK', 'ES', 'FR', 'GB', 'HK',\n",
       "        'IE', 'IT', 'JP', 'LU', 'MX', 'NL', 'NO', 'NZ', 'SE', 'SG', 'US'],\n",
       "       dtype=object)]"
      ]
     },
     "execution_count": 1986,
     "metadata": {},
     "output_type": "execute_result"
    }
   ],
   "source": [
    "# features encoding...\n",
    "from sklearn.preprocessing import OneHotEncoder\n",
    "ohe = OneHotEncoder(sparse=False)\n",
    "encoded_features = pd.DataFrame(ohe.fit_transform(X_xgb[[*cat_features_xgb]]))\n",
    "ohe.categories_"
   ]
  },
  {
   "cell_type": "code",
   "execution_count": 1987,
   "metadata": {},
   "outputs": [],
   "source": [
    "category_cols = [f'category_{cat}' for cat in ohe.categories_[0]]\n",
    "main_category_cols = [f'main_category_{cat}' for cat in ohe.categories_[1]]\n",
    "#currency_cols = [f'currency_{cat}' for cat in ohe.categories_[2]]\n",
    "country_cols = [f'country_{cat}' for cat in ohe.categories_[2]]\n"
   ]
  },
  {
   "cell_type": "code",
   "execution_count": 1988,
   "metadata": {
    "scrolled": true
   },
   "outputs": [
    {
     "data": {
      "text/html": [
       "<div>\n",
       "<style scoped>\n",
       "    .dataframe tbody tr th:only-of-type {\n",
       "        vertical-align: middle;\n",
       "    }\n",
       "\n",
       "    .dataframe tbody tr th {\n",
       "        vertical-align: top;\n",
       "    }\n",
       "\n",
       "    .dataframe thead th {\n",
       "        text-align: right;\n",
       "    }\n",
       "</style>\n",
       "<table border=\"1\" class=\"dataframe\">\n",
       "  <thead>\n",
       "    <tr style=\"text-align: right;\">\n",
       "      <th></th>\n",
       "      <th>category_Accessories</th>\n",
       "      <th>category_Apparel</th>\n",
       "      <th>category_Apps</th>\n",
       "      <th>category_Art</th>\n",
       "      <th>category_Children's Books</th>\n",
       "      <th>category_Comic Books</th>\n",
       "      <th>category_Comics</th>\n",
       "      <th>category_Crafts</th>\n",
       "      <th>category_DIY</th>\n",
       "      <th>category_Dance</th>\n",
       "      <th>...</th>\n",
       "      <th>country_IT</th>\n",
       "      <th>country_JP</th>\n",
       "      <th>country_LU</th>\n",
       "      <th>country_MX</th>\n",
       "      <th>country_NL</th>\n",
       "      <th>country_NO</th>\n",
       "      <th>country_NZ</th>\n",
       "      <th>country_SE</th>\n",
       "      <th>country_SG</th>\n",
       "      <th>country_US</th>\n",
       "    </tr>\n",
       "  </thead>\n",
       "  <tbody>\n",
       "    <tr>\n",
       "      <th>0</th>\n",
       "      <td>0.0</td>\n",
       "      <td>0.0</td>\n",
       "      <td>0.0</td>\n",
       "      <td>0.0</td>\n",
       "      <td>0.0</td>\n",
       "      <td>0.0</td>\n",
       "      <td>0.0</td>\n",
       "      <td>0.0</td>\n",
       "      <td>0.0</td>\n",
       "      <td>0.0</td>\n",
       "      <td>...</td>\n",
       "      <td>0.0</td>\n",
       "      <td>0.0</td>\n",
       "      <td>0.0</td>\n",
       "      <td>0.0</td>\n",
       "      <td>0.0</td>\n",
       "      <td>0.0</td>\n",
       "      <td>0.0</td>\n",
       "      <td>0.0</td>\n",
       "      <td>0.0</td>\n",
       "      <td>0.0</td>\n",
       "    </tr>\n",
       "    <tr>\n",
       "      <th>1</th>\n",
       "      <td>0.0</td>\n",
       "      <td>0.0</td>\n",
       "      <td>0.0</td>\n",
       "      <td>0.0</td>\n",
       "      <td>0.0</td>\n",
       "      <td>0.0</td>\n",
       "      <td>0.0</td>\n",
       "      <td>0.0</td>\n",
       "      <td>0.0</td>\n",
       "      <td>0.0</td>\n",
       "      <td>...</td>\n",
       "      <td>0.0</td>\n",
       "      <td>0.0</td>\n",
       "      <td>0.0</td>\n",
       "      <td>0.0</td>\n",
       "      <td>0.0</td>\n",
       "      <td>0.0</td>\n",
       "      <td>0.0</td>\n",
       "      <td>0.0</td>\n",
       "      <td>0.0</td>\n",
       "      <td>1.0</td>\n",
       "    </tr>\n",
       "    <tr>\n",
       "      <th>2</th>\n",
       "      <td>0.0</td>\n",
       "      <td>0.0</td>\n",
       "      <td>0.0</td>\n",
       "      <td>0.0</td>\n",
       "      <td>0.0</td>\n",
       "      <td>0.0</td>\n",
       "      <td>0.0</td>\n",
       "      <td>0.0</td>\n",
       "      <td>0.0</td>\n",
       "      <td>0.0</td>\n",
       "      <td>...</td>\n",
       "      <td>0.0</td>\n",
       "      <td>0.0</td>\n",
       "      <td>0.0</td>\n",
       "      <td>0.0</td>\n",
       "      <td>0.0</td>\n",
       "      <td>0.0</td>\n",
       "      <td>0.0</td>\n",
       "      <td>0.0</td>\n",
       "      <td>0.0</td>\n",
       "      <td>1.0</td>\n",
       "    </tr>\n",
       "    <tr>\n",
       "      <th>3</th>\n",
       "      <td>0.0</td>\n",
       "      <td>0.0</td>\n",
       "      <td>0.0</td>\n",
       "      <td>0.0</td>\n",
       "      <td>0.0</td>\n",
       "      <td>0.0</td>\n",
       "      <td>0.0</td>\n",
       "      <td>0.0</td>\n",
       "      <td>0.0</td>\n",
       "      <td>0.0</td>\n",
       "      <td>...</td>\n",
       "      <td>0.0</td>\n",
       "      <td>0.0</td>\n",
       "      <td>0.0</td>\n",
       "      <td>0.0</td>\n",
       "      <td>0.0</td>\n",
       "      <td>0.0</td>\n",
       "      <td>0.0</td>\n",
       "      <td>0.0</td>\n",
       "      <td>0.0</td>\n",
       "      <td>1.0</td>\n",
       "    </tr>\n",
       "    <tr>\n",
       "      <th>4</th>\n",
       "      <td>0.0</td>\n",
       "      <td>0.0</td>\n",
       "      <td>0.0</td>\n",
       "      <td>0.0</td>\n",
       "      <td>0.0</td>\n",
       "      <td>0.0</td>\n",
       "      <td>0.0</td>\n",
       "      <td>0.0</td>\n",
       "      <td>0.0</td>\n",
       "      <td>0.0</td>\n",
       "      <td>...</td>\n",
       "      <td>0.0</td>\n",
       "      <td>0.0</td>\n",
       "      <td>0.0</td>\n",
       "      <td>0.0</td>\n",
       "      <td>0.0</td>\n",
       "      <td>0.0</td>\n",
       "      <td>0.0</td>\n",
       "      <td>0.0</td>\n",
       "      <td>0.0</td>\n",
       "      <td>1.0</td>\n",
       "    </tr>\n",
       "    <tr>\n",
       "      <th>...</th>\n",
       "      <td>...</td>\n",
       "      <td>...</td>\n",
       "      <td>...</td>\n",
       "      <td>...</td>\n",
       "      <td>...</td>\n",
       "      <td>...</td>\n",
       "      <td>...</td>\n",
       "      <td>...</td>\n",
       "      <td>...</td>\n",
       "      <td>...</td>\n",
       "      <td>...</td>\n",
       "      <td>...</td>\n",
       "      <td>...</td>\n",
       "      <td>...</td>\n",
       "      <td>...</td>\n",
       "      <td>...</td>\n",
       "      <td>...</td>\n",
       "      <td>...</td>\n",
       "      <td>...</td>\n",
       "      <td>...</td>\n",
       "      <td>...</td>\n",
       "    </tr>\n",
       "    <tr>\n",
       "      <th>370214</th>\n",
       "      <td>0.0</td>\n",
       "      <td>0.0</td>\n",
       "      <td>0.0</td>\n",
       "      <td>0.0</td>\n",
       "      <td>0.0</td>\n",
       "      <td>0.0</td>\n",
       "      <td>0.0</td>\n",
       "      <td>0.0</td>\n",
       "      <td>0.0</td>\n",
       "      <td>0.0</td>\n",
       "      <td>...</td>\n",
       "      <td>0.0</td>\n",
       "      <td>0.0</td>\n",
       "      <td>0.0</td>\n",
       "      <td>0.0</td>\n",
       "      <td>0.0</td>\n",
       "      <td>0.0</td>\n",
       "      <td>0.0</td>\n",
       "      <td>0.0</td>\n",
       "      <td>0.0</td>\n",
       "      <td>1.0</td>\n",
       "    </tr>\n",
       "    <tr>\n",
       "      <th>370215</th>\n",
       "      <td>0.0</td>\n",
       "      <td>0.0</td>\n",
       "      <td>0.0</td>\n",
       "      <td>0.0</td>\n",
       "      <td>0.0</td>\n",
       "      <td>0.0</td>\n",
       "      <td>0.0</td>\n",
       "      <td>0.0</td>\n",
       "      <td>0.0</td>\n",
       "      <td>0.0</td>\n",
       "      <td>...</td>\n",
       "      <td>0.0</td>\n",
       "      <td>0.0</td>\n",
       "      <td>0.0</td>\n",
       "      <td>0.0</td>\n",
       "      <td>0.0</td>\n",
       "      <td>0.0</td>\n",
       "      <td>0.0</td>\n",
       "      <td>0.0</td>\n",
       "      <td>0.0</td>\n",
       "      <td>1.0</td>\n",
       "    </tr>\n",
       "    <tr>\n",
       "      <th>370216</th>\n",
       "      <td>0.0</td>\n",
       "      <td>0.0</td>\n",
       "      <td>0.0</td>\n",
       "      <td>0.0</td>\n",
       "      <td>0.0</td>\n",
       "      <td>0.0</td>\n",
       "      <td>0.0</td>\n",
       "      <td>0.0</td>\n",
       "      <td>0.0</td>\n",
       "      <td>0.0</td>\n",
       "      <td>...</td>\n",
       "      <td>0.0</td>\n",
       "      <td>0.0</td>\n",
       "      <td>0.0</td>\n",
       "      <td>0.0</td>\n",
       "      <td>0.0</td>\n",
       "      <td>0.0</td>\n",
       "      <td>0.0</td>\n",
       "      <td>0.0</td>\n",
       "      <td>0.0</td>\n",
       "      <td>1.0</td>\n",
       "    </tr>\n",
       "    <tr>\n",
       "      <th>370217</th>\n",
       "      <td>0.0</td>\n",
       "      <td>0.0</td>\n",
       "      <td>0.0</td>\n",
       "      <td>0.0</td>\n",
       "      <td>0.0</td>\n",
       "      <td>0.0</td>\n",
       "      <td>0.0</td>\n",
       "      <td>0.0</td>\n",
       "      <td>0.0</td>\n",
       "      <td>0.0</td>\n",
       "      <td>...</td>\n",
       "      <td>0.0</td>\n",
       "      <td>0.0</td>\n",
       "      <td>0.0</td>\n",
       "      <td>0.0</td>\n",
       "      <td>0.0</td>\n",
       "      <td>0.0</td>\n",
       "      <td>0.0</td>\n",
       "      <td>0.0</td>\n",
       "      <td>0.0</td>\n",
       "      <td>1.0</td>\n",
       "    </tr>\n",
       "    <tr>\n",
       "      <th>370218</th>\n",
       "      <td>0.0</td>\n",
       "      <td>0.0</td>\n",
       "      <td>0.0</td>\n",
       "      <td>0.0</td>\n",
       "      <td>0.0</td>\n",
       "      <td>0.0</td>\n",
       "      <td>0.0</td>\n",
       "      <td>0.0</td>\n",
       "      <td>0.0</td>\n",
       "      <td>0.0</td>\n",
       "      <td>...</td>\n",
       "      <td>0.0</td>\n",
       "      <td>0.0</td>\n",
       "      <td>0.0</td>\n",
       "      <td>0.0</td>\n",
       "      <td>0.0</td>\n",
       "      <td>0.0</td>\n",
       "      <td>0.0</td>\n",
       "      <td>0.0</td>\n",
       "      <td>0.0</td>\n",
       "      <td>1.0</td>\n",
       "    </tr>\n",
       "  </tbody>\n",
       "</table>\n",
       "<p>370219 rows × 82 columns</p>\n",
       "</div>"
      ],
      "text/plain": [
       "        category_Accessories  category_Apparel  category_Apps  category_Art  \\\n",
       "0                        0.0               0.0            0.0           0.0   \n",
       "1                        0.0               0.0            0.0           0.0   \n",
       "2                        0.0               0.0            0.0           0.0   \n",
       "3                        0.0               0.0            0.0           0.0   \n",
       "4                        0.0               0.0            0.0           0.0   \n",
       "...                      ...               ...            ...           ...   \n",
       "370214                   0.0               0.0            0.0           0.0   \n",
       "370215                   0.0               0.0            0.0           0.0   \n",
       "370216                   0.0               0.0            0.0           0.0   \n",
       "370217                   0.0               0.0            0.0           0.0   \n",
       "370218                   0.0               0.0            0.0           0.0   \n",
       "\n",
       "        category_Children's Books  category_Comic Books  category_Comics  \\\n",
       "0                             0.0                   0.0              0.0   \n",
       "1                             0.0                   0.0              0.0   \n",
       "2                             0.0                   0.0              0.0   \n",
       "3                             0.0                   0.0              0.0   \n",
       "4                             0.0                   0.0              0.0   \n",
       "...                           ...                   ...              ...   \n",
       "370214                        0.0                   0.0              0.0   \n",
       "370215                        0.0                   0.0              0.0   \n",
       "370216                        0.0                   0.0              0.0   \n",
       "370217                        0.0                   0.0              0.0   \n",
       "370218                        0.0                   0.0              0.0   \n",
       "\n",
       "        category_Crafts  category_DIY  category_Dance  ...  country_IT  \\\n",
       "0                   0.0           0.0             0.0  ...         0.0   \n",
       "1                   0.0           0.0             0.0  ...         0.0   \n",
       "2                   0.0           0.0             0.0  ...         0.0   \n",
       "3                   0.0           0.0             0.0  ...         0.0   \n",
       "4                   0.0           0.0             0.0  ...         0.0   \n",
       "...                 ...           ...             ...  ...         ...   \n",
       "370214              0.0           0.0             0.0  ...         0.0   \n",
       "370215              0.0           0.0             0.0  ...         0.0   \n",
       "370216              0.0           0.0             0.0  ...         0.0   \n",
       "370217              0.0           0.0             0.0  ...         0.0   \n",
       "370218              0.0           0.0             0.0  ...         0.0   \n",
       "\n",
       "        country_JP  country_LU  country_MX  country_NL  country_NO  \\\n",
       "0              0.0         0.0         0.0         0.0         0.0   \n",
       "1              0.0         0.0         0.0         0.0         0.0   \n",
       "2              0.0         0.0         0.0         0.0         0.0   \n",
       "3              0.0         0.0         0.0         0.0         0.0   \n",
       "4              0.0         0.0         0.0         0.0         0.0   \n",
       "...            ...         ...         ...         ...         ...   \n",
       "370214         0.0         0.0         0.0         0.0         0.0   \n",
       "370215         0.0         0.0         0.0         0.0         0.0   \n",
       "370216         0.0         0.0         0.0         0.0         0.0   \n",
       "370217         0.0         0.0         0.0         0.0         0.0   \n",
       "370218         0.0         0.0         0.0         0.0         0.0   \n",
       "\n",
       "        country_NZ  country_SE  country_SG  country_US  \n",
       "0              0.0         0.0         0.0         0.0  \n",
       "1              0.0         0.0         0.0         1.0  \n",
       "2              0.0         0.0         0.0         1.0  \n",
       "3              0.0         0.0         0.0         1.0  \n",
       "4              0.0         0.0         0.0         1.0  \n",
       "...            ...         ...         ...         ...  \n",
       "370214         0.0         0.0         0.0         1.0  \n",
       "370215         0.0         0.0         0.0         1.0  \n",
       "370216         0.0         0.0         0.0         1.0  \n",
       "370217         0.0         0.0         0.0         1.0  \n",
       "370218         0.0         0.0         0.0         1.0  \n",
       "\n",
       "[370219 rows x 82 columns]"
      ]
     },
     "execution_count": 1988,
     "metadata": {},
     "output_type": "execute_result"
    }
   ],
   "source": [
    "dummy_cols_names = [*category_cols, *main_category_cols,*country_cols]\n",
    "                    #, *region_cols]\n",
    "encoded_features.columns = dummy_cols_names\n",
    "encoded_features"
   ]
  },
  {
   "cell_type": "code",
   "execution_count": 1989,
   "metadata": {},
   "outputs": [
    {
     "name": "stderr",
     "output_type": "stream",
     "text": [
      "C:\\Users\\kriku\\anaconda3\\lib\\site-packages\\pandas\\core\\frame.py:3990: SettingWithCopyWarning: \n",
      "A value is trying to be set on a copy of a slice from a DataFrame\n",
      "\n",
      "See the caveats in the documentation: https://pandas.pydata.org/pandas-docs/stable/user_guide/indexing.html#returning-a-view-versus-a-copy\n",
      "  return super().drop(\n"
     ]
    }
   ],
   "source": [
    "# drop category features\n",
    "X_xgb.drop(['category', 'main_category', 'country'], axis=1, inplace=True)"
   ]
  },
  {
   "cell_type": "code",
   "execution_count": 1990,
   "metadata": {},
   "outputs": [],
   "source": [
    "# concat X, encoded_features\n",
    "X_xgb = pd.concat([X_xgb, encoded_features], axis=1)"
   ]
  },
  {
   "cell_type": "code",
   "execution_count": 1991,
   "metadata": {},
   "outputs": [
    {
     "data": {
      "text/html": [
       "<div>\n",
       "<style scoped>\n",
       "    .dataframe tbody tr th:only-of-type {\n",
       "        vertical-align: middle;\n",
       "    }\n",
       "\n",
       "    .dataframe tbody tr th {\n",
       "        vertical-align: top;\n",
       "    }\n",
       "\n",
       "    .dataframe thead th {\n",
       "        text-align: right;\n",
       "    }\n",
       "</style>\n",
       "<table border=\"1\" class=\"dataframe\">\n",
       "  <thead>\n",
       "    <tr style=\"text-align: right;\">\n",
       "      <th></th>\n",
       "      <th>usd_goal_real</th>\n",
       "      <th>duration_days</th>\n",
       "      <th>new_feature_1</th>\n",
       "      <th>new_feature_2</th>\n",
       "      <th>category_Accessories</th>\n",
       "      <th>category_Apparel</th>\n",
       "      <th>category_Apps</th>\n",
       "      <th>category_Art</th>\n",
       "      <th>category_Children's Books</th>\n",
       "      <th>category_Comic Books</th>\n",
       "      <th>...</th>\n",
       "      <th>country_IT</th>\n",
       "      <th>country_JP</th>\n",
       "      <th>country_LU</th>\n",
       "      <th>country_MX</th>\n",
       "      <th>country_NL</th>\n",
       "      <th>country_NO</th>\n",
       "      <th>country_NZ</th>\n",
       "      <th>country_SE</th>\n",
       "      <th>country_SG</th>\n",
       "      <th>country_US</th>\n",
       "    </tr>\n",
       "  </thead>\n",
       "  <tbody>\n",
       "    <tr>\n",
       "      <th>0</th>\n",
       "      <td>1533.95</td>\n",
       "      <td>58</td>\n",
       "      <td>3</td>\n",
       "      <td>2</td>\n",
       "      <td>0.0</td>\n",
       "      <td>0.0</td>\n",
       "      <td>0.0</td>\n",
       "      <td>0.0</td>\n",
       "      <td>0.0</td>\n",
       "      <td>0.0</td>\n",
       "      <td>...</td>\n",
       "      <td>0.0</td>\n",
       "      <td>0.0</td>\n",
       "      <td>0.0</td>\n",
       "      <td>0.0</td>\n",
       "      <td>0.0</td>\n",
       "      <td>0.0</td>\n",
       "      <td>0.0</td>\n",
       "      <td>0.0</td>\n",
       "      <td>0.0</td>\n",
       "      <td>0.0</td>\n",
       "    </tr>\n",
       "    <tr>\n",
       "      <th>1</th>\n",
       "      <td>30000.00</td>\n",
       "      <td>59</td>\n",
       "      <td>5</td>\n",
       "      <td>4</td>\n",
       "      <td>0.0</td>\n",
       "      <td>0.0</td>\n",
       "      <td>0.0</td>\n",
       "      <td>0.0</td>\n",
       "      <td>0.0</td>\n",
       "      <td>0.0</td>\n",
       "      <td>...</td>\n",
       "      <td>0.0</td>\n",
       "      <td>0.0</td>\n",
       "      <td>0.0</td>\n",
       "      <td>0.0</td>\n",
       "      <td>0.0</td>\n",
       "      <td>0.0</td>\n",
       "      <td>0.0</td>\n",
       "      <td>0.0</td>\n",
       "      <td>0.0</td>\n",
       "      <td>1.0</td>\n",
       "    </tr>\n",
       "    <tr>\n",
       "      <th>2</th>\n",
       "      <td>45000.00</td>\n",
       "      <td>44</td>\n",
       "      <td>1</td>\n",
       "      <td>0</td>\n",
       "      <td>0.0</td>\n",
       "      <td>0.0</td>\n",
       "      <td>0.0</td>\n",
       "      <td>0.0</td>\n",
       "      <td>0.0</td>\n",
       "      <td>0.0</td>\n",
       "      <td>...</td>\n",
       "      <td>0.0</td>\n",
       "      <td>0.0</td>\n",
       "      <td>0.0</td>\n",
       "      <td>0.0</td>\n",
       "      <td>0.0</td>\n",
       "      <td>0.0</td>\n",
       "      <td>0.0</td>\n",
       "      <td>0.0</td>\n",
       "      <td>0.0</td>\n",
       "      <td>1.0</td>\n",
       "    </tr>\n",
       "    <tr>\n",
       "      <th>3</th>\n",
       "      <td>5000.00</td>\n",
       "      <td>29</td>\n",
       "      <td>0</td>\n",
       "      <td>4</td>\n",
       "      <td>0.0</td>\n",
       "      <td>0.0</td>\n",
       "      <td>0.0</td>\n",
       "      <td>0.0</td>\n",
       "      <td>0.0</td>\n",
       "      <td>0.0</td>\n",
       "      <td>...</td>\n",
       "      <td>0.0</td>\n",
       "      <td>0.0</td>\n",
       "      <td>0.0</td>\n",
       "      <td>0.0</td>\n",
       "      <td>0.0</td>\n",
       "      <td>0.0</td>\n",
       "      <td>0.0</td>\n",
       "      <td>0.0</td>\n",
       "      <td>0.0</td>\n",
       "      <td>1.0</td>\n",
       "    </tr>\n",
       "    <tr>\n",
       "      <th>4</th>\n",
       "      <td>19500.00</td>\n",
       "      <td>55</td>\n",
       "      <td>3</td>\n",
       "      <td>5</td>\n",
       "      <td>0.0</td>\n",
       "      <td>0.0</td>\n",
       "      <td>0.0</td>\n",
       "      <td>0.0</td>\n",
       "      <td>0.0</td>\n",
       "      <td>0.0</td>\n",
       "      <td>...</td>\n",
       "      <td>0.0</td>\n",
       "      <td>0.0</td>\n",
       "      <td>0.0</td>\n",
       "      <td>0.0</td>\n",
       "      <td>0.0</td>\n",
       "      <td>0.0</td>\n",
       "      <td>0.0</td>\n",
       "      <td>0.0</td>\n",
       "      <td>0.0</td>\n",
       "      <td>1.0</td>\n",
       "    </tr>\n",
       "    <tr>\n",
       "      <th>...</th>\n",
       "      <td>...</td>\n",
       "      <td>...</td>\n",
       "      <td>...</td>\n",
       "      <td>...</td>\n",
       "      <td>...</td>\n",
       "      <td>...</td>\n",
       "      <td>...</td>\n",
       "      <td>...</td>\n",
       "      <td>...</td>\n",
       "      <td>...</td>\n",
       "      <td>...</td>\n",
       "      <td>...</td>\n",
       "      <td>...</td>\n",
       "      <td>...</td>\n",
       "      <td>...</td>\n",
       "      <td>...</td>\n",
       "      <td>...</td>\n",
       "      <td>...</td>\n",
       "      <td>...</td>\n",
       "      <td>...</td>\n",
       "      <td>...</td>\n",
       "    </tr>\n",
       "    <tr>\n",
       "      <th>370112</th>\n",
       "      <td>2000.00</td>\n",
       "      <td>89</td>\n",
       "      <td>0</td>\n",
       "      <td>5</td>\n",
       "      <td>0.0</td>\n",
       "      <td>0.0</td>\n",
       "      <td>0.0</td>\n",
       "      <td>0.0</td>\n",
       "      <td>0.0</td>\n",
       "      <td>0.0</td>\n",
       "      <td>...</td>\n",
       "      <td>0.0</td>\n",
       "      <td>0.0</td>\n",
       "      <td>0.0</td>\n",
       "      <td>0.0</td>\n",
       "      <td>0.0</td>\n",
       "      <td>0.0</td>\n",
       "      <td>0.0</td>\n",
       "      <td>0.0</td>\n",
       "      <td>0.0</td>\n",
       "      <td>1.0</td>\n",
       "    </tr>\n",
       "    <tr>\n",
       "      <th>370113</th>\n",
       "      <td>20000.00</td>\n",
       "      <td>45</td>\n",
       "      <td>2</td>\n",
       "      <td>5</td>\n",
       "      <td>0.0</td>\n",
       "      <td>0.0</td>\n",
       "      <td>0.0</td>\n",
       "      <td>0.0</td>\n",
       "      <td>1.0</td>\n",
       "      <td>0.0</td>\n",
       "      <td>...</td>\n",
       "      <td>0.0</td>\n",
       "      <td>0.0</td>\n",
       "      <td>0.0</td>\n",
       "      <td>0.0</td>\n",
       "      <td>0.0</td>\n",
       "      <td>0.0</td>\n",
       "      <td>0.0</td>\n",
       "      <td>0.0</td>\n",
       "      <td>0.0</td>\n",
       "      <td>1.0</td>\n",
       "    </tr>\n",
       "    <tr>\n",
       "      <th>370114</th>\n",
       "      <td>5572.07</td>\n",
       "      <td>29</td>\n",
       "      <td>4</td>\n",
       "      <td>1</td>\n",
       "      <td>0.0</td>\n",
       "      <td>0.0</td>\n",
       "      <td>0.0</td>\n",
       "      <td>0.0</td>\n",
       "      <td>0.0</td>\n",
       "      <td>0.0</td>\n",
       "      <td>...</td>\n",
       "      <td>0.0</td>\n",
       "      <td>0.0</td>\n",
       "      <td>0.0</td>\n",
       "      <td>0.0</td>\n",
       "      <td>0.0</td>\n",
       "      <td>0.0</td>\n",
       "      <td>0.0</td>\n",
       "      <td>0.0</td>\n",
       "      <td>0.0</td>\n",
       "      <td>0.0</td>\n",
       "    </tr>\n",
       "    <tr>\n",
       "      <th>370115</th>\n",
       "      <td>1030.28</td>\n",
       "      <td>59</td>\n",
       "      <td>3</td>\n",
       "      <td>5</td>\n",
       "      <td>0.0</td>\n",
       "      <td>0.0</td>\n",
       "      <td>0.0</td>\n",
       "      <td>0.0</td>\n",
       "      <td>0.0</td>\n",
       "      <td>0.0</td>\n",
       "      <td>...</td>\n",
       "      <td>0.0</td>\n",
       "      <td>0.0</td>\n",
       "      <td>0.0</td>\n",
       "      <td>0.0</td>\n",
       "      <td>0.0</td>\n",
       "      <td>1.0</td>\n",
       "      <td>0.0</td>\n",
       "      <td>0.0</td>\n",
       "      <td>0.0</td>\n",
       "      <td>0.0</td>\n",
       "    </tr>\n",
       "    <tr>\n",
       "      <th>370116</th>\n",
       "      <td>16000.00</td>\n",
       "      <td>34</td>\n",
       "      <td>2</td>\n",
       "      <td>5</td>\n",
       "      <td>0.0</td>\n",
       "      <td>0.0</td>\n",
       "      <td>0.0</td>\n",
       "      <td>0.0</td>\n",
       "      <td>0.0</td>\n",
       "      <td>0.0</td>\n",
       "      <td>...</td>\n",
       "      <td>0.0</td>\n",
       "      <td>0.0</td>\n",
       "      <td>0.0</td>\n",
       "      <td>0.0</td>\n",
       "      <td>0.0</td>\n",
       "      <td>0.0</td>\n",
       "      <td>0.0</td>\n",
       "      <td>0.0</td>\n",
       "      <td>0.0</td>\n",
       "      <td>1.0</td>\n",
       "    </tr>\n",
       "  </tbody>\n",
       "</table>\n",
       "<p>370117 rows × 86 columns</p>\n",
       "</div>"
      ],
      "text/plain": [
       "        usd_goal_real  duration_days  new_feature_1  new_feature_2  \\\n",
       "0             1533.95             58              3              2   \n",
       "1            30000.00             59              5              4   \n",
       "2            45000.00             44              1              0   \n",
       "3             5000.00             29              0              4   \n",
       "4            19500.00             55              3              5   \n",
       "...               ...            ...            ...            ...   \n",
       "370112        2000.00             89              0              5   \n",
       "370113       20000.00             45              2              5   \n",
       "370114        5572.07             29              4              1   \n",
       "370115        1030.28             59              3              5   \n",
       "370116       16000.00             34              2              5   \n",
       "\n",
       "        category_Accessories  category_Apparel  category_Apps  category_Art  \\\n",
       "0                        0.0               0.0            0.0           0.0   \n",
       "1                        0.0               0.0            0.0           0.0   \n",
       "2                        0.0               0.0            0.0           0.0   \n",
       "3                        0.0               0.0            0.0           0.0   \n",
       "4                        0.0               0.0            0.0           0.0   \n",
       "...                      ...               ...            ...           ...   \n",
       "370112                   0.0               0.0            0.0           0.0   \n",
       "370113                   0.0               0.0            0.0           0.0   \n",
       "370114                   0.0               0.0            0.0           0.0   \n",
       "370115                   0.0               0.0            0.0           0.0   \n",
       "370116                   0.0               0.0            0.0           0.0   \n",
       "\n",
       "        category_Children's Books  category_Comic Books  ...  country_IT  \\\n",
       "0                             0.0                   0.0  ...         0.0   \n",
       "1                             0.0                   0.0  ...         0.0   \n",
       "2                             0.0                   0.0  ...         0.0   \n",
       "3                             0.0                   0.0  ...         0.0   \n",
       "4                             0.0                   0.0  ...         0.0   \n",
       "...                           ...                   ...  ...         ...   \n",
       "370112                        0.0                   0.0  ...         0.0   \n",
       "370113                        1.0                   0.0  ...         0.0   \n",
       "370114                        0.0                   0.0  ...         0.0   \n",
       "370115                        0.0                   0.0  ...         0.0   \n",
       "370116                        0.0                   0.0  ...         0.0   \n",
       "\n",
       "        country_JP  country_LU  country_MX  country_NL  country_NO  \\\n",
       "0              0.0         0.0         0.0         0.0         0.0   \n",
       "1              0.0         0.0         0.0         0.0         0.0   \n",
       "2              0.0         0.0         0.0         0.0         0.0   \n",
       "3              0.0         0.0         0.0         0.0         0.0   \n",
       "4              0.0         0.0         0.0         0.0         0.0   \n",
       "...            ...         ...         ...         ...         ...   \n",
       "370112         0.0         0.0         0.0         0.0         0.0   \n",
       "370113         0.0         0.0         0.0         0.0         0.0   \n",
       "370114         0.0         0.0         0.0         0.0         0.0   \n",
       "370115         0.0         0.0         0.0         0.0         1.0   \n",
       "370116         0.0         0.0         0.0         0.0         0.0   \n",
       "\n",
       "        country_NZ  country_SE  country_SG  country_US  \n",
       "0              0.0         0.0         0.0         0.0  \n",
       "1              0.0         0.0         0.0         1.0  \n",
       "2              0.0         0.0         0.0         1.0  \n",
       "3              0.0         0.0         0.0         1.0  \n",
       "4              0.0         0.0         0.0         1.0  \n",
       "...            ...         ...         ...         ...  \n",
       "370112         0.0         0.0         0.0         1.0  \n",
       "370113         0.0         0.0         0.0         1.0  \n",
       "370114         0.0         0.0         0.0         0.0  \n",
       "370115         0.0         0.0         0.0         0.0  \n",
       "370116         0.0         0.0         0.0         1.0  \n",
       "\n",
       "[370117 rows x 86 columns]"
      ]
     },
     "execution_count": 1991,
     "metadata": {},
     "output_type": "execute_result"
    }
   ],
   "source": [
    "X_xgb = X_xgb.drop(X_xgb.index[370117:]) # there are a lot of NaNs, delete them\n",
    "y_xgb = y_xgb.drop(y_xgb.index[370117:]) # there are a lot of NaNs, delete them\n",
    "X_xgb"
   ]
  },
  {
   "cell_type": "code",
   "execution_count": 1992,
   "metadata": {},
   "outputs": [],
   "source": [
    "# split dataset into train, test\n",
    "from sklearn.model_selection import train_test_split\n",
    "X_train_xgb, X_test_xgb, y_train_xgb, y_test_xgb = train_test_split(X_xgb, y_xgb, test_size=0.2, random_state=42)"
   ]
  },
  {
   "cell_type": "code",
   "execution_count": 1993,
   "metadata": {
    "scrolled": true
   },
   "outputs": [
    {
     "name": "stderr",
     "output_type": "stream",
     "text": [
      "<ipython-input-1993-ef2fd90c68ab>:6: SettingWithCopyWarning: \n",
      "A value is trying to be set on a copy of a slice from a DataFrame.\n",
      "Try using .loc[row_indexer,col_indexer] = value instead\n",
      "\n",
      "See the caveats in the documentation: https://pandas.pydata.org/pandas-docs/stable/user_guide/indexing.html#returning-a-view-versus-a-copy\n",
      "  X_train_xgb[num_features_xgb] = scaler.transform(X_train_xgb[num_features_xgb])\n",
      "C:\\Users\\kriku\\anaconda3\\lib\\site-packages\\pandas\\core\\indexing.py:966: SettingWithCopyWarning: \n",
      "A value is trying to be set on a copy of a slice from a DataFrame.\n",
      "Try using .loc[row_indexer,col_indexer] = value instead\n",
      "\n",
      "See the caveats in the documentation: https://pandas.pydata.org/pandas-docs/stable/user_guide/indexing.html#returning-a-view-versus-a-copy\n",
      "  self.obj[item] = s\n",
      "<ipython-input-1993-ef2fd90c68ab>:7: SettingWithCopyWarning: \n",
      "A value is trying to be set on a copy of a slice from a DataFrame.\n",
      "Try using .loc[row_indexer,col_indexer] = value instead\n",
      "\n",
      "See the caveats in the documentation: https://pandas.pydata.org/pandas-docs/stable/user_guide/indexing.html#returning-a-view-versus-a-copy\n",
      "  X_test_xgb[num_features_xgb] = scaler.transform(X_test_xgb[num_features_xgb])\n",
      "C:\\Users\\kriku\\anaconda3\\lib\\site-packages\\pandas\\core\\indexing.py:966: SettingWithCopyWarning: \n",
      "A value is trying to be set on a copy of a slice from a DataFrame.\n",
      "Try using .loc[row_indexer,col_indexer] = value instead\n",
      "\n",
      "See the caveats in the documentation: https://pandas.pydata.org/pandas-docs/stable/user_guide/indexing.html#returning-a-view-versus-a-copy\n",
      "  self.obj[item] = s\n"
     ]
    }
   ],
   "source": [
    "# scaling num features\n",
    "from sklearn.preprocessing import StandardScaler\n",
    "scaler = StandardScaler()\n",
    "\n",
    "scaler.fit(X_train_xgb[num_features_xgb])\n",
    "X_train_xgb[num_features_xgb] = scaler.transform(X_train_xgb[num_features_xgb])\n",
    "X_test_xgb[num_features_xgb] = scaler.transform(X_test_xgb[num_features_xgb])"
   ]
  },
  {
   "cell_type": "markdown",
   "metadata": {},
   "source": [
    "### Q5.2 Train an xgboost, that's beat random forest"
   ]
  },
  {
   "cell_type": "code",
   "execution_count": 1994,
   "metadata": {},
   "outputs": [
    {
     "name": "stdout",
     "output_type": "stream",
     "text": [
      "0.7\n"
     ]
    }
   ],
   "source": [
    "# train xgboost and chech it's accuracy_score\n",
    "from xgboost import XGBClassifier\n",
    "clf_xgb = XGBClassifier()\n",
    "\n",
    "clf_xgb.fit(X_train_xgb, y_train_xgb)\n",
    "y_pred_xgb = clf_xgb.predict(X_test_xgb)\n",
    "from sklearn.metrics import accuracy_score\n",
    "print(round(accuracy_score(y_test_xgb, y_pred_xgb),3))"
   ]
  },
  {
   "cell_type": "code",
   "execution_count": 1995,
   "metadata": {},
   "outputs": [
    {
     "name": "stdout",
     "output_type": "stream",
     "text": [
      "1st feature number =  main_category_Theater\n",
      "2nd feature number =  main_category_Comics\n"
     ]
    }
   ],
   "source": [
    "a = clf_xgb.feature_importances_\n",
    "max1 = np.argmax(a) # first max\n",
    "print('1st feature number = ',X_train.columns[max1])\n",
    "a[max1]=0\n",
    "max2 = np.argmax(a) # second max\n",
    "print('2nd feature number = ',X_train.columns[max2])"
   ]
  }
 ],
 "metadata": {
  "colab": {
   "name": "kickstarter.ipynb",
   "provenance": []
  },
  "kernelspec": {
   "display_name": "Python 3",
   "language": "python",
   "name": "python3"
  },
  "language_info": {
   "codemirror_mode": {
    "name": "ipython",
    "version": 3
   },
   "file_extension": ".py",
   "mimetype": "text/x-python",
   "name": "python",
   "nbconvert_exporter": "python",
   "pygments_lexer": "ipython3",
   "version": "3.8.5"
  }
 },
 "nbformat": 4,
 "nbformat_minor": 4
}
